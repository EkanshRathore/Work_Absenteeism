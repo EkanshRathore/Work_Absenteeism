{
 "cells": [
  {
   "cell_type": "markdown",
   "source": [
    "# Creating a Logistic Regression model for predicting absenteeism"
   ],
   "metadata": {
    "collapsed": false
   },
   "id": "75ad34215d1165ed"
  },
  {
   "cell_type": "markdown",
   "source": [
    "### Importing Libraries"
   ],
   "metadata": {
    "collapsed": false
   },
   "id": "f801d7b8b1f5490f"
  },
  {
   "cell_type": "code",
   "execution_count": 2,
   "id": "initial_id",
   "metadata": {
    "collapsed": true,
    "ExecuteTime": {
     "end_time": "2024-04-19T09:08:57.700532Z",
     "start_time": "2024-04-19T09:08:57.695328Z"
    }
   },
   "outputs": [],
   "source": [
    "import pandas as pd\n",
    "import numpy as np"
   ]
  },
  {
   "cell_type": "markdown",
   "source": [
    "### Load the Processed Data"
   ],
   "metadata": {
    "collapsed": false
   },
   "id": "196b6e0522b7e7b5"
  },
  {
   "cell_type": "code",
   "outputs": [],
   "source": [
    "processed_df = pd.read_csv('Processed_Absenteeism.csv')"
   ],
   "metadata": {
    "collapsed": false,
    "ExecuteTime": {
     "end_time": "2024-04-19T09:08:58.490836Z",
     "start_time": "2024-04-19T09:08:58.479141Z"
    }
   },
   "id": "3e8a3fc266a9499d",
   "execution_count": 3
  },
  {
   "cell_type": "code",
   "outputs": [
    {
     "data": {
      "text/plain": "     Category_1  Category_2  Category_3  Category_4  Month of absence  \\\n0           0.0         0.0         0.0         1.0               7.0   \n1           0.0         0.0         0.0         0.0               7.0   \n2           0.0         0.0         0.0         1.0               7.0   \n3           1.0         0.0         0.0         0.0               7.0   \n4           0.0         0.0         0.0         1.0               7.0   \n..          ...         ...         ...         ...               ...   \n634         1.0         0.0         0.0         0.0               7.0   \n635         1.0         0.0         0.0         0.0               7.0   \n636         0.0         0.0         0.0         0.0               0.0   \n637         0.0         0.0         0.0         0.0               0.0   \n638         0.0         0.0         0.0         0.0               0.0   \n\n     Day of the week  Seasons  Transportation expense  \\\n0                  3        1                   289.0   \n1                  3        1                   118.0   \n2                  4        1                   179.0   \n3                  5        1                   279.0   \n4                  5        1                   289.0   \n..               ...      ...                     ...   \n634                3        1                   289.0   \n635                3        1                   235.0   \n636                3        1                   118.0   \n637                4        2                   231.0   \n638                6        3                   179.0   \n\n     Distance from Residence to Work  Service time  ...  Disciplinary failure  \\\n0                               36.0          13.0  ...                   0.0   \n1                               13.0          18.0  ...                   1.0   \n2                               51.0          18.0  ...                   0.0   \n3                                5.0          14.0  ...                   0.0   \n4                               36.0          13.0  ...                   0.0   \n..                               ...           ...  ...                   ...   \n634                             36.0          13.0  ...                   0.0   \n635                             11.0          14.0  ...                   0.0   \n636                             14.0          13.0  ...                   0.0   \n637                             35.0          14.0  ...                   0.0   \n638                             45.0          14.0  ...                   0.0   \n\n     Education  Children  Social drinker  Social smoker  Pet  Weight  Height  \\\n0          0.0       2.0             1.0            0.0  1.0    90.0   172.0   \n1          0.0       1.0             1.0            0.0  0.0    98.0   178.0   \n2          0.0       0.0             1.0            0.0  0.0    89.0   170.0   \n3          0.0       2.0             1.0            1.0  0.0    68.0   168.0   \n4          0.0       2.0             1.0            0.0  1.0    90.0   172.0   \n..         ...       ...             ...            ...  ...     ...     ...   \n634        0.0       2.0             1.0            0.0  1.0    90.0   172.0   \n635        1.0       1.0             0.0            0.0  1.0    88.0   172.0   \n636        0.0       1.0             1.0            0.0  8.0    98.0   170.0   \n637        0.0       2.0             1.0            0.0  2.0   100.0   170.0   \n638        0.0       1.0             0.0            0.0  1.0    77.0   175.0   \n\n     Body mass index  Absenteeism time in hours  \n0               30.0                        4.0  \n1               31.0                        0.0  \n2               31.0                        2.0  \n3               24.0                        4.0  \n4               30.0                        2.0  \n..               ...                        ...  \n634             30.0                        8.0  \n635             29.0                        4.0  \n636             34.0                        0.0  \n637             35.0                        0.0  \n638             25.0                        0.0  \n\n[639 rows x 23 columns]",
      "text/html": "<div>\n<style scoped>\n    .dataframe tbody tr th:only-of-type {\n        vertical-align: middle;\n    }\n\n    .dataframe tbody tr th {\n        vertical-align: top;\n    }\n\n    .dataframe thead th {\n        text-align: right;\n    }\n</style>\n<table border=\"1\" class=\"dataframe\">\n  <thead>\n    <tr style=\"text-align: right;\">\n      <th></th>\n      <th>Category_1</th>\n      <th>Category_2</th>\n      <th>Category_3</th>\n      <th>Category_4</th>\n      <th>Month of absence</th>\n      <th>Day of the week</th>\n      <th>Seasons</th>\n      <th>Transportation expense</th>\n      <th>Distance from Residence to Work</th>\n      <th>Service time</th>\n      <th>...</th>\n      <th>Disciplinary failure</th>\n      <th>Education</th>\n      <th>Children</th>\n      <th>Social drinker</th>\n      <th>Social smoker</th>\n      <th>Pet</th>\n      <th>Weight</th>\n      <th>Height</th>\n      <th>Body mass index</th>\n      <th>Absenteeism time in hours</th>\n    </tr>\n  </thead>\n  <tbody>\n    <tr>\n      <th>0</th>\n      <td>0.0</td>\n      <td>0.0</td>\n      <td>0.0</td>\n      <td>1.0</td>\n      <td>7.0</td>\n      <td>3</td>\n      <td>1</td>\n      <td>289.0</td>\n      <td>36.0</td>\n      <td>13.0</td>\n      <td>...</td>\n      <td>0.0</td>\n      <td>0.0</td>\n      <td>2.0</td>\n      <td>1.0</td>\n      <td>0.0</td>\n      <td>1.0</td>\n      <td>90.0</td>\n      <td>172.0</td>\n      <td>30.0</td>\n      <td>4.0</td>\n    </tr>\n    <tr>\n      <th>1</th>\n      <td>0.0</td>\n      <td>0.0</td>\n      <td>0.0</td>\n      <td>0.0</td>\n      <td>7.0</td>\n      <td>3</td>\n      <td>1</td>\n      <td>118.0</td>\n      <td>13.0</td>\n      <td>18.0</td>\n      <td>...</td>\n      <td>1.0</td>\n      <td>0.0</td>\n      <td>1.0</td>\n      <td>1.0</td>\n      <td>0.0</td>\n      <td>0.0</td>\n      <td>98.0</td>\n      <td>178.0</td>\n      <td>31.0</td>\n      <td>0.0</td>\n    </tr>\n    <tr>\n      <th>2</th>\n      <td>0.0</td>\n      <td>0.0</td>\n      <td>0.0</td>\n      <td>1.0</td>\n      <td>7.0</td>\n      <td>4</td>\n      <td>1</td>\n      <td>179.0</td>\n      <td>51.0</td>\n      <td>18.0</td>\n      <td>...</td>\n      <td>0.0</td>\n      <td>0.0</td>\n      <td>0.0</td>\n      <td>1.0</td>\n      <td>0.0</td>\n      <td>0.0</td>\n      <td>89.0</td>\n      <td>170.0</td>\n      <td>31.0</td>\n      <td>2.0</td>\n    </tr>\n    <tr>\n      <th>3</th>\n      <td>1.0</td>\n      <td>0.0</td>\n      <td>0.0</td>\n      <td>0.0</td>\n      <td>7.0</td>\n      <td>5</td>\n      <td>1</td>\n      <td>279.0</td>\n      <td>5.0</td>\n      <td>14.0</td>\n      <td>...</td>\n      <td>0.0</td>\n      <td>0.0</td>\n      <td>2.0</td>\n      <td>1.0</td>\n      <td>1.0</td>\n      <td>0.0</td>\n      <td>68.0</td>\n      <td>168.0</td>\n      <td>24.0</td>\n      <td>4.0</td>\n    </tr>\n    <tr>\n      <th>4</th>\n      <td>0.0</td>\n      <td>0.0</td>\n      <td>0.0</td>\n      <td>1.0</td>\n      <td>7.0</td>\n      <td>5</td>\n      <td>1</td>\n      <td>289.0</td>\n      <td>36.0</td>\n      <td>13.0</td>\n      <td>...</td>\n      <td>0.0</td>\n      <td>0.0</td>\n      <td>2.0</td>\n      <td>1.0</td>\n      <td>0.0</td>\n      <td>1.0</td>\n      <td>90.0</td>\n      <td>172.0</td>\n      <td>30.0</td>\n      <td>2.0</td>\n    </tr>\n    <tr>\n      <th>...</th>\n      <td>...</td>\n      <td>...</td>\n      <td>...</td>\n      <td>...</td>\n      <td>...</td>\n      <td>...</td>\n      <td>...</td>\n      <td>...</td>\n      <td>...</td>\n      <td>...</td>\n      <td>...</td>\n      <td>...</td>\n      <td>...</td>\n      <td>...</td>\n      <td>...</td>\n      <td>...</td>\n      <td>...</td>\n      <td>...</td>\n      <td>...</td>\n      <td>...</td>\n      <td>...</td>\n    </tr>\n    <tr>\n      <th>634</th>\n      <td>1.0</td>\n      <td>0.0</td>\n      <td>0.0</td>\n      <td>0.0</td>\n      <td>7.0</td>\n      <td>3</td>\n      <td>1</td>\n      <td>289.0</td>\n      <td>36.0</td>\n      <td>13.0</td>\n      <td>...</td>\n      <td>0.0</td>\n      <td>0.0</td>\n      <td>2.0</td>\n      <td>1.0</td>\n      <td>0.0</td>\n      <td>1.0</td>\n      <td>90.0</td>\n      <td>172.0</td>\n      <td>30.0</td>\n      <td>8.0</td>\n    </tr>\n    <tr>\n      <th>635</th>\n      <td>1.0</td>\n      <td>0.0</td>\n      <td>0.0</td>\n      <td>0.0</td>\n      <td>7.0</td>\n      <td>3</td>\n      <td>1</td>\n      <td>235.0</td>\n      <td>11.0</td>\n      <td>14.0</td>\n      <td>...</td>\n      <td>0.0</td>\n      <td>1.0</td>\n      <td>1.0</td>\n      <td>0.0</td>\n      <td>0.0</td>\n      <td>1.0</td>\n      <td>88.0</td>\n      <td>172.0</td>\n      <td>29.0</td>\n      <td>4.0</td>\n    </tr>\n    <tr>\n      <th>636</th>\n      <td>0.0</td>\n      <td>0.0</td>\n      <td>0.0</td>\n      <td>0.0</td>\n      <td>0.0</td>\n      <td>3</td>\n      <td>1</td>\n      <td>118.0</td>\n      <td>14.0</td>\n      <td>13.0</td>\n      <td>...</td>\n      <td>0.0</td>\n      <td>0.0</td>\n      <td>1.0</td>\n      <td>1.0</td>\n      <td>0.0</td>\n      <td>8.0</td>\n      <td>98.0</td>\n      <td>170.0</td>\n      <td>34.0</td>\n      <td>0.0</td>\n    </tr>\n    <tr>\n      <th>637</th>\n      <td>0.0</td>\n      <td>0.0</td>\n      <td>0.0</td>\n      <td>0.0</td>\n      <td>0.0</td>\n      <td>4</td>\n      <td>2</td>\n      <td>231.0</td>\n      <td>35.0</td>\n      <td>14.0</td>\n      <td>...</td>\n      <td>0.0</td>\n      <td>0.0</td>\n      <td>2.0</td>\n      <td>1.0</td>\n      <td>0.0</td>\n      <td>2.0</td>\n      <td>100.0</td>\n      <td>170.0</td>\n      <td>35.0</td>\n      <td>0.0</td>\n    </tr>\n    <tr>\n      <th>638</th>\n      <td>0.0</td>\n      <td>0.0</td>\n      <td>0.0</td>\n      <td>0.0</td>\n      <td>0.0</td>\n      <td>6</td>\n      <td>3</td>\n      <td>179.0</td>\n      <td>45.0</td>\n      <td>14.0</td>\n      <td>...</td>\n      <td>0.0</td>\n      <td>0.0</td>\n      <td>1.0</td>\n      <td>0.0</td>\n      <td>0.0</td>\n      <td>1.0</td>\n      <td>77.0</td>\n      <td>175.0</td>\n      <td>25.0</td>\n      <td>0.0</td>\n    </tr>\n  </tbody>\n</table>\n<p>639 rows × 23 columns</p>\n</div>"
     },
     "execution_count": 4,
     "metadata": {},
     "output_type": "execute_result"
    }
   ],
   "source": [
    "processed_df"
   ],
   "metadata": {
    "collapsed": false,
    "ExecuteTime": {
     "end_time": "2024-04-19T09:08:58.567995Z",
     "start_time": "2024-04-19T09:08:58.525698Z"
    }
   },
   "id": "f10f22686f638a08",
   "execution_count": 4
  },
  {
   "cell_type": "markdown",
   "source": [
    "### Creating targets"
   ],
   "metadata": {
    "collapsed": false
   },
   "id": "c76a59fe000f5f30"
  },
  {
   "cell_type": "markdown",
   "source": [
    "#### We are creating 2 Classes of Data which will show us Excessive Absenteeism\n",
    "- If the number is less than or equal to 3 it wil show Normal Absenteeism.\n",
    "- If the number is greater than 3 and equal to 4 it will show Excessive Absenteeism."
   ],
   "metadata": {
    "collapsed": false
   },
   "id": "9a8bdd17b269e80d"
  },
  {
   "cell_type": "code",
   "outputs": [
    {
     "data": {
      "text/plain": "3.0"
     },
     "execution_count": 5,
     "metadata": {},
     "output_type": "execute_result"
    }
   ],
   "source": [
    "processed_df['Absenteeism time in hours'].median()"
   ],
   "metadata": {
    "collapsed": false,
    "ExecuteTime": {
     "end_time": "2024-04-19T09:08:58.618859Z",
     "start_time": "2024-04-19T09:08:58.609187Z"
    }
   },
   "id": "a60be04ec244371d",
   "execution_count": 5
  },
  {
   "cell_type": "code",
   "outputs": [],
   "source": [
    "#We have distinguished the 2 targets by using the numpy (where) function.\n",
    "# The syntax is as follows np.where(condition,if true then value , if false then value)\n",
    "targets = np.where(processed_df['Absenteeism time in hours'] > processed_df['Absenteeism time in hours'].median(),1,0)"
   ],
   "metadata": {
    "collapsed": false,
    "ExecuteTime": {
     "end_time": "2024-04-19T09:08:58.678871Z",
     "start_time": "2024-04-19T09:08:58.672135Z"
    }
   },
   "id": "a642e61caf9aacbe",
   "execution_count": 6
  },
  {
   "cell_type": "code",
   "outputs": [
    {
     "data": {
      "text/plain": "array([1, 0, 0, 1, 0, 1, 1, 1, 1, 1, 1, 0, 1, 1, 0, 0, 1, 1, 1, 0, 1, 0,\n       1, 1, 0, 0, 1, 1, 1, 0, 1, 0, 0, 1, 0, 0, 0, 0, 1, 0, 0, 0, 0, 0,\n       1, 1, 0, 1, 0, 0, 1, 1, 1, 0, 0, 0, 0, 0, 1, 0, 0, 1, 0, 1, 1, 0,\n       0, 0, 0, 0, 0, 1, 0, 0, 0, 1, 1, 0, 1, 0, 1, 1, 1, 0, 0, 1, 0, 1,\n       1, 0, 1, 0, 0, 1, 1, 1, 1, 1, 1, 1, 1, 0, 1, 1, 0, 1, 0, 1, 1, 0,\n       1, 0, 0, 0, 0, 0, 0, 1, 0, 0, 1, 1, 0, 0, 1, 0, 1, 1, 1, 1, 1, 1,\n       0, 0, 1, 0, 0, 1, 1, 1, 0, 0, 1, 0, 0, 0, 0, 1, 1, 1, 1, 1, 1, 1,\n       1, 1, 0, 1, 1, 0, 0, 0, 1, 1, 1, 1, 1, 1, 0, 1, 1, 0, 1, 1, 1, 1,\n       1, 0, 1, 0, 0, 1, 0, 0, 1, 1, 0, 1, 0, 0, 0, 0, 0, 1, 0, 0, 0, 1,\n       1, 0, 1, 1, 1, 0, 0, 0, 1, 1, 1, 1, 1, 1, 0, 0, 1, 0, 1, 0, 1, 0,\n       1, 0, 0, 0, 0, 1, 1, 0, 1, 0, 0, 1, 1, 0, 1, 0, 1, 0, 0, 1, 1, 0,\n       0, 0, 0, 0, 1, 1, 1, 0, 1, 1, 0, 1, 0, 0, 0, 0, 0, 0, 1, 1, 0, 0,\n       0, 1, 0, 1, 1, 1, 0, 0, 1, 1, 1, 0, 0, 1, 1, 1, 1, 1, 0, 0, 0, 0,\n       0, 0, 0, 0, 1, 1, 0, 0, 0, 0, 1, 0, 0, 1, 0, 0, 1, 1, 0, 1, 0, 1,\n       1, 1, 0, 1, 0, 0, 1, 0, 0, 1, 1, 1, 0, 1, 0, 1, 1, 1, 1, 1, 0, 1,\n       1, 1, 1, 0, 1, 0, 1, 0, 1, 0, 0, 0, 0, 1, 0, 1, 0, 0, 1, 0, 0, 0,\n       0, 1, 1, 0, 1, 1, 0, 1, 1, 0, 0, 0, 1, 0, 0, 0, 1, 0, 1, 1, 1, 1,\n       1, 1, 1, 1, 0, 0, 1, 0, 0, 1, 1, 1, 0, 0, 0, 1, 0, 1, 1, 1, 1, 1,\n       1, 1, 1, 1, 0, 1, 0, 0, 0, 0, 0, 0, 0, 1, 0, 1, 0, 1, 0, 0, 0, 0,\n       0, 0, 0, 1, 1, 0, 0, 0, 1, 0, 1, 0, 1, 1, 1, 0, 0, 0, 0, 1, 0, 1,\n       1, 1, 1, 1, 0, 0, 0, 0, 1, 1, 0, 0, 0, 1, 0, 0, 0, 0, 0, 0, 1, 0,\n       1, 1, 1, 0, 0, 0, 1, 1, 1, 0, 0, 0, 0, 1, 0, 0, 1, 0, 0, 1, 0, 0,\n       1, 0, 1, 0, 0, 0, 0, 0, 0, 0, 0, 1, 0, 0, 0, 0, 0, 0, 0, 0, 0, 1,\n       0, 1, 0, 0, 0, 0, 0, 0, 0, 0, 0, 0, 0, 0, 0, 1, 0, 0, 0, 0, 0, 0,\n       1, 1, 0, 0, 0, 1, 0, 0, 1, 0, 1, 0, 0, 0, 0, 0, 0, 0, 1, 1, 0, 0,\n       0, 1, 1, 1, 1, 1, 1, 1, 0, 1, 0, 0, 0, 0, 1, 0, 1, 0, 0, 1, 1, 0,\n       0, 1, 0, 0, 0, 1, 0, 0, 1, 1, 1, 0, 0, 0, 0, 0, 0, 0, 0, 1, 1, 1,\n       1, 0, 1, 0, 0, 0, 1, 0, 1, 1, 0, 1, 0, 1, 1, 1, 1, 1, 0, 0, 0, 0,\n       0, 0, 0, 0, 1, 0, 0, 0, 1, 0, 1, 1, 1, 1, 0, 1, 1, 1, 1, 1, 0, 0,\n       0])"
     },
     "execution_count": 7,
     "metadata": {},
     "output_type": "execute_result"
    }
   ],
   "source": [
    "targets"
   ],
   "metadata": {
    "collapsed": false,
    "ExecuteTime": {
     "end_time": "2024-04-19T09:08:58.820190Z",
     "start_time": "2024-04-19T09:08:58.800897Z"
    }
   },
   "id": "2bfa63bd60658901",
   "execution_count": 7
  },
  {
   "cell_type": "code",
   "outputs": [],
   "source": [
    "processed_df['Excessive Absenteeism'] = targets"
   ],
   "metadata": {
    "collapsed": false,
    "ExecuteTime": {
     "end_time": "2024-04-19T09:08:59.030135Z",
     "start_time": "2024-04-19T09:08:59.025240Z"
    }
   },
   "id": "39d0795d22b2a24d",
   "execution_count": 8
  },
  {
   "cell_type": "code",
   "outputs": [
    {
     "data": {
      "text/plain": "   Category_1  Category_2  Category_3  Category_4  Month of absence  \\\n0         0.0         0.0         0.0         1.0               7.0   \n1         0.0         0.0         0.0         0.0               7.0   \n2         0.0         0.0         0.0         1.0               7.0   \n3         1.0         0.0         0.0         0.0               7.0   \n4         0.0         0.0         0.0         1.0               7.0   \n\n   Day of the week  Seasons  Transportation expense  \\\n0                3        1                   289.0   \n1                3        1                   118.0   \n2                4        1                   179.0   \n3                5        1                   279.0   \n4                5        1                   289.0   \n\n   Distance from Residence to Work  Service time  ...  Education  Children  \\\n0                             36.0          13.0  ...        0.0       2.0   \n1                             13.0          18.0  ...        0.0       1.0   \n2                             51.0          18.0  ...        0.0       0.0   \n3                              5.0          14.0  ...        0.0       2.0   \n4                             36.0          13.0  ...        0.0       2.0   \n\n   Social drinker  Social smoker  Pet  Weight  Height  Body mass index  \\\n0             1.0            0.0  1.0    90.0   172.0             30.0   \n1             1.0            0.0  0.0    98.0   178.0             31.0   \n2             1.0            0.0  0.0    89.0   170.0             31.0   \n3             1.0            1.0  0.0    68.0   168.0             24.0   \n4             1.0            0.0  1.0    90.0   172.0             30.0   \n\n   Absenteeism time in hours  Excessive Absenteeism  \n0                        4.0                      1  \n1                        0.0                      0  \n2                        2.0                      0  \n3                        4.0                      1  \n4                        2.0                      0  \n\n[5 rows x 24 columns]",
      "text/html": "<div>\n<style scoped>\n    .dataframe tbody tr th:only-of-type {\n        vertical-align: middle;\n    }\n\n    .dataframe tbody tr th {\n        vertical-align: top;\n    }\n\n    .dataframe thead th {\n        text-align: right;\n    }\n</style>\n<table border=\"1\" class=\"dataframe\">\n  <thead>\n    <tr style=\"text-align: right;\">\n      <th></th>\n      <th>Category_1</th>\n      <th>Category_2</th>\n      <th>Category_3</th>\n      <th>Category_4</th>\n      <th>Month of absence</th>\n      <th>Day of the week</th>\n      <th>Seasons</th>\n      <th>Transportation expense</th>\n      <th>Distance from Residence to Work</th>\n      <th>Service time</th>\n      <th>...</th>\n      <th>Education</th>\n      <th>Children</th>\n      <th>Social drinker</th>\n      <th>Social smoker</th>\n      <th>Pet</th>\n      <th>Weight</th>\n      <th>Height</th>\n      <th>Body mass index</th>\n      <th>Absenteeism time in hours</th>\n      <th>Excessive Absenteeism</th>\n    </tr>\n  </thead>\n  <tbody>\n    <tr>\n      <th>0</th>\n      <td>0.0</td>\n      <td>0.0</td>\n      <td>0.0</td>\n      <td>1.0</td>\n      <td>7.0</td>\n      <td>3</td>\n      <td>1</td>\n      <td>289.0</td>\n      <td>36.0</td>\n      <td>13.0</td>\n      <td>...</td>\n      <td>0.0</td>\n      <td>2.0</td>\n      <td>1.0</td>\n      <td>0.0</td>\n      <td>1.0</td>\n      <td>90.0</td>\n      <td>172.0</td>\n      <td>30.0</td>\n      <td>4.0</td>\n      <td>1</td>\n    </tr>\n    <tr>\n      <th>1</th>\n      <td>0.0</td>\n      <td>0.0</td>\n      <td>0.0</td>\n      <td>0.0</td>\n      <td>7.0</td>\n      <td>3</td>\n      <td>1</td>\n      <td>118.0</td>\n      <td>13.0</td>\n      <td>18.0</td>\n      <td>...</td>\n      <td>0.0</td>\n      <td>1.0</td>\n      <td>1.0</td>\n      <td>0.0</td>\n      <td>0.0</td>\n      <td>98.0</td>\n      <td>178.0</td>\n      <td>31.0</td>\n      <td>0.0</td>\n      <td>0</td>\n    </tr>\n    <tr>\n      <th>2</th>\n      <td>0.0</td>\n      <td>0.0</td>\n      <td>0.0</td>\n      <td>1.0</td>\n      <td>7.0</td>\n      <td>4</td>\n      <td>1</td>\n      <td>179.0</td>\n      <td>51.0</td>\n      <td>18.0</td>\n      <td>...</td>\n      <td>0.0</td>\n      <td>0.0</td>\n      <td>1.0</td>\n      <td>0.0</td>\n      <td>0.0</td>\n      <td>89.0</td>\n      <td>170.0</td>\n      <td>31.0</td>\n      <td>2.0</td>\n      <td>0</td>\n    </tr>\n    <tr>\n      <th>3</th>\n      <td>1.0</td>\n      <td>0.0</td>\n      <td>0.0</td>\n      <td>0.0</td>\n      <td>7.0</td>\n      <td>5</td>\n      <td>1</td>\n      <td>279.0</td>\n      <td>5.0</td>\n      <td>14.0</td>\n      <td>...</td>\n      <td>0.0</td>\n      <td>2.0</td>\n      <td>1.0</td>\n      <td>1.0</td>\n      <td>0.0</td>\n      <td>68.0</td>\n      <td>168.0</td>\n      <td>24.0</td>\n      <td>4.0</td>\n      <td>1</td>\n    </tr>\n    <tr>\n      <th>4</th>\n      <td>0.0</td>\n      <td>0.0</td>\n      <td>0.0</td>\n      <td>1.0</td>\n      <td>7.0</td>\n      <td>5</td>\n      <td>1</td>\n      <td>289.0</td>\n      <td>36.0</td>\n      <td>13.0</td>\n      <td>...</td>\n      <td>0.0</td>\n      <td>2.0</td>\n      <td>1.0</td>\n      <td>0.0</td>\n      <td>1.0</td>\n      <td>90.0</td>\n      <td>172.0</td>\n      <td>30.0</td>\n      <td>2.0</td>\n      <td>0</td>\n    </tr>\n  </tbody>\n</table>\n<p>5 rows × 24 columns</p>\n</div>"
     },
     "execution_count": 9,
     "metadata": {},
     "output_type": "execute_result"
    }
   ],
   "source": [
    "processed_df.head()"
   ],
   "metadata": {
    "collapsed": false,
    "ExecuteTime": {
     "end_time": "2024-04-19T09:08:59.298725Z",
     "start_time": "2024-04-19T09:08:59.267962Z"
    }
   },
   "id": "24772ce7a0090f28",
   "execution_count": 9
  },
  {
   "cell_type": "code",
   "outputs": [
    {
     "data": {
      "text/plain": "0.4569640062597809"
     },
     "execution_count": 10,
     "metadata": {},
     "output_type": "execute_result"
    }
   ],
   "source": [
    "#Here we are checking the target split of the values present in our table of Excessive Absenteeism\n",
    "targets.sum() / targets.shape[0]"
   ],
   "metadata": {
    "collapsed": false,
    "ExecuteTime": {
     "end_time": "2024-04-19T09:08:59.404464Z",
     "start_time": "2024-04-19T09:08:59.396784Z"
    }
   },
   "id": "40bd87777bc6ddd5",
   "execution_count": 10
  },
  {
   "cell_type": "code",
   "outputs": [
    {
     "name": "stdout",
     "output_type": "stream",
     "text": [
      "Total Employee count = 639\n",
      "Employees who Moderately Absent = 45.70%\n",
      "Employees who are not Moderately Absent = 54.30%\n"
     ]
    }
   ],
   "source": [
    "Moderately_Absent = (targets.sum() / targets.shape[0]) * 100\n",
    "Excessively_Absent = (100 - Moderately_Absent)\n",
    "\n",
    "print(f'Total Employee count = {len(processed_df)}')\n",
    "print(f'Employees who Moderately Absent = {Moderately_Absent:.2f}%')\n",
    "print(f'Employees who are not Moderately Absent = {Excessively_Absent:.2f}%')"
   ],
   "metadata": {
    "collapsed": false,
    "ExecuteTime": {
     "end_time": "2024-04-19T09:08:59.478476Z",
     "start_time": "2024-04-19T09:08:59.471742Z"
    }
   },
   "id": "5548e7b256d0b33a",
   "execution_count": 11
  },
  {
   "cell_type": "markdown",
   "source": [
    "As we get the 45% to 55 % split we are using Logistic Regression for our Dataset"
   ],
   "metadata": {
    "collapsed": false
   },
   "id": "c7d4a85d9989266c"
  },
  {
   "cell_type": "code",
   "outputs": [],
   "source": [
    "# Creating another checkpoint\n",
    "# Removing the Absenteeism in Hours Column from the Dataframe\n",
    "target_data = processed_df.drop(['Absenteeism time in hours'],axis=1)"
   ],
   "metadata": {
    "collapsed": false,
    "ExecuteTime": {
     "end_time": "2024-04-19T09:08:59.588546Z",
     "start_time": "2024-04-19T09:08:59.583146Z"
    }
   },
   "id": "ef82c592214eac4",
   "execution_count": 12
  },
  {
   "cell_type": "code",
   "outputs": [
    {
     "data": {
      "text/plain": "   Category_1  Category_2  Category_3  Category_4  Month of absence  \\\n0         0.0         0.0         0.0         1.0               7.0   \n1         0.0         0.0         0.0         0.0               7.0   \n2         0.0         0.0         0.0         1.0               7.0   \n3         1.0         0.0         0.0         0.0               7.0   \n4         0.0         0.0         0.0         1.0               7.0   \n\n   Day of the week  Seasons  Transportation expense  \\\n0                3        1                   289.0   \n1                3        1                   118.0   \n2                4        1                   179.0   \n3                5        1                   279.0   \n4                5        1                   289.0   \n\n   Distance from Residence to Work  Service time  ...  Disciplinary failure  \\\n0                             36.0          13.0  ...                   0.0   \n1                             13.0          18.0  ...                   1.0   \n2                             51.0          18.0  ...                   0.0   \n3                              5.0          14.0  ...                   0.0   \n4                             36.0          13.0  ...                   0.0   \n\n   Education  Children  Social drinker  Social smoker  Pet  Weight  Height  \\\n0        0.0       2.0             1.0            0.0  1.0    90.0   172.0   \n1        0.0       1.0             1.0            0.0  0.0    98.0   178.0   \n2        0.0       0.0             1.0            0.0  0.0    89.0   170.0   \n3        0.0       2.0             1.0            1.0  0.0    68.0   168.0   \n4        0.0       2.0             1.0            0.0  1.0    90.0   172.0   \n\n   Body mass index  Excessive Absenteeism  \n0             30.0                      1  \n1             31.0                      0  \n2             31.0                      0  \n3             24.0                      1  \n4             30.0                      0  \n\n[5 rows x 23 columns]",
      "text/html": "<div>\n<style scoped>\n    .dataframe tbody tr th:only-of-type {\n        vertical-align: middle;\n    }\n\n    .dataframe tbody tr th {\n        vertical-align: top;\n    }\n\n    .dataframe thead th {\n        text-align: right;\n    }\n</style>\n<table border=\"1\" class=\"dataframe\">\n  <thead>\n    <tr style=\"text-align: right;\">\n      <th></th>\n      <th>Category_1</th>\n      <th>Category_2</th>\n      <th>Category_3</th>\n      <th>Category_4</th>\n      <th>Month of absence</th>\n      <th>Day of the week</th>\n      <th>Seasons</th>\n      <th>Transportation expense</th>\n      <th>Distance from Residence to Work</th>\n      <th>Service time</th>\n      <th>...</th>\n      <th>Disciplinary failure</th>\n      <th>Education</th>\n      <th>Children</th>\n      <th>Social drinker</th>\n      <th>Social smoker</th>\n      <th>Pet</th>\n      <th>Weight</th>\n      <th>Height</th>\n      <th>Body mass index</th>\n      <th>Excessive Absenteeism</th>\n    </tr>\n  </thead>\n  <tbody>\n    <tr>\n      <th>0</th>\n      <td>0.0</td>\n      <td>0.0</td>\n      <td>0.0</td>\n      <td>1.0</td>\n      <td>7.0</td>\n      <td>3</td>\n      <td>1</td>\n      <td>289.0</td>\n      <td>36.0</td>\n      <td>13.0</td>\n      <td>...</td>\n      <td>0.0</td>\n      <td>0.0</td>\n      <td>2.0</td>\n      <td>1.0</td>\n      <td>0.0</td>\n      <td>1.0</td>\n      <td>90.0</td>\n      <td>172.0</td>\n      <td>30.0</td>\n      <td>1</td>\n    </tr>\n    <tr>\n      <th>1</th>\n      <td>0.0</td>\n      <td>0.0</td>\n      <td>0.0</td>\n      <td>0.0</td>\n      <td>7.0</td>\n      <td>3</td>\n      <td>1</td>\n      <td>118.0</td>\n      <td>13.0</td>\n      <td>18.0</td>\n      <td>...</td>\n      <td>1.0</td>\n      <td>0.0</td>\n      <td>1.0</td>\n      <td>1.0</td>\n      <td>0.0</td>\n      <td>0.0</td>\n      <td>98.0</td>\n      <td>178.0</td>\n      <td>31.0</td>\n      <td>0</td>\n    </tr>\n    <tr>\n      <th>2</th>\n      <td>0.0</td>\n      <td>0.0</td>\n      <td>0.0</td>\n      <td>1.0</td>\n      <td>7.0</td>\n      <td>4</td>\n      <td>1</td>\n      <td>179.0</td>\n      <td>51.0</td>\n      <td>18.0</td>\n      <td>...</td>\n      <td>0.0</td>\n      <td>0.0</td>\n      <td>0.0</td>\n      <td>1.0</td>\n      <td>0.0</td>\n      <td>0.0</td>\n      <td>89.0</td>\n      <td>170.0</td>\n      <td>31.0</td>\n      <td>0</td>\n    </tr>\n    <tr>\n      <th>3</th>\n      <td>1.0</td>\n      <td>0.0</td>\n      <td>0.0</td>\n      <td>0.0</td>\n      <td>7.0</td>\n      <td>5</td>\n      <td>1</td>\n      <td>279.0</td>\n      <td>5.0</td>\n      <td>14.0</td>\n      <td>...</td>\n      <td>0.0</td>\n      <td>0.0</td>\n      <td>2.0</td>\n      <td>1.0</td>\n      <td>1.0</td>\n      <td>0.0</td>\n      <td>68.0</td>\n      <td>168.0</td>\n      <td>24.0</td>\n      <td>1</td>\n    </tr>\n    <tr>\n      <th>4</th>\n      <td>0.0</td>\n      <td>0.0</td>\n      <td>0.0</td>\n      <td>1.0</td>\n      <td>7.0</td>\n      <td>5</td>\n      <td>1</td>\n      <td>289.0</td>\n      <td>36.0</td>\n      <td>13.0</td>\n      <td>...</td>\n      <td>0.0</td>\n      <td>0.0</td>\n      <td>2.0</td>\n      <td>1.0</td>\n      <td>0.0</td>\n      <td>1.0</td>\n      <td>90.0</td>\n      <td>172.0</td>\n      <td>30.0</td>\n      <td>0</td>\n    </tr>\n  </tbody>\n</table>\n<p>5 rows × 23 columns</p>\n</div>"
     },
     "execution_count": 13,
     "metadata": {},
     "output_type": "execute_result"
    }
   ],
   "source": [
    "target_data.head()"
   ],
   "metadata": {
    "collapsed": false,
    "ExecuteTime": {
     "end_time": "2024-04-19T09:08:59.696386Z",
     "start_time": "2024-04-19T09:08:59.669090Z"
    }
   },
   "id": "a88d2517c215697d",
   "execution_count": 13
  },
  {
   "cell_type": "markdown",
   "source": [
    "### Selecting the Inputs for our Data"
   ],
   "metadata": {
    "collapsed": false
   },
   "id": "b068bbb9a4ad01a8"
  },
  {
   "cell_type": "code",
   "outputs": [
    {
     "data": {
      "text/plain": "(639, 23)"
     },
     "execution_count": 14,
     "metadata": {},
     "output_type": "execute_result"
    }
   ],
   "source": [
    "target_data.shape"
   ],
   "metadata": {
    "collapsed": false,
    "ExecuteTime": {
     "end_time": "2024-04-19T09:08:59.895918Z",
     "start_time": "2024-04-19T09:08:59.887512Z"
    }
   },
   "id": "ec97214ead5895e2",
   "execution_count": 14
  },
  {
   "cell_type": "code",
   "outputs": [
    {
     "data": {
      "text/plain": "     Category_1  Category_2  Category_3  Category_4  Month of absence  \\\n0           0.0         0.0         0.0         1.0               7.0   \n1           0.0         0.0         0.0         0.0               7.0   \n2           0.0         0.0         0.0         1.0               7.0   \n3           1.0         0.0         0.0         0.0               7.0   \n4           0.0         0.0         0.0         1.0               7.0   \n..          ...         ...         ...         ...               ...   \n634         1.0         0.0         0.0         0.0               7.0   \n635         1.0         0.0         0.0         0.0               7.0   \n636         0.0         0.0         0.0         0.0               0.0   \n637         0.0         0.0         0.0         0.0               0.0   \n638         0.0         0.0         0.0         0.0               0.0   \n\n     Day of the week  Seasons  Transportation expense  \\\n0                  3        1                   289.0   \n1                  3        1                   118.0   \n2                  4        1                   179.0   \n3                  5        1                   279.0   \n4                  5        1                   289.0   \n..               ...      ...                     ...   \n634                3        1                   289.0   \n635                3        1                   235.0   \n636                3        1                   118.0   \n637                4        2                   231.0   \n638                6        3                   179.0   \n\n     Distance from Residence to Work  Service time   Age  \\\n0                               36.0          13.0  33.0   \n1                               13.0          18.0  50.0   \n2                               51.0          18.0  38.0   \n3                                5.0          14.0  39.0   \n4                               36.0          13.0  33.0   \n..                               ...           ...   ...   \n634                             36.0          13.0  33.0   \n635                             11.0          14.0  37.0   \n636                             14.0          13.0  40.0   \n637                             35.0          14.0  39.0   \n638                             45.0          14.0  53.0   \n\n     Work load Average/day   Hit target  Disciplinary failure  \n0                   239.554        97.0                   0.0  \n1                   239.554        97.0                   1.0  \n2                   239.554        97.0                   0.0  \n3                   239.554        97.0                   0.0  \n4                   239.554        97.0                   0.0  \n..                      ...         ...                   ...  \n634                 264.604        93.0                   0.0  \n635                 264.604        93.0                   0.0  \n636                 271.219        95.0                   0.0  \n637                 271.219        95.0                   0.0  \n638                 271.219        95.0                   0.0  \n\n[639 rows x 14 columns]",
      "text/html": "<div>\n<style scoped>\n    .dataframe tbody tr th:only-of-type {\n        vertical-align: middle;\n    }\n\n    .dataframe tbody tr th {\n        vertical-align: top;\n    }\n\n    .dataframe thead th {\n        text-align: right;\n    }\n</style>\n<table border=\"1\" class=\"dataframe\">\n  <thead>\n    <tr style=\"text-align: right;\">\n      <th></th>\n      <th>Category_1</th>\n      <th>Category_2</th>\n      <th>Category_3</th>\n      <th>Category_4</th>\n      <th>Month of absence</th>\n      <th>Day of the week</th>\n      <th>Seasons</th>\n      <th>Transportation expense</th>\n      <th>Distance from Residence to Work</th>\n      <th>Service time</th>\n      <th>Age</th>\n      <th>Work load Average/day</th>\n      <th>Hit target</th>\n      <th>Disciplinary failure</th>\n    </tr>\n  </thead>\n  <tbody>\n    <tr>\n      <th>0</th>\n      <td>0.0</td>\n      <td>0.0</td>\n      <td>0.0</td>\n      <td>1.0</td>\n      <td>7.0</td>\n      <td>3</td>\n      <td>1</td>\n      <td>289.0</td>\n      <td>36.0</td>\n      <td>13.0</td>\n      <td>33.0</td>\n      <td>239.554</td>\n      <td>97.0</td>\n      <td>0.0</td>\n    </tr>\n    <tr>\n      <th>1</th>\n      <td>0.0</td>\n      <td>0.0</td>\n      <td>0.0</td>\n      <td>0.0</td>\n      <td>7.0</td>\n      <td>3</td>\n      <td>1</td>\n      <td>118.0</td>\n      <td>13.0</td>\n      <td>18.0</td>\n      <td>50.0</td>\n      <td>239.554</td>\n      <td>97.0</td>\n      <td>1.0</td>\n    </tr>\n    <tr>\n      <th>2</th>\n      <td>0.0</td>\n      <td>0.0</td>\n      <td>0.0</td>\n      <td>1.0</td>\n      <td>7.0</td>\n      <td>4</td>\n      <td>1</td>\n      <td>179.0</td>\n      <td>51.0</td>\n      <td>18.0</td>\n      <td>38.0</td>\n      <td>239.554</td>\n      <td>97.0</td>\n      <td>0.0</td>\n    </tr>\n    <tr>\n      <th>3</th>\n      <td>1.0</td>\n      <td>0.0</td>\n      <td>0.0</td>\n      <td>0.0</td>\n      <td>7.0</td>\n      <td>5</td>\n      <td>1</td>\n      <td>279.0</td>\n      <td>5.0</td>\n      <td>14.0</td>\n      <td>39.0</td>\n      <td>239.554</td>\n      <td>97.0</td>\n      <td>0.0</td>\n    </tr>\n    <tr>\n      <th>4</th>\n      <td>0.0</td>\n      <td>0.0</td>\n      <td>0.0</td>\n      <td>1.0</td>\n      <td>7.0</td>\n      <td>5</td>\n      <td>1</td>\n      <td>289.0</td>\n      <td>36.0</td>\n      <td>13.0</td>\n      <td>33.0</td>\n      <td>239.554</td>\n      <td>97.0</td>\n      <td>0.0</td>\n    </tr>\n    <tr>\n      <th>...</th>\n      <td>...</td>\n      <td>...</td>\n      <td>...</td>\n      <td>...</td>\n      <td>...</td>\n      <td>...</td>\n      <td>...</td>\n      <td>...</td>\n      <td>...</td>\n      <td>...</td>\n      <td>...</td>\n      <td>...</td>\n      <td>...</td>\n      <td>...</td>\n    </tr>\n    <tr>\n      <th>634</th>\n      <td>1.0</td>\n      <td>0.0</td>\n      <td>0.0</td>\n      <td>0.0</td>\n      <td>7.0</td>\n      <td>3</td>\n      <td>1</td>\n      <td>289.0</td>\n      <td>36.0</td>\n      <td>13.0</td>\n      <td>33.0</td>\n      <td>264.604</td>\n      <td>93.0</td>\n      <td>0.0</td>\n    </tr>\n    <tr>\n      <th>635</th>\n      <td>1.0</td>\n      <td>0.0</td>\n      <td>0.0</td>\n      <td>0.0</td>\n      <td>7.0</td>\n      <td>3</td>\n      <td>1</td>\n      <td>235.0</td>\n      <td>11.0</td>\n      <td>14.0</td>\n      <td>37.0</td>\n      <td>264.604</td>\n      <td>93.0</td>\n      <td>0.0</td>\n    </tr>\n    <tr>\n      <th>636</th>\n      <td>0.0</td>\n      <td>0.0</td>\n      <td>0.0</td>\n      <td>0.0</td>\n      <td>0.0</td>\n      <td>3</td>\n      <td>1</td>\n      <td>118.0</td>\n      <td>14.0</td>\n      <td>13.0</td>\n      <td>40.0</td>\n      <td>271.219</td>\n      <td>95.0</td>\n      <td>0.0</td>\n    </tr>\n    <tr>\n      <th>637</th>\n      <td>0.0</td>\n      <td>0.0</td>\n      <td>0.0</td>\n      <td>0.0</td>\n      <td>0.0</td>\n      <td>4</td>\n      <td>2</td>\n      <td>231.0</td>\n      <td>35.0</td>\n      <td>14.0</td>\n      <td>39.0</td>\n      <td>271.219</td>\n      <td>95.0</td>\n      <td>0.0</td>\n    </tr>\n    <tr>\n      <th>638</th>\n      <td>0.0</td>\n      <td>0.0</td>\n      <td>0.0</td>\n      <td>0.0</td>\n      <td>0.0</td>\n      <td>6</td>\n      <td>3</td>\n      <td>179.0</td>\n      <td>45.0</td>\n      <td>14.0</td>\n      <td>53.0</td>\n      <td>271.219</td>\n      <td>95.0</td>\n      <td>0.0</td>\n    </tr>\n  </tbody>\n</table>\n<p>639 rows × 14 columns</p>\n</div>"
     },
     "execution_count": 15,
     "metadata": {},
     "output_type": "execute_result"
    }
   ],
   "source": [
    "#Selecting the input Except the 14th column\n",
    "target_data.iloc[:,0:14]"
   ],
   "metadata": {
    "collapsed": false,
    "ExecuteTime": {
     "end_time": "2024-04-19T09:09:00.040786Z",
     "start_time": "2024-04-19T09:09:00.013204Z"
    }
   },
   "id": "808f74b84ccfbf98",
   "execution_count": 15
  },
  {
   "cell_type": "code",
   "outputs": [
    {
     "data": {
      "text/plain": "     Category_1  Category_2  Category_3  Category_4  Month of absence  \\\n0           0.0         0.0         0.0         1.0               7.0   \n1           0.0         0.0         0.0         0.0               7.0   \n2           0.0         0.0         0.0         1.0               7.0   \n3           1.0         0.0         0.0         0.0               7.0   \n4           0.0         0.0         0.0         1.0               7.0   \n..          ...         ...         ...         ...               ...   \n634         1.0         0.0         0.0         0.0               7.0   \n635         1.0         0.0         0.0         0.0               7.0   \n636         0.0         0.0         0.0         0.0               0.0   \n637         0.0         0.0         0.0         0.0               0.0   \n638         0.0         0.0         0.0         0.0               0.0   \n\n     Day of the week  Seasons  Transportation expense  \\\n0                  3        1                   289.0   \n1                  3        1                   118.0   \n2                  4        1                   179.0   \n3                  5        1                   279.0   \n4                  5        1                   289.0   \n..               ...      ...                     ...   \n634                3        1                   289.0   \n635                3        1                   235.0   \n636                3        1                   118.0   \n637                4        2                   231.0   \n638                6        3                   179.0   \n\n     Distance from Residence to Work  Service time  ...  Hit target  \\\n0                               36.0          13.0  ...        97.0   \n1                               13.0          18.0  ...        97.0   \n2                               51.0          18.0  ...        97.0   \n3                                5.0          14.0  ...        97.0   \n4                               36.0          13.0  ...        97.0   \n..                               ...           ...  ...         ...   \n634                             36.0          13.0  ...        93.0   \n635                             11.0          14.0  ...        93.0   \n636                             14.0          13.0  ...        95.0   \n637                             35.0          14.0  ...        95.0   \n638                             45.0          14.0  ...        95.0   \n\n     Disciplinary failure  Education  Children  Social drinker  Social smoker  \\\n0                     0.0        0.0       2.0             1.0            0.0   \n1                     1.0        0.0       1.0             1.0            0.0   \n2                     0.0        0.0       0.0             1.0            0.0   \n3                     0.0        0.0       2.0             1.0            1.0   \n4                     0.0        0.0       2.0             1.0            0.0   \n..                    ...        ...       ...             ...            ...   \n634                   0.0        0.0       2.0             1.0            0.0   \n635                   0.0        1.0       1.0             0.0            0.0   \n636                   0.0        0.0       1.0             1.0            0.0   \n637                   0.0        0.0       2.0             1.0            0.0   \n638                   0.0        0.0       1.0             0.0            0.0   \n\n     Pet  Weight  Height  Body mass index  \n0    1.0    90.0   172.0             30.0  \n1    0.0    98.0   178.0             31.0  \n2    0.0    89.0   170.0             31.0  \n3    0.0    68.0   168.0             24.0  \n4    1.0    90.0   172.0             30.0  \n..   ...     ...     ...              ...  \n634  1.0    90.0   172.0             30.0  \n635  1.0    88.0   172.0             29.0  \n636  8.0    98.0   170.0             34.0  \n637  2.0   100.0   170.0             35.0  \n638  1.0    77.0   175.0             25.0  \n\n[639 rows x 22 columns]",
      "text/html": "<div>\n<style scoped>\n    .dataframe tbody tr th:only-of-type {\n        vertical-align: middle;\n    }\n\n    .dataframe tbody tr th {\n        vertical-align: top;\n    }\n\n    .dataframe thead th {\n        text-align: right;\n    }\n</style>\n<table border=\"1\" class=\"dataframe\">\n  <thead>\n    <tr style=\"text-align: right;\">\n      <th></th>\n      <th>Category_1</th>\n      <th>Category_2</th>\n      <th>Category_3</th>\n      <th>Category_4</th>\n      <th>Month of absence</th>\n      <th>Day of the week</th>\n      <th>Seasons</th>\n      <th>Transportation expense</th>\n      <th>Distance from Residence to Work</th>\n      <th>Service time</th>\n      <th>...</th>\n      <th>Hit target</th>\n      <th>Disciplinary failure</th>\n      <th>Education</th>\n      <th>Children</th>\n      <th>Social drinker</th>\n      <th>Social smoker</th>\n      <th>Pet</th>\n      <th>Weight</th>\n      <th>Height</th>\n      <th>Body mass index</th>\n    </tr>\n  </thead>\n  <tbody>\n    <tr>\n      <th>0</th>\n      <td>0.0</td>\n      <td>0.0</td>\n      <td>0.0</td>\n      <td>1.0</td>\n      <td>7.0</td>\n      <td>3</td>\n      <td>1</td>\n      <td>289.0</td>\n      <td>36.0</td>\n      <td>13.0</td>\n      <td>...</td>\n      <td>97.0</td>\n      <td>0.0</td>\n      <td>0.0</td>\n      <td>2.0</td>\n      <td>1.0</td>\n      <td>0.0</td>\n      <td>1.0</td>\n      <td>90.0</td>\n      <td>172.0</td>\n      <td>30.0</td>\n    </tr>\n    <tr>\n      <th>1</th>\n      <td>0.0</td>\n      <td>0.0</td>\n      <td>0.0</td>\n      <td>0.0</td>\n      <td>7.0</td>\n      <td>3</td>\n      <td>1</td>\n      <td>118.0</td>\n      <td>13.0</td>\n      <td>18.0</td>\n      <td>...</td>\n      <td>97.0</td>\n      <td>1.0</td>\n      <td>0.0</td>\n      <td>1.0</td>\n      <td>1.0</td>\n      <td>0.0</td>\n      <td>0.0</td>\n      <td>98.0</td>\n      <td>178.0</td>\n      <td>31.0</td>\n    </tr>\n    <tr>\n      <th>2</th>\n      <td>0.0</td>\n      <td>0.0</td>\n      <td>0.0</td>\n      <td>1.0</td>\n      <td>7.0</td>\n      <td>4</td>\n      <td>1</td>\n      <td>179.0</td>\n      <td>51.0</td>\n      <td>18.0</td>\n      <td>...</td>\n      <td>97.0</td>\n      <td>0.0</td>\n      <td>0.0</td>\n      <td>0.0</td>\n      <td>1.0</td>\n      <td>0.0</td>\n      <td>0.0</td>\n      <td>89.0</td>\n      <td>170.0</td>\n      <td>31.0</td>\n    </tr>\n    <tr>\n      <th>3</th>\n      <td>1.0</td>\n      <td>0.0</td>\n      <td>0.0</td>\n      <td>0.0</td>\n      <td>7.0</td>\n      <td>5</td>\n      <td>1</td>\n      <td>279.0</td>\n      <td>5.0</td>\n      <td>14.0</td>\n      <td>...</td>\n      <td>97.0</td>\n      <td>0.0</td>\n      <td>0.0</td>\n      <td>2.0</td>\n      <td>1.0</td>\n      <td>1.0</td>\n      <td>0.0</td>\n      <td>68.0</td>\n      <td>168.0</td>\n      <td>24.0</td>\n    </tr>\n    <tr>\n      <th>4</th>\n      <td>0.0</td>\n      <td>0.0</td>\n      <td>0.0</td>\n      <td>1.0</td>\n      <td>7.0</td>\n      <td>5</td>\n      <td>1</td>\n      <td>289.0</td>\n      <td>36.0</td>\n      <td>13.0</td>\n      <td>...</td>\n      <td>97.0</td>\n      <td>0.0</td>\n      <td>0.0</td>\n      <td>2.0</td>\n      <td>1.0</td>\n      <td>0.0</td>\n      <td>1.0</td>\n      <td>90.0</td>\n      <td>172.0</td>\n      <td>30.0</td>\n    </tr>\n    <tr>\n      <th>...</th>\n      <td>...</td>\n      <td>...</td>\n      <td>...</td>\n      <td>...</td>\n      <td>...</td>\n      <td>...</td>\n      <td>...</td>\n      <td>...</td>\n      <td>...</td>\n      <td>...</td>\n      <td>...</td>\n      <td>...</td>\n      <td>...</td>\n      <td>...</td>\n      <td>...</td>\n      <td>...</td>\n      <td>...</td>\n      <td>...</td>\n      <td>...</td>\n      <td>...</td>\n      <td>...</td>\n    </tr>\n    <tr>\n      <th>634</th>\n      <td>1.0</td>\n      <td>0.0</td>\n      <td>0.0</td>\n      <td>0.0</td>\n      <td>7.0</td>\n      <td>3</td>\n      <td>1</td>\n      <td>289.0</td>\n      <td>36.0</td>\n      <td>13.0</td>\n      <td>...</td>\n      <td>93.0</td>\n      <td>0.0</td>\n      <td>0.0</td>\n      <td>2.0</td>\n      <td>1.0</td>\n      <td>0.0</td>\n      <td>1.0</td>\n      <td>90.0</td>\n      <td>172.0</td>\n      <td>30.0</td>\n    </tr>\n    <tr>\n      <th>635</th>\n      <td>1.0</td>\n      <td>0.0</td>\n      <td>0.0</td>\n      <td>0.0</td>\n      <td>7.0</td>\n      <td>3</td>\n      <td>1</td>\n      <td>235.0</td>\n      <td>11.0</td>\n      <td>14.0</td>\n      <td>...</td>\n      <td>93.0</td>\n      <td>0.0</td>\n      <td>1.0</td>\n      <td>1.0</td>\n      <td>0.0</td>\n      <td>0.0</td>\n      <td>1.0</td>\n      <td>88.0</td>\n      <td>172.0</td>\n      <td>29.0</td>\n    </tr>\n    <tr>\n      <th>636</th>\n      <td>0.0</td>\n      <td>0.0</td>\n      <td>0.0</td>\n      <td>0.0</td>\n      <td>0.0</td>\n      <td>3</td>\n      <td>1</td>\n      <td>118.0</td>\n      <td>14.0</td>\n      <td>13.0</td>\n      <td>...</td>\n      <td>95.0</td>\n      <td>0.0</td>\n      <td>0.0</td>\n      <td>1.0</td>\n      <td>1.0</td>\n      <td>0.0</td>\n      <td>8.0</td>\n      <td>98.0</td>\n      <td>170.0</td>\n      <td>34.0</td>\n    </tr>\n    <tr>\n      <th>637</th>\n      <td>0.0</td>\n      <td>0.0</td>\n      <td>0.0</td>\n      <td>0.0</td>\n      <td>0.0</td>\n      <td>4</td>\n      <td>2</td>\n      <td>231.0</td>\n      <td>35.0</td>\n      <td>14.0</td>\n      <td>...</td>\n      <td>95.0</td>\n      <td>0.0</td>\n      <td>0.0</td>\n      <td>2.0</td>\n      <td>1.0</td>\n      <td>0.0</td>\n      <td>2.0</td>\n      <td>100.0</td>\n      <td>170.0</td>\n      <td>35.0</td>\n    </tr>\n    <tr>\n      <th>638</th>\n      <td>0.0</td>\n      <td>0.0</td>\n      <td>0.0</td>\n      <td>0.0</td>\n      <td>0.0</td>\n      <td>6</td>\n      <td>3</td>\n      <td>179.0</td>\n      <td>45.0</td>\n      <td>14.0</td>\n      <td>...</td>\n      <td>95.0</td>\n      <td>0.0</td>\n      <td>0.0</td>\n      <td>1.0</td>\n      <td>0.0</td>\n      <td>0.0</td>\n      <td>1.0</td>\n      <td>77.0</td>\n      <td>175.0</td>\n      <td>25.0</td>\n    </tr>\n  </tbody>\n</table>\n<p>639 rows × 22 columns</p>\n</div>"
     },
     "execution_count": 16,
     "metadata": {},
     "output_type": "execute_result"
    }
   ],
   "source": [
    "#Another method\n",
    "target_data.iloc[:,:-1]"
   ],
   "metadata": {
    "collapsed": false,
    "ExecuteTime": {
     "end_time": "2024-04-19T09:09:00.253006Z",
     "start_time": "2024-04-19T09:09:00.214941Z"
    }
   },
   "id": "62f9d3f08b2f312a",
   "execution_count": 16
  },
  {
   "cell_type": "code",
   "outputs": [],
   "source": [
    "unscaled_inputs = target_data.iloc[:,:-1]"
   ],
   "metadata": {
    "collapsed": false,
    "ExecuteTime": {
     "end_time": "2024-04-19T09:09:00.329914Z",
     "start_time": "2024-04-19T09:09:00.324720Z"
    }
   },
   "id": "9586bc1b032c472f",
   "execution_count": 17
  },
  {
   "cell_type": "markdown",
   "source": [
    "## Standardising the Data"
   ],
   "metadata": {
    "collapsed": false
   },
   "id": "ebad3843552aabca"
  },
  {
   "cell_type": "markdown",
   "source": [
    "#### Here we are using the Standard Scaler to Normalize and scale the inputs\n",
    "- A Standard Scaler is a preprocessing technique used to standardize the features by scaling them to have a mean of 0 and a standard deviation of 1. \n",
    "\n",
    "- In logistic regression, scaling the features can be beneficial for certain reasons :\n",
    "    - Improving Convergence\n",
    "    - Avoiding Large Influence\n",
    "    - Assumption of Logistic Regression"
   ],
   "metadata": {
    "collapsed": false
   },
   "id": "e22d63d4422a96aa"
  },
  {
   "cell_type": "code",
   "outputs": [],
   "source": [
    "from sklearn.preprocessing import StandardScaler\n",
    "absenteeism_scaler = StandardScaler()"
   ],
   "metadata": {
    "collapsed": false,
    "ExecuteTime": {
     "end_time": "2024-04-19T09:09:00.651459Z",
     "start_time": "2024-04-19T09:09:00.509621Z"
    }
   },
   "id": "955c35318972a4b6",
   "execution_count": 18
  },
  {
   "cell_type": "markdown",
   "source": [
    "### Creating A CustomScaler to Omit the dummy variables\n",
    "- Dummy Variables holds the originality of the Data so We have to omit the dummy Variables \n",
    "- So we are creating a Custom Scaler to Omit the Dummy variables"
   ],
   "metadata": {
    "collapsed": false
   },
   "id": "6cb80a7e5402bd2"
  },
  {
   "cell_type": "code",
   "outputs": [],
   "source": [
    "# import the libraries needed to create the Custom Scaler\n",
    "# note that all of them are a part of the sklearn package\n",
    "# moreover, one of them is actually the StandardScaler module, \n",
    "# so you can imagine that the Custom Scaler is build on it\n",
    "\n",
    "from sklearn.base import BaseEstimator, TransformerMixin\n",
    "from sklearn.preprocessing import StandardScaler\n",
    "\n",
    "class CustomScaler(BaseEstimator,TransformerMixin):\n",
    "\n",
    "    # init or what information we need to declare a CustomScaler object\n",
    "    # and what is calculated/declared as we do\n",
    "\n",
    "    def __init__(self,columns):\n",
    "\n",
    "        # scaler is nothing but a Standard Scaler object\n",
    "        self.scaler = StandardScaler()\n",
    "        # with some columns 'twist'\n",
    "        self.columns = columns\n",
    "        self.mean_ = None\n",
    "        self.var_ = None\n",
    "\n",
    "\n",
    "    # the fit method, which, again based on StandardScale\n",
    "\n",
    "    def fit(self, X, y=None):\n",
    "        self.scaler.fit(X[self.columns], y)\n",
    "        self.mean_ = np.mean(X[self.columns])\n",
    "        self.var_ = np.var(X[self.columns])\n",
    "        return self\n",
    "\n",
    "    # the transform method which does the actual scaling\n",
    "\n",
    "    def transform(self, X):\n",
    "\n",
    "        # record the initial order of the columns\n",
    "        init_col_order = X.columns\n",
    "\n",
    "        # scale all features that you chose when creating the instance of the class\n",
    "        X_scaled = pd.DataFrame(self.scaler.transform(X[self.columns]), columns=self.columns)\n",
    "\n",
    "        # declare a variable containing all information that was not scaled\n",
    "        X_not_scaled = X.loc[:,~X.columns.isin(self.columns)]\n",
    "\n",
    "        # return a data frame which contains all scaled features and all 'not scaled' features\n",
    "        # use the original order (that you recorded in the beginning)\n",
    "        return pd.concat([X_not_scaled, X_scaled], axis=1)[init_col_order]"
   ],
   "metadata": {
    "collapsed": false,
    "ExecuteTime": {
     "end_time": "2024-04-19T09:09:00.790870Z",
     "start_time": "2024-04-19T09:09:00.780017Z"
    }
   },
   "id": "d927fd4608151da1",
   "execution_count": 19
  },
  {
   "cell_type": "code",
   "outputs": [
    {
     "data": {
      "text/plain": "array(['Category_1', 'Category_2', 'Category_3', 'Category_4',\n       'Month of absence', 'Day of the week', 'Seasons',\n       'Transportation expense', 'Distance from Residence to Work',\n       'Service time', 'Age', 'Work load Average/day ', 'Hit target',\n       'Disciplinary failure', 'Education', 'Children', 'Social drinker',\n       'Social smoker', 'Pet', 'Weight', 'Height', 'Body mass index'],\n      dtype=object)"
     },
     "execution_count": 20,
     "metadata": {},
     "output_type": "execute_result"
    }
   ],
   "source": [
    "unscaled_inputs.columns.values"
   ],
   "metadata": {
    "collapsed": false,
    "ExecuteTime": {
     "end_time": "2024-04-19T09:09:01.012351Z",
     "start_time": "2024-04-19T09:09:01.003428Z"
    }
   },
   "id": "570396dc04f7da75",
   "execution_count": 20
  },
  {
   "cell_type": "code",
   "outputs": [],
   "source": [
    "columns_to_scale = (['Month of absence', 'Day of the week', 'Seasons','Transportation expense', 'Distance from Residence to Work','Service time', 'Age', 'Work load Average/day ', 'Hit target','Disciplinary failure', 'Children', 'Social drinker','Social smoker', 'Pet', 'Weight', 'Height', 'Body mass index'])"
   ],
   "metadata": {
    "collapsed": false,
    "ExecuteTime": {
     "end_time": "2024-04-19T09:09:01.183106Z",
     "start_time": "2024-04-19T09:09:01.178072Z"
    }
   },
   "id": "9b9c195d8336b8ab",
   "execution_count": 21
  },
  {
   "cell_type": "code",
   "outputs": [],
   "source": [
    "columns_to_omit = (['Category_1', 'Category_2', 'Category_3', 'Category_4','Education'])"
   ],
   "metadata": {
    "collapsed": false,
    "ExecuteTime": {
     "end_time": "2024-04-19T09:09:01.285467Z",
     "start_time": "2024-04-19T09:09:01.279550Z"
    }
   },
   "id": "4ce9e461ec13c",
   "execution_count": 22
  },
  {
   "cell_type": "code",
   "outputs": [],
   "source": [
    "columns_to_scale = [x for x in unscaled_inputs.columns.values if x not in columns_to_omit]"
   ],
   "metadata": {
    "collapsed": false,
    "ExecuteTime": {
     "end_time": "2024-04-19T09:09:01.414145Z",
     "start_time": "2024-04-19T09:09:01.408165Z"
    }
   },
   "id": "955f552d1602625d",
   "execution_count": 23
  },
  {
   "cell_type": "code",
   "outputs": [],
   "source": [
    "absenteeism_scaler = CustomScaler(columns_to_scale)"
   ],
   "metadata": {
    "collapsed": false,
    "ExecuteTime": {
     "end_time": "2024-04-19T09:09:01.469127Z",
     "start_time": "2024-04-19T09:09:01.464292Z"
    }
   },
   "id": "62ec4448a9a3201a",
   "execution_count": 24
  },
  {
   "cell_type": "code",
   "outputs": [
    {
     "name": "stderr",
     "output_type": "stream",
     "text": [
      "C:\\Users\\Dryunicorn\\OneDrive\\Documents\\Work Absenteeism\\venv\\Lib\\site-packages\\numpy\\core\\fromnumeric.py:3785: FutureWarning: The behavior of DataFrame.var with axis=None is deprecated, in a future version this will reduce over both axes and return a scalar. To retain the old behavior, pass axis=0 (or do not pass axis)\n",
      "  return var(axis=axis, dtype=dtype, out=out, ddof=ddof, **kwargs)\n"
     ]
    },
    {
     "data": {
      "text/plain": "CustomScaler(columns=['Month of absence', 'Day of the week', 'Seasons',\n                      'Transportation expense',\n                      'Distance from Residence to Work', 'Service time', 'Age',\n                      'Work load Average/day ', 'Hit target',\n                      'Disciplinary failure', 'Children', 'Social drinker',\n                      'Social smoker', 'Pet', 'Weight', 'Height',\n                      'Body mass index'])",
      "text/html": "<style>#sk-container-id-1 {\n  /* Definition of color scheme common for light and dark mode */\n  --sklearn-color-text: black;\n  --sklearn-color-line: gray;\n  /* Definition of color scheme for unfitted estimators */\n  --sklearn-color-unfitted-level-0: #fff5e6;\n  --sklearn-color-unfitted-level-1: #f6e4d2;\n  --sklearn-color-unfitted-level-2: #ffe0b3;\n  --sklearn-color-unfitted-level-3: chocolate;\n  /* Definition of color scheme for fitted estimators */\n  --sklearn-color-fitted-level-0: #f0f8ff;\n  --sklearn-color-fitted-level-1: #d4ebff;\n  --sklearn-color-fitted-level-2: #b3dbfd;\n  --sklearn-color-fitted-level-3: cornflowerblue;\n\n  /* Specific color for light theme */\n  --sklearn-color-text-on-default-background: var(--sg-text-color, var(--theme-code-foreground, var(--jp-content-font-color1, black)));\n  --sklearn-color-background: var(--sg-background-color, var(--theme-background, var(--jp-layout-color0, white)));\n  --sklearn-color-border-box: var(--sg-text-color, var(--theme-code-foreground, var(--jp-content-font-color1, black)));\n  --sklearn-color-icon: #696969;\n\n  @media (prefers-color-scheme: dark) {\n    /* Redefinition of color scheme for dark theme */\n    --sklearn-color-text-on-default-background: var(--sg-text-color, var(--theme-code-foreground, var(--jp-content-font-color1, white)));\n    --sklearn-color-background: var(--sg-background-color, var(--theme-background, var(--jp-layout-color0, #111)));\n    --sklearn-color-border-box: var(--sg-text-color, var(--theme-code-foreground, var(--jp-content-font-color1, white)));\n    --sklearn-color-icon: #878787;\n  }\n}\n\n#sk-container-id-1 {\n  color: var(--sklearn-color-text);\n}\n\n#sk-container-id-1 pre {\n  padding: 0;\n}\n\n#sk-container-id-1 input.sk-hidden--visually {\n  border: 0;\n  clip: rect(1px 1px 1px 1px);\n  clip: rect(1px, 1px, 1px, 1px);\n  height: 1px;\n  margin: -1px;\n  overflow: hidden;\n  padding: 0;\n  position: absolute;\n  width: 1px;\n}\n\n#sk-container-id-1 div.sk-dashed-wrapped {\n  border: 1px dashed var(--sklearn-color-line);\n  margin: 0 0.4em 0.5em 0.4em;\n  box-sizing: border-box;\n  padding-bottom: 0.4em;\n  background-color: var(--sklearn-color-background);\n}\n\n#sk-container-id-1 div.sk-container {\n  /* jupyter's `normalize.less` sets `[hidden] { display: none; }`\n     but bootstrap.min.css set `[hidden] { display: none !important; }`\n     so we also need the `!important` here to be able to override the\n     default hidden behavior on the sphinx rendered scikit-learn.org.\n     See: https://github.com/scikit-learn/scikit-learn/issues/21755 */\n  display: inline-block !important;\n  position: relative;\n}\n\n#sk-container-id-1 div.sk-text-repr-fallback {\n  display: none;\n}\n\ndiv.sk-parallel-item,\ndiv.sk-serial,\ndiv.sk-item {\n  /* draw centered vertical line to link estimators */\n  background-image: linear-gradient(var(--sklearn-color-text-on-default-background), var(--sklearn-color-text-on-default-background));\n  background-size: 2px 100%;\n  background-repeat: no-repeat;\n  background-position: center center;\n}\n\n/* Parallel-specific style estimator block */\n\n#sk-container-id-1 div.sk-parallel-item::after {\n  content: \"\";\n  width: 100%;\n  border-bottom: 2px solid var(--sklearn-color-text-on-default-background);\n  flex-grow: 1;\n}\n\n#sk-container-id-1 div.sk-parallel {\n  display: flex;\n  align-items: stretch;\n  justify-content: center;\n  background-color: var(--sklearn-color-background);\n  position: relative;\n}\n\n#sk-container-id-1 div.sk-parallel-item {\n  display: flex;\n  flex-direction: column;\n}\n\n#sk-container-id-1 div.sk-parallel-item:first-child::after {\n  align-self: flex-end;\n  width: 50%;\n}\n\n#sk-container-id-1 div.sk-parallel-item:last-child::after {\n  align-self: flex-start;\n  width: 50%;\n}\n\n#sk-container-id-1 div.sk-parallel-item:only-child::after {\n  width: 0;\n}\n\n/* Serial-specific style estimator block */\n\n#sk-container-id-1 div.sk-serial {\n  display: flex;\n  flex-direction: column;\n  align-items: center;\n  background-color: var(--sklearn-color-background);\n  padding-right: 1em;\n  padding-left: 1em;\n}\n\n\n/* Toggleable style: style used for estimator/Pipeline/ColumnTransformer box that is\nclickable and can be expanded/collapsed.\n- Pipeline and ColumnTransformer use this feature and define the default style\n- Estimators will overwrite some part of the style using the `sk-estimator` class\n*/\n\n/* Pipeline and ColumnTransformer style (default) */\n\n#sk-container-id-1 div.sk-toggleable {\n  /* Default theme specific background. It is overwritten whether we have a\n  specific estimator or a Pipeline/ColumnTransformer */\n  background-color: var(--sklearn-color-background);\n}\n\n/* Toggleable label */\n#sk-container-id-1 label.sk-toggleable__label {\n  cursor: pointer;\n  display: block;\n  width: 100%;\n  margin-bottom: 0;\n  padding: 0.5em;\n  box-sizing: border-box;\n  text-align: center;\n}\n\n#sk-container-id-1 label.sk-toggleable__label-arrow:before {\n  /* Arrow on the left of the label */\n  content: \"▸\";\n  float: left;\n  margin-right: 0.25em;\n  color: var(--sklearn-color-icon);\n}\n\n#sk-container-id-1 label.sk-toggleable__label-arrow:hover:before {\n  color: var(--sklearn-color-text);\n}\n\n/* Toggleable content - dropdown */\n\n#sk-container-id-1 div.sk-toggleable__content {\n  max-height: 0;\n  max-width: 0;\n  overflow: hidden;\n  text-align: left;\n  /* unfitted */\n  background-color: var(--sklearn-color-unfitted-level-0);\n}\n\n#sk-container-id-1 div.sk-toggleable__content.fitted {\n  /* fitted */\n  background-color: var(--sklearn-color-fitted-level-0);\n}\n\n#sk-container-id-1 div.sk-toggleable__content pre {\n  margin: 0.2em;\n  border-radius: 0.25em;\n  color: var(--sklearn-color-text);\n  /* unfitted */\n  background-color: var(--sklearn-color-unfitted-level-0);\n}\n\n#sk-container-id-1 div.sk-toggleable__content.fitted pre {\n  /* unfitted */\n  background-color: var(--sklearn-color-fitted-level-0);\n}\n\n#sk-container-id-1 input.sk-toggleable__control:checked~div.sk-toggleable__content {\n  /* Expand drop-down */\n  max-height: 200px;\n  max-width: 100%;\n  overflow: auto;\n}\n\n#sk-container-id-1 input.sk-toggleable__control:checked~label.sk-toggleable__label-arrow:before {\n  content: \"▾\";\n}\n\n/* Pipeline/ColumnTransformer-specific style */\n\n#sk-container-id-1 div.sk-label input.sk-toggleable__control:checked~label.sk-toggleable__label {\n  color: var(--sklearn-color-text);\n  background-color: var(--sklearn-color-unfitted-level-2);\n}\n\n#sk-container-id-1 div.sk-label.fitted input.sk-toggleable__control:checked~label.sk-toggleable__label {\n  background-color: var(--sklearn-color-fitted-level-2);\n}\n\n/* Estimator-specific style */\n\n/* Colorize estimator box */\n#sk-container-id-1 div.sk-estimator input.sk-toggleable__control:checked~label.sk-toggleable__label {\n  /* unfitted */\n  background-color: var(--sklearn-color-unfitted-level-2);\n}\n\n#sk-container-id-1 div.sk-estimator.fitted input.sk-toggleable__control:checked~label.sk-toggleable__label {\n  /* fitted */\n  background-color: var(--sklearn-color-fitted-level-2);\n}\n\n#sk-container-id-1 div.sk-label label.sk-toggleable__label,\n#sk-container-id-1 div.sk-label label {\n  /* The background is the default theme color */\n  color: var(--sklearn-color-text-on-default-background);\n}\n\n/* On hover, darken the color of the background */\n#sk-container-id-1 div.sk-label:hover label.sk-toggleable__label {\n  color: var(--sklearn-color-text);\n  background-color: var(--sklearn-color-unfitted-level-2);\n}\n\n/* Label box, darken color on hover, fitted */\n#sk-container-id-1 div.sk-label.fitted:hover label.sk-toggleable__label.fitted {\n  color: var(--sklearn-color-text);\n  background-color: var(--sklearn-color-fitted-level-2);\n}\n\n/* Estimator label */\n\n#sk-container-id-1 div.sk-label label {\n  font-family: monospace;\n  font-weight: bold;\n  display: inline-block;\n  line-height: 1.2em;\n}\n\n#sk-container-id-1 div.sk-label-container {\n  text-align: center;\n}\n\n/* Estimator-specific */\n#sk-container-id-1 div.sk-estimator {\n  font-family: monospace;\n  border: 1px dotted var(--sklearn-color-border-box);\n  border-radius: 0.25em;\n  box-sizing: border-box;\n  margin-bottom: 0.5em;\n  /* unfitted */\n  background-color: var(--sklearn-color-unfitted-level-0);\n}\n\n#sk-container-id-1 div.sk-estimator.fitted {\n  /* fitted */\n  background-color: var(--sklearn-color-fitted-level-0);\n}\n\n/* on hover */\n#sk-container-id-1 div.sk-estimator:hover {\n  /* unfitted */\n  background-color: var(--sklearn-color-unfitted-level-2);\n}\n\n#sk-container-id-1 div.sk-estimator.fitted:hover {\n  /* fitted */\n  background-color: var(--sklearn-color-fitted-level-2);\n}\n\n/* Specification for estimator info (e.g. \"i\" and \"?\") */\n\n/* Common style for \"i\" and \"?\" */\n\n.sk-estimator-doc-link,\na:link.sk-estimator-doc-link,\na:visited.sk-estimator-doc-link {\n  float: right;\n  font-size: smaller;\n  line-height: 1em;\n  font-family: monospace;\n  background-color: var(--sklearn-color-background);\n  border-radius: 1em;\n  height: 1em;\n  width: 1em;\n  text-decoration: none !important;\n  margin-left: 1ex;\n  /* unfitted */\n  border: var(--sklearn-color-unfitted-level-1) 1pt solid;\n  color: var(--sklearn-color-unfitted-level-1);\n}\n\n.sk-estimator-doc-link.fitted,\na:link.sk-estimator-doc-link.fitted,\na:visited.sk-estimator-doc-link.fitted {\n  /* fitted */\n  border: var(--sklearn-color-fitted-level-1) 1pt solid;\n  color: var(--sklearn-color-fitted-level-1);\n}\n\n/* On hover */\ndiv.sk-estimator:hover .sk-estimator-doc-link:hover,\n.sk-estimator-doc-link:hover,\ndiv.sk-label-container:hover .sk-estimator-doc-link:hover,\n.sk-estimator-doc-link:hover {\n  /* unfitted */\n  background-color: var(--sklearn-color-unfitted-level-3);\n  color: var(--sklearn-color-background);\n  text-decoration: none;\n}\n\ndiv.sk-estimator.fitted:hover .sk-estimator-doc-link.fitted:hover,\n.sk-estimator-doc-link.fitted:hover,\ndiv.sk-label-container:hover .sk-estimator-doc-link.fitted:hover,\n.sk-estimator-doc-link.fitted:hover {\n  /* fitted */\n  background-color: var(--sklearn-color-fitted-level-3);\n  color: var(--sklearn-color-background);\n  text-decoration: none;\n}\n\n/* Span, style for the box shown on hovering the info icon */\n.sk-estimator-doc-link span {\n  display: none;\n  z-index: 9999;\n  position: relative;\n  font-weight: normal;\n  right: .2ex;\n  padding: .5ex;\n  margin: .5ex;\n  width: min-content;\n  min-width: 20ex;\n  max-width: 50ex;\n  color: var(--sklearn-color-text);\n  box-shadow: 2pt 2pt 4pt #999;\n  /* unfitted */\n  background: var(--sklearn-color-unfitted-level-0);\n  border: .5pt solid var(--sklearn-color-unfitted-level-3);\n}\n\n.sk-estimator-doc-link.fitted span {\n  /* fitted */\n  background: var(--sklearn-color-fitted-level-0);\n  border: var(--sklearn-color-fitted-level-3);\n}\n\n.sk-estimator-doc-link:hover span {\n  display: block;\n}\n\n/* \"?\"-specific style due to the `<a>` HTML tag */\n\n#sk-container-id-1 a.estimator_doc_link {\n  float: right;\n  font-size: 1rem;\n  line-height: 1em;\n  font-family: monospace;\n  background-color: var(--sklearn-color-background);\n  border-radius: 1rem;\n  height: 1rem;\n  width: 1rem;\n  text-decoration: none;\n  /* unfitted */\n  color: var(--sklearn-color-unfitted-level-1);\n  border: var(--sklearn-color-unfitted-level-1) 1pt solid;\n}\n\n#sk-container-id-1 a.estimator_doc_link.fitted {\n  /* fitted */\n  border: var(--sklearn-color-fitted-level-1) 1pt solid;\n  color: var(--sklearn-color-fitted-level-1);\n}\n\n/* On hover */\n#sk-container-id-1 a.estimator_doc_link:hover {\n  /* unfitted */\n  background-color: var(--sklearn-color-unfitted-level-3);\n  color: var(--sklearn-color-background);\n  text-decoration: none;\n}\n\n#sk-container-id-1 a.estimator_doc_link.fitted:hover {\n  /* fitted */\n  background-color: var(--sklearn-color-fitted-level-3);\n}\n</style><div id=\"sk-container-id-1\" class=\"sk-top-container\"><div class=\"sk-text-repr-fallback\"><pre>CustomScaler(columns=[&#x27;Month of absence&#x27;, &#x27;Day of the week&#x27;, &#x27;Seasons&#x27;,\n                      &#x27;Transportation expense&#x27;,\n                      &#x27;Distance from Residence to Work&#x27;, &#x27;Service time&#x27;, &#x27;Age&#x27;,\n                      &#x27;Work load Average/day &#x27;, &#x27;Hit target&#x27;,\n                      &#x27;Disciplinary failure&#x27;, &#x27;Children&#x27;, &#x27;Social drinker&#x27;,\n                      &#x27;Social smoker&#x27;, &#x27;Pet&#x27;, &#x27;Weight&#x27;, &#x27;Height&#x27;,\n                      &#x27;Body mass index&#x27;])</pre><b>In a Jupyter environment, please rerun this cell to show the HTML representation or trust the notebook. <br />On GitHub, the HTML representation is unable to render, please try loading this page with nbviewer.org.</b></div><div class=\"sk-container\" hidden><div class=\"sk-item\"><div class=\"sk-estimator fitted sk-toggleable\"><input class=\"sk-toggleable__control sk-hidden--visually\" id=\"sk-estimator-id-1\" type=\"checkbox\" checked><label for=\"sk-estimator-id-1\" class=\"sk-toggleable__label fitted sk-toggleable__label-arrow fitted\">&nbsp;CustomScaler<span class=\"sk-estimator-doc-link fitted\">i<span>Fitted</span></span></label><div class=\"sk-toggleable__content fitted\"><pre>CustomScaler(columns=[&#x27;Month of absence&#x27;, &#x27;Day of the week&#x27;, &#x27;Seasons&#x27;,\n                      &#x27;Transportation expense&#x27;,\n                      &#x27;Distance from Residence to Work&#x27;, &#x27;Service time&#x27;, &#x27;Age&#x27;,\n                      &#x27;Work load Average/day &#x27;, &#x27;Hit target&#x27;,\n                      &#x27;Disciplinary failure&#x27;, &#x27;Children&#x27;, &#x27;Social drinker&#x27;,\n                      &#x27;Social smoker&#x27;, &#x27;Pet&#x27;, &#x27;Weight&#x27;, &#x27;Height&#x27;,\n                      &#x27;Body mass index&#x27;])</pre></div> </div></div></div></div>"
     },
     "execution_count": 25,
     "metadata": {},
     "output_type": "execute_result"
    }
   ],
   "source": [
    "absenteeism_scaler.fit(unscaled_inputs)"
   ],
   "metadata": {
    "collapsed": false,
    "ExecuteTime": {
     "end_time": "2024-04-19T09:09:01.619827Z",
     "start_time": "2024-04-19T09:09:01.601407Z"
    }
   },
   "id": "d49a1f672a28148e",
   "execution_count": 25
  },
  {
   "cell_type": "code",
   "outputs": [],
   "source": [
    "scaled_input = absenteeism_scaler.transform(unscaled_inputs)"
   ],
   "metadata": {
    "collapsed": false,
    "ExecuteTime": {
     "end_time": "2024-04-19T09:09:01.689745Z",
     "start_time": "2024-04-19T09:09:01.680321Z"
    }
   },
   "id": "c6b5c23ea983f9f9",
   "execution_count": 26
  },
  {
   "cell_type": "code",
   "outputs": [
    {
     "data": {
      "text/plain": "     Category_1  Category_2  Category_3  Category_4  Month of absence  \\\n0           0.0         0.0         0.0         1.0          0.251799   \n1           0.0         0.0         0.0         0.0          0.251799   \n2           0.0         0.0         0.0         1.0          0.251799   \n3           1.0         0.0         0.0         0.0          0.251799   \n4           0.0         0.0         0.0         1.0          0.251799   \n..          ...         ...         ...         ...               ...   \n634         1.0         0.0         0.0         0.0          0.251799   \n635         1.0         0.0         0.0         0.0          0.251799   \n636         0.0         0.0         0.0         0.0         -1.845586   \n637         0.0         0.0         0.0         0.0         -1.845586   \n638         0.0         0.0         0.0         0.0         -1.845586   \n\n     Day of the week   Seasons  Transportation expense  \\\n0          -0.619749 -1.397872                1.045982   \n1          -0.619749 -1.397872               -1.587931   \n2           0.078698 -1.397872               -0.648348   \n3           0.777145 -1.397872                0.891952   \n4           0.777145 -1.397872                1.045982   \n..               ...       ...                     ...   \n634        -0.619749 -1.397872                1.045982   \n635        -0.619749 -1.397872                0.214220   \n636        -0.619749 -1.397872               -1.587931   \n637         0.078698 -0.477006                0.152608   \n638         1.475592  0.443860               -0.648348   \n\n     Distance from Residence to Work  Service time  ...  Hit target  \\\n0                           0.431344      0.061428  ...    0.598861   \n1                          -1.134729      1.209157  ...    0.598861   \n2                           1.452697      1.209157  ...    0.598861   \n3                          -1.679451      0.290974  ...    0.598861   \n4                           0.431344      0.061428  ...    0.598861   \n..                               ...           ...  ...         ...   \n634                         0.431344      0.061428  ...   -0.460439   \n635                        -1.270910      0.290974  ...   -0.460439   \n636                        -1.066639      0.061428  ...    0.069211   \n637                         0.363254      0.290974  ...    0.069211   \n638                         1.044156      0.290974  ...    0.069211   \n\n     Disciplinary failure  Education  Children  Social drinker  Social smoker  \\\n0               -0.225803        0.0  0.913993        0.860897      -0.281766   \n1                4.428646        0.0 -0.016009        0.860897      -0.281766   \n2               -0.225803        0.0 -0.946011        0.860897      -0.281766   \n3               -0.225803        0.0  0.913993        0.860897       3.549048   \n4               -0.225803        0.0  0.913993        0.860897      -0.281766   \n..                    ...        ...       ...             ...            ...   \n634             -0.225803        0.0  0.913993        0.860897      -0.281766   \n635             -0.225803        1.0 -0.016009       -1.161579      -0.281766   \n636             -0.225803        0.0 -0.016009        0.860897      -0.281766   \n637             -0.225803        0.0  0.913993        0.860897      -0.281766   \n638             -0.225803        0.0 -0.016009       -1.161579      -0.281766   \n\n          Pet    Weight    Height  Body mass index  \n0    0.195706  0.826060 -0.023046         0.743930  \n1   -0.562210  1.444154  0.969759         0.974358  \n2   -0.562210  0.748798 -0.353982         0.974358  \n3   -0.562210 -0.873699 -0.684917        -0.638633  \n4    0.195706  0.826060 -0.023046         0.743930  \n..        ...       ...       ...              ...  \n634  0.195706  0.826060 -0.023046         0.743930  \n635  0.195706  0.671537 -0.023046         0.513503  \n636  5.501118  1.444154 -0.353982         1.665639  \n637  0.953622  1.598678 -0.353982         1.896067  \n638  0.195706 -0.178343  0.473356        -0.408206  \n\n[639 rows x 22 columns]",
      "text/html": "<div>\n<style scoped>\n    .dataframe tbody tr th:only-of-type {\n        vertical-align: middle;\n    }\n\n    .dataframe tbody tr th {\n        vertical-align: top;\n    }\n\n    .dataframe thead th {\n        text-align: right;\n    }\n</style>\n<table border=\"1\" class=\"dataframe\">\n  <thead>\n    <tr style=\"text-align: right;\">\n      <th></th>\n      <th>Category_1</th>\n      <th>Category_2</th>\n      <th>Category_3</th>\n      <th>Category_4</th>\n      <th>Month of absence</th>\n      <th>Day of the week</th>\n      <th>Seasons</th>\n      <th>Transportation expense</th>\n      <th>Distance from Residence to Work</th>\n      <th>Service time</th>\n      <th>...</th>\n      <th>Hit target</th>\n      <th>Disciplinary failure</th>\n      <th>Education</th>\n      <th>Children</th>\n      <th>Social drinker</th>\n      <th>Social smoker</th>\n      <th>Pet</th>\n      <th>Weight</th>\n      <th>Height</th>\n      <th>Body mass index</th>\n    </tr>\n  </thead>\n  <tbody>\n    <tr>\n      <th>0</th>\n      <td>0.0</td>\n      <td>0.0</td>\n      <td>0.0</td>\n      <td>1.0</td>\n      <td>0.251799</td>\n      <td>-0.619749</td>\n      <td>-1.397872</td>\n      <td>1.045982</td>\n      <td>0.431344</td>\n      <td>0.061428</td>\n      <td>...</td>\n      <td>0.598861</td>\n      <td>-0.225803</td>\n      <td>0.0</td>\n      <td>0.913993</td>\n      <td>0.860897</td>\n      <td>-0.281766</td>\n      <td>0.195706</td>\n      <td>0.826060</td>\n      <td>-0.023046</td>\n      <td>0.743930</td>\n    </tr>\n    <tr>\n      <th>1</th>\n      <td>0.0</td>\n      <td>0.0</td>\n      <td>0.0</td>\n      <td>0.0</td>\n      <td>0.251799</td>\n      <td>-0.619749</td>\n      <td>-1.397872</td>\n      <td>-1.587931</td>\n      <td>-1.134729</td>\n      <td>1.209157</td>\n      <td>...</td>\n      <td>0.598861</td>\n      <td>4.428646</td>\n      <td>0.0</td>\n      <td>-0.016009</td>\n      <td>0.860897</td>\n      <td>-0.281766</td>\n      <td>-0.562210</td>\n      <td>1.444154</td>\n      <td>0.969759</td>\n      <td>0.974358</td>\n    </tr>\n    <tr>\n      <th>2</th>\n      <td>0.0</td>\n      <td>0.0</td>\n      <td>0.0</td>\n      <td>1.0</td>\n      <td>0.251799</td>\n      <td>0.078698</td>\n      <td>-1.397872</td>\n      <td>-0.648348</td>\n      <td>1.452697</td>\n      <td>1.209157</td>\n      <td>...</td>\n      <td>0.598861</td>\n      <td>-0.225803</td>\n      <td>0.0</td>\n      <td>-0.946011</td>\n      <td>0.860897</td>\n      <td>-0.281766</td>\n      <td>-0.562210</td>\n      <td>0.748798</td>\n      <td>-0.353982</td>\n      <td>0.974358</td>\n    </tr>\n    <tr>\n      <th>3</th>\n      <td>1.0</td>\n      <td>0.0</td>\n      <td>0.0</td>\n      <td>0.0</td>\n      <td>0.251799</td>\n      <td>0.777145</td>\n      <td>-1.397872</td>\n      <td>0.891952</td>\n      <td>-1.679451</td>\n      <td>0.290974</td>\n      <td>...</td>\n      <td>0.598861</td>\n      <td>-0.225803</td>\n      <td>0.0</td>\n      <td>0.913993</td>\n      <td>0.860897</td>\n      <td>3.549048</td>\n      <td>-0.562210</td>\n      <td>-0.873699</td>\n      <td>-0.684917</td>\n      <td>-0.638633</td>\n    </tr>\n    <tr>\n      <th>4</th>\n      <td>0.0</td>\n      <td>0.0</td>\n      <td>0.0</td>\n      <td>1.0</td>\n      <td>0.251799</td>\n      <td>0.777145</td>\n      <td>-1.397872</td>\n      <td>1.045982</td>\n      <td>0.431344</td>\n      <td>0.061428</td>\n      <td>...</td>\n      <td>0.598861</td>\n      <td>-0.225803</td>\n      <td>0.0</td>\n      <td>0.913993</td>\n      <td>0.860897</td>\n      <td>-0.281766</td>\n      <td>0.195706</td>\n      <td>0.826060</td>\n      <td>-0.023046</td>\n      <td>0.743930</td>\n    </tr>\n    <tr>\n      <th>...</th>\n      <td>...</td>\n      <td>...</td>\n      <td>...</td>\n      <td>...</td>\n      <td>...</td>\n      <td>...</td>\n      <td>...</td>\n      <td>...</td>\n      <td>...</td>\n      <td>...</td>\n      <td>...</td>\n      <td>...</td>\n      <td>...</td>\n      <td>...</td>\n      <td>...</td>\n      <td>...</td>\n      <td>...</td>\n      <td>...</td>\n      <td>...</td>\n      <td>...</td>\n      <td>...</td>\n    </tr>\n    <tr>\n      <th>634</th>\n      <td>1.0</td>\n      <td>0.0</td>\n      <td>0.0</td>\n      <td>0.0</td>\n      <td>0.251799</td>\n      <td>-0.619749</td>\n      <td>-1.397872</td>\n      <td>1.045982</td>\n      <td>0.431344</td>\n      <td>0.061428</td>\n      <td>...</td>\n      <td>-0.460439</td>\n      <td>-0.225803</td>\n      <td>0.0</td>\n      <td>0.913993</td>\n      <td>0.860897</td>\n      <td>-0.281766</td>\n      <td>0.195706</td>\n      <td>0.826060</td>\n      <td>-0.023046</td>\n      <td>0.743930</td>\n    </tr>\n    <tr>\n      <th>635</th>\n      <td>1.0</td>\n      <td>0.0</td>\n      <td>0.0</td>\n      <td>0.0</td>\n      <td>0.251799</td>\n      <td>-0.619749</td>\n      <td>-1.397872</td>\n      <td>0.214220</td>\n      <td>-1.270910</td>\n      <td>0.290974</td>\n      <td>...</td>\n      <td>-0.460439</td>\n      <td>-0.225803</td>\n      <td>1.0</td>\n      <td>-0.016009</td>\n      <td>-1.161579</td>\n      <td>-0.281766</td>\n      <td>0.195706</td>\n      <td>0.671537</td>\n      <td>-0.023046</td>\n      <td>0.513503</td>\n    </tr>\n    <tr>\n      <th>636</th>\n      <td>0.0</td>\n      <td>0.0</td>\n      <td>0.0</td>\n      <td>0.0</td>\n      <td>-1.845586</td>\n      <td>-0.619749</td>\n      <td>-1.397872</td>\n      <td>-1.587931</td>\n      <td>-1.066639</td>\n      <td>0.061428</td>\n      <td>...</td>\n      <td>0.069211</td>\n      <td>-0.225803</td>\n      <td>0.0</td>\n      <td>-0.016009</td>\n      <td>0.860897</td>\n      <td>-0.281766</td>\n      <td>5.501118</td>\n      <td>1.444154</td>\n      <td>-0.353982</td>\n      <td>1.665639</td>\n    </tr>\n    <tr>\n      <th>637</th>\n      <td>0.0</td>\n      <td>0.0</td>\n      <td>0.0</td>\n      <td>0.0</td>\n      <td>-1.845586</td>\n      <td>0.078698</td>\n      <td>-0.477006</td>\n      <td>0.152608</td>\n      <td>0.363254</td>\n      <td>0.290974</td>\n      <td>...</td>\n      <td>0.069211</td>\n      <td>-0.225803</td>\n      <td>0.0</td>\n      <td>0.913993</td>\n      <td>0.860897</td>\n      <td>-0.281766</td>\n      <td>0.953622</td>\n      <td>1.598678</td>\n      <td>-0.353982</td>\n      <td>1.896067</td>\n    </tr>\n    <tr>\n      <th>638</th>\n      <td>0.0</td>\n      <td>0.0</td>\n      <td>0.0</td>\n      <td>0.0</td>\n      <td>-1.845586</td>\n      <td>1.475592</td>\n      <td>0.443860</td>\n      <td>-0.648348</td>\n      <td>1.044156</td>\n      <td>0.290974</td>\n      <td>...</td>\n      <td>0.069211</td>\n      <td>-0.225803</td>\n      <td>0.0</td>\n      <td>-0.016009</td>\n      <td>-1.161579</td>\n      <td>-0.281766</td>\n      <td>0.195706</td>\n      <td>-0.178343</td>\n      <td>0.473356</td>\n      <td>-0.408206</td>\n    </tr>\n  </tbody>\n</table>\n<p>639 rows × 22 columns</p>\n</div>"
     },
     "execution_count": 27,
     "metadata": {},
     "output_type": "execute_result"
    }
   ],
   "source": [
    "scaled_input"
   ],
   "metadata": {
    "collapsed": false,
    "ExecuteTime": {
     "end_time": "2024-04-19T09:09:01.790722Z",
     "start_time": "2024-04-19T09:09:01.757594Z"
    }
   },
   "id": "d71fa721397604ee",
   "execution_count": 27
  },
  {
   "cell_type": "code",
   "outputs": [
    {
     "data": {
      "text/plain": "(639, 22)"
     },
     "execution_count": 28,
     "metadata": {},
     "output_type": "execute_result"
    }
   ],
   "source": [
    "scaled_input.shape"
   ],
   "metadata": {
    "collapsed": false,
    "ExecuteTime": {
     "end_time": "2024-04-19T09:09:01.817024Z",
     "start_time": "2024-04-19T09:09:01.809158Z"
    }
   },
   "id": "6d3c8db0ebfd2ad3",
   "execution_count": 28
  },
  {
   "cell_type": "markdown",
   "source": [],
   "metadata": {
    "collapsed": false
   },
   "id": "cf34b7651bf95290"
  },
  {
   "cell_type": "markdown",
   "source": [
    "## Splitting the data into train and test also using the shuffle function"
   ],
   "metadata": {
    "collapsed": false
   },
   "id": "b286697900c90a2c"
  },
  {
   "cell_type": "code",
   "outputs": [],
   "source": [
    "#We are importing the module we need for train test split the data\n",
    "from sklearn.model_selection import train_test_split"
   ],
   "metadata": {
    "collapsed": false,
    "ExecuteTime": {
     "end_time": "2024-04-19T09:09:01.992244Z",
     "start_time": "2024-04-19T09:09:01.891527Z"
    }
   },
   "id": "d07dbca3d43f3d24",
   "execution_count": 29
  },
  {
   "cell_type": "markdown",
   "source": [
    "#### Split"
   ],
   "metadata": {
    "collapsed": false
   },
   "id": "aad00b4de72172ca"
  },
  {
   "cell_type": "code",
   "outputs": [
    {
     "data": {
      "text/plain": "[     Category_1  Category_2  Category_3  Category_4  Month of absence  \\\n 148         0.0         0.0         0.0         1.0         -0.047828   \n 175         0.0         0.0         1.0         0.0          0.251799   \n 610         0.0         0.0         1.0         0.0         -0.047828   \n 257         0.0         0.0         0.0         1.0          1.749931   \n 16          1.0         0.0         0.0         0.0          0.551425   \n ..          ...         ...         ...         ...               ...   \n 415         1.0         0.0         0.0         0.0          1.150678   \n 10          1.0         0.0         0.0         0.0          0.251799   \n 514         0.0         0.0         0.0         1.0         -1.246333   \n 290         1.0         0.0         0.0         0.0         -1.246333   \n 126         0.0         0.0         0.0         1.0         -0.647080   \n \n      Day of the week   Seasons  Transportation expense  \\\n 148        -1.318196  0.443860                2.154997   \n 175        -1.318196 -1.397872                1.045982   \n 610         0.777145  0.443860               -1.587931   \n 257        -1.318196  1.364726               -0.648348   \n 16         -1.318196 -1.397872                2.154997   \n ..               ...       ...                     ...   \n 415         0.777145  1.364726                0.214220   \n 10          0.078698 -1.397872                0.599295   \n 514         0.078698 -0.477006               -0.648348   \n 290         0.777145 -0.477006               -0.648348   \n 126         1.475592  0.443860                0.414459   \n \n      Distance from Residence to Work  Service time  ...  Hit target  \\\n 148                         1.520787     -2.234031  ...   -0.195614   \n 175                         0.431344      0.061428  ...    0.863686   \n 610                        -1.134729      1.209157  ...    0.334036   \n 257                         1.452697      1.209157  ...   -0.460439   \n 16                          1.520787     -2.234031  ...   -0.725264   \n ..                               ...           ...  ...         ...   \n 415                        -0.930459     -1.086302  ...   -0.990089   \n 10                          1.384606     -0.397664  ...    0.598861   \n 514                         1.452697      1.209157  ...    0.598861   \n 290                         1.452697      1.209157  ...    0.334036   \n 126                        -0.317648      0.290974  ...    0.334036   \n \n      Disciplinary failure  Education  Children  Social drinker  Social smoker  \\\n 148             -0.225803        0.0 -0.016009        0.860897      -0.281766   \n 175             -0.225803        0.0  0.913993        0.860897      -0.281766   \n 610             -0.225803        0.0 -0.016009        0.860897      -0.281766   \n 257             -0.225803        0.0 -0.946011        0.860897      -0.281766   \n 16              -0.225803        0.0 -0.016009        0.860897      -0.281766   \n ..                    ...        ...       ...             ...            ...   \n 415             -0.225803        1.0 -0.946011       -1.161579      -0.281766   \n 10              -0.225803        0.0  2.773996        0.860897      -0.281766   \n 514             -0.225803        0.0 -0.946011        0.860897      -0.281766   \n 290             -0.225803        0.0 -0.946011        0.860897      -0.281766   \n 126             -0.225803        0.0  0.913993       -1.161579      -0.281766   \n \n           Pet    Weight    Height  Body mass index  \n 148  2.469454  0.053442 -0.023046         0.052648  \n 175  0.195706  0.826060 -0.023046         0.743930  \n 610 -0.562210  1.444154  0.969759         0.974358  \n 257 -0.562210  0.748798 -0.353982         0.974358  \n 16   2.469454  0.053442 -0.023046         0.052648  \n ..        ...       ...       ...              ...  \n 415 -0.562210 -0.332866  0.969759        -0.408206  \n 10  -0.562210 -1.105484 -0.684917        -0.869061  \n 514 -0.562210  0.748798 -0.353982         0.974358  \n 290 -0.562210  0.748798 -0.353982         0.974358  \n 126  0.195706  0.517013 -1.181320         1.204785  \n \n [479 rows x 22 columns],\n      Category_1  Category_2  Category_3  Category_4  Month of absence  \\\n 294         0.0         0.0         0.0         1.0         -1.246333   \n 626         1.0         0.0         0.0         0.0          0.251799   \n 375         0.0         0.0         0.0         1.0          0.251799   \n 565         0.0         0.0         0.0         1.0         -0.647080   \n 370         0.0         0.0         0.0         1.0          0.251799   \n ..          ...         ...         ...         ...               ...   \n 80          0.0         0.0         0.0         1.0         -1.246333   \n 538         0.0         0.0         0.0         1.0         -0.946707   \n 506         0.0         0.0         0.0         1.0         -1.246333   \n 153         1.0         0.0         0.0         0.0         -0.047828   \n 260         0.0         0.0         0.0         1.0          1.749931   \n \n      Day of the week   Seasons  Transportation expense  \\\n 294        -0.619749 -0.477006                0.383653   \n 626        -1.318196 -1.397872                0.106399   \n 375        -1.318196 -1.397872                0.599295   \n 565         1.475592  0.443860               -0.648348   \n 370         0.777145 -1.397872                0.060190   \n ..               ...       ...                     ...   \n 80          1.475592 -0.477006                1.045982   \n 538         0.078698 -0.477006                1.045982   \n 506         1.475592 -0.477006               -0.648348   \n 153        -1.318196  0.443860                0.383653   \n 260         1.475592  1.364726                0.599295   \n \n      Distance from Residence to Work  Service time  ...  Hit target  \\\n 294                        -0.317648      0.750065  ...    0.334036   \n 626                        -1.066639      0.750065  ...   -0.460439   \n 375                         1.384606     -0.397664  ...   -0.725264   \n 565                        -0.249557     -0.856756  ...   -0.990089   \n 370                        -0.249557     -0.856756  ...   -0.725264   \n ..                               ...           ...  ...         ...   \n 80                          0.431344      0.061428  ...    1.128511   \n 538                         0.431344      0.061428  ...    1.128511   \n 506                         1.452697      1.209157  ...    0.598861   \n 153                        -0.317648      0.750065  ...   -0.195614   \n 260                         1.384606     -0.397664  ...   -0.460439   \n \n      Disciplinary failure  Education  Children  Social drinker  Social smoker  \\\n 294             -0.225803        0.0 -0.946011        0.860897      -0.281766   \n 626             -0.225803        0.0  0.913993       -1.161579      -0.281766   \n 375             -0.225803        0.0  2.773996        0.860897      -0.281766   \n 565             -0.225803        1.0 -0.946011       -1.161579      -0.281766   \n 370             -0.225803        0.0 -0.016009       -1.161579      -0.281766   \n ..                    ...        ...       ...             ...            ...   \n 80              -0.225803        0.0  0.913993        0.860897      -0.281766   \n 538             -0.225803        0.0  0.913993        0.860897      -0.281766   \n 506             -0.225803        0.0 -0.946011        0.860897      -0.281766   \n 153             -0.225803        0.0 -0.946011        0.860897      -0.281766   \n 260             -0.225803        0.0  2.773996        0.860897      -0.281766   \n \n           Pet    Weight    Height  Body mass index  \n 294 -0.562210 -0.950961 -0.353982        -0.869061  \n 626  0.195706 -1.105484 -0.023046        -1.099488  \n 375 -0.562210 -1.105484 -0.684917        -0.869061  \n 565 -0.562210 -1.800840 -0.188514        -1.790770  \n 370  0.953622 -0.796437 -0.519449        -0.638633  \n ..        ...       ...       ...              ...  \n 80   0.195706  0.826060 -0.023046         0.743930  \n 538  0.195706  0.826060 -0.023046         0.743930  \n 506 -0.562210  0.748798 -0.353982         0.974358  \n 153 -0.562210 -0.950961 -0.353982        -0.869061  \n 260 -0.562210 -1.105484 -0.684917        -0.869061  \n \n [160 rows x 22 columns],\n array([1, 1, 1, 0, 1, 1, 0, 1, 0, 0, 0, 0, 1, 0, 1, 0, 0, 1, 1, 0, 0, 0,\n        1, 1, 0, 0, 0, 0, 0, 0, 1, 0, 1, 1, 0, 0, 1, 1, 1, 1, 0, 0, 0, 0,\n        1, 0, 0, 0, 0, 1, 0, 0, 1, 0, 0, 0, 1, 0, 0, 0, 0, 0, 1, 1, 0, 1,\n        0, 0, 0, 0, 1, 0, 0, 0, 1, 0, 0, 1, 0, 1, 0, 1, 1, 0, 1, 1, 0, 0,\n        1, 1, 1, 1, 1, 0, 1, 0, 0, 0, 0, 0, 0, 1, 0, 0, 0, 1, 0, 0, 0, 1,\n        0, 1, 0, 0, 0, 1, 1, 1, 1, 0, 0, 0, 0, 1, 1, 0, 1, 1, 1, 1, 0, 1,\n        0, 0, 0, 0, 0, 0, 0, 0, 0, 0, 0, 0, 1, 0, 1, 1, 1, 0, 0, 0, 0, 0,\n        0, 1, 0, 0, 0, 0, 0, 0, 1, 0, 1, 1, 1, 1, 1, 0, 1, 0, 1, 0, 1, 0,\n        1, 0, 1, 0, 0, 0, 0, 1, 0, 0, 1, 0, 1, 1, 0, 0, 0, 0, 1, 1, 0, 0,\n        1, 1, 0, 1, 1, 0, 0, 1, 1, 0, 1, 0, 0, 1, 1, 1, 0, 0, 0, 0, 1, 1,\n        0, 0, 1, 0, 0, 0, 0, 0, 1, 0, 1, 0, 0, 1, 0, 1, 1, 1, 0, 0, 1, 1,\n        1, 0, 1, 1, 1, 1, 0, 1, 0, 0, 0, 0, 0, 0, 1, 1, 1, 1, 0, 0, 1, 1,\n        1, 1, 0, 1, 0, 1, 1, 0, 0, 1, 0, 0, 0, 0, 0, 1, 1, 1, 0, 1, 1, 1,\n        0, 1, 1, 1, 1, 0, 0, 0, 0, 0, 0, 0, 1, 0, 0, 0, 0, 1, 1, 1, 0, 0,\n        1, 0, 0, 1, 0, 0, 1, 1, 1, 0, 1, 1, 0, 0, 0, 1, 1, 0, 0, 1, 0, 0,\n        0, 1, 0, 1, 0, 1, 1, 0, 0, 0, 1, 0, 1, 1, 0, 1, 1, 0, 1, 1, 1, 1,\n        0, 1, 0, 1, 1, 0, 0, 1, 1, 1, 0, 1, 1, 0, 0, 0, 1, 0, 0, 0, 0, 1,\n        0, 0, 1, 1, 0, 0, 0, 1, 0, 1, 0, 0, 0, 0, 0, 0, 0, 0, 0, 0, 1, 0,\n        0, 0, 1, 1, 1, 1, 1, 1, 0, 1, 1, 0, 0, 1, 0, 1, 1, 1, 0, 0, 1, 0,\n        0, 1, 0, 0, 1, 0, 0, 0, 1, 1, 1, 1, 1, 1, 0, 1, 1, 0, 0, 0, 1, 1,\n        0, 1, 1, 0, 0, 1, 0, 1, 0, 0, 1, 1, 0, 0, 0, 1, 1, 1, 0, 1, 1, 0,\n        0, 1, 1, 0, 1, 0, 1, 0, 0, 1, 1, 0, 0, 1, 0, 1, 1]),\n array([0, 1, 1, 0, 1, 0, 0, 0, 0, 1, 0, 1, 1, 1, 0, 1, 0, 0, 0, 0, 1, 0,\n        0, 0, 1, 1, 1, 0, 1, 0, 0, 0, 0, 1, 1, 1, 1, 1, 0, 0, 0, 0, 1, 1,\n        1, 1, 0, 0, 0, 1, 0, 1, 1, 1, 0, 0, 0, 1, 0, 0, 1, 0, 0, 0, 1, 1,\n        1, 0, 0, 1, 0, 0, 0, 1, 0, 1, 1, 1, 1, 0, 1, 0, 0, 1, 1, 0, 0, 1,\n        1, 0, 1, 1, 0, 0, 1, 1, 1, 0, 0, 0, 1, 0, 0, 1, 1, 1, 1, 1, 1, 0,\n        0, 0, 0, 0, 0, 0, 0, 0, 1, 1, 0, 0, 1, 0, 0, 1, 1, 1, 0, 0, 1, 1,\n        0, 1, 0, 0, 1, 0, 1, 0, 1, 0, 0, 1, 1, 1, 0, 1, 1, 0, 1, 1, 0, 1,\n        1, 1, 1, 0, 1, 1])]"
     },
     "execution_count": 30,
     "metadata": {},
     "output_type": "execute_result"
    }
   ],
   "source": [
    "train_test_split(scaled_input,targets)"
   ],
   "metadata": {
    "collapsed": false,
    "ExecuteTime": {
     "end_time": "2024-04-19T09:09:02.026003Z",
     "start_time": "2024-04-19T09:09:01.994424Z"
    }
   },
   "id": "4977ee4cd217b59b",
   "execution_count": 30
  },
  {
   "cell_type": "code",
   "outputs": [],
   "source": [
    "x_train , x_test ,y_train , y_test = train_test_split(scaled_input,targets,train_size=0.8,random_state=20)"
   ],
   "metadata": {
    "collapsed": false,
    "ExecuteTime": {
     "end_time": "2024-04-19T09:09:02.047029Z",
     "start_time": "2024-04-19T09:09:02.038760Z"
    }
   },
   "id": "66c16191eca682e2",
   "execution_count": 31
  },
  {
   "cell_type": "code",
   "outputs": [
    {
     "name": "stdout",
     "output_type": "stream",
     "text": [
      "(511, 22) (511,)\n"
     ]
    }
   ],
   "source": [
    "print(x_train.shape,y_train.shape)"
   ],
   "metadata": {
    "collapsed": false,
    "ExecuteTime": {
     "end_time": "2024-04-19T09:09:02.210926Z",
     "start_time": "2024-04-19T09:09:02.204998Z"
    }
   },
   "id": "85744e6e210b6d1a",
   "execution_count": 32
  },
  {
   "cell_type": "code",
   "outputs": [
    {
     "name": "stdout",
     "output_type": "stream",
     "text": [
      "(128, 22) (128,)\n"
     ]
    }
   ],
   "source": [
    "print(x_test.shape , y_test.shape)"
   ],
   "metadata": {
    "collapsed": false,
    "ExecuteTime": {
     "end_time": "2024-04-19T09:09:02.376212Z",
     "start_time": "2024-04-19T09:09:02.370739Z"
    }
   },
   "id": "c3ca3259d4bb1b6c",
   "execution_count": 33
  },
  {
   "cell_type": "markdown",
   "source": [
    "### Logistic Regression Modelling"
   ],
   "metadata": {
    "collapsed": false
   },
   "id": "78efcc5d01679da5"
  },
  {
   "cell_type": "code",
   "outputs": [],
   "source": [
    "#Importing the Suitable Libraries\n",
    "from sklearn.linear_model import LogisticRegression"
   ],
   "metadata": {
    "collapsed": false,
    "ExecuteTime": {
     "end_time": "2024-04-19T09:09:02.614711Z",
     "start_time": "2024-04-19T09:09:02.511024Z"
    }
   },
   "id": "a09d8f935d974aef",
   "execution_count": 34
  },
  {
   "cell_type": "code",
   "outputs": [],
   "source": [
    "model = LogisticRegression()"
   ],
   "metadata": {
    "collapsed": false,
    "ExecuteTime": {
     "end_time": "2024-04-19T09:09:02.621562Z",
     "start_time": "2024-04-19T09:09:02.617087Z"
    }
   },
   "id": "fcb1a0d7b91fa40a",
   "execution_count": 35
  },
  {
   "cell_type": "code",
   "outputs": [
    {
     "data": {
      "text/plain": "LogisticRegression()",
      "text/html": "<style>#sk-container-id-2 {\n  /* Definition of color scheme common for light and dark mode */\n  --sklearn-color-text: black;\n  --sklearn-color-line: gray;\n  /* Definition of color scheme for unfitted estimators */\n  --sklearn-color-unfitted-level-0: #fff5e6;\n  --sklearn-color-unfitted-level-1: #f6e4d2;\n  --sklearn-color-unfitted-level-2: #ffe0b3;\n  --sklearn-color-unfitted-level-3: chocolate;\n  /* Definition of color scheme for fitted estimators */\n  --sklearn-color-fitted-level-0: #f0f8ff;\n  --sklearn-color-fitted-level-1: #d4ebff;\n  --sklearn-color-fitted-level-2: #b3dbfd;\n  --sklearn-color-fitted-level-3: cornflowerblue;\n\n  /* Specific color for light theme */\n  --sklearn-color-text-on-default-background: var(--sg-text-color, var(--theme-code-foreground, var(--jp-content-font-color1, black)));\n  --sklearn-color-background: var(--sg-background-color, var(--theme-background, var(--jp-layout-color0, white)));\n  --sklearn-color-border-box: var(--sg-text-color, var(--theme-code-foreground, var(--jp-content-font-color1, black)));\n  --sklearn-color-icon: #696969;\n\n  @media (prefers-color-scheme: dark) {\n    /* Redefinition of color scheme for dark theme */\n    --sklearn-color-text-on-default-background: var(--sg-text-color, var(--theme-code-foreground, var(--jp-content-font-color1, white)));\n    --sklearn-color-background: var(--sg-background-color, var(--theme-background, var(--jp-layout-color0, #111)));\n    --sklearn-color-border-box: var(--sg-text-color, var(--theme-code-foreground, var(--jp-content-font-color1, white)));\n    --sklearn-color-icon: #878787;\n  }\n}\n\n#sk-container-id-2 {\n  color: var(--sklearn-color-text);\n}\n\n#sk-container-id-2 pre {\n  padding: 0;\n}\n\n#sk-container-id-2 input.sk-hidden--visually {\n  border: 0;\n  clip: rect(1px 1px 1px 1px);\n  clip: rect(1px, 1px, 1px, 1px);\n  height: 1px;\n  margin: -1px;\n  overflow: hidden;\n  padding: 0;\n  position: absolute;\n  width: 1px;\n}\n\n#sk-container-id-2 div.sk-dashed-wrapped {\n  border: 1px dashed var(--sklearn-color-line);\n  margin: 0 0.4em 0.5em 0.4em;\n  box-sizing: border-box;\n  padding-bottom: 0.4em;\n  background-color: var(--sklearn-color-background);\n}\n\n#sk-container-id-2 div.sk-container {\n  /* jupyter's `normalize.less` sets `[hidden] { display: none; }`\n     but bootstrap.min.css set `[hidden] { display: none !important; }`\n     so we also need the `!important` here to be able to override the\n     default hidden behavior on the sphinx rendered scikit-learn.org.\n     See: https://github.com/scikit-learn/scikit-learn/issues/21755 */\n  display: inline-block !important;\n  position: relative;\n}\n\n#sk-container-id-2 div.sk-text-repr-fallback {\n  display: none;\n}\n\ndiv.sk-parallel-item,\ndiv.sk-serial,\ndiv.sk-item {\n  /* draw centered vertical line to link estimators */\n  background-image: linear-gradient(var(--sklearn-color-text-on-default-background), var(--sklearn-color-text-on-default-background));\n  background-size: 2px 100%;\n  background-repeat: no-repeat;\n  background-position: center center;\n}\n\n/* Parallel-specific style estimator block */\n\n#sk-container-id-2 div.sk-parallel-item::after {\n  content: \"\";\n  width: 100%;\n  border-bottom: 2px solid var(--sklearn-color-text-on-default-background);\n  flex-grow: 1;\n}\n\n#sk-container-id-2 div.sk-parallel {\n  display: flex;\n  align-items: stretch;\n  justify-content: center;\n  background-color: var(--sklearn-color-background);\n  position: relative;\n}\n\n#sk-container-id-2 div.sk-parallel-item {\n  display: flex;\n  flex-direction: column;\n}\n\n#sk-container-id-2 div.sk-parallel-item:first-child::after {\n  align-self: flex-end;\n  width: 50%;\n}\n\n#sk-container-id-2 div.sk-parallel-item:last-child::after {\n  align-self: flex-start;\n  width: 50%;\n}\n\n#sk-container-id-2 div.sk-parallel-item:only-child::after {\n  width: 0;\n}\n\n/* Serial-specific style estimator block */\n\n#sk-container-id-2 div.sk-serial {\n  display: flex;\n  flex-direction: column;\n  align-items: center;\n  background-color: var(--sklearn-color-background);\n  padding-right: 1em;\n  padding-left: 1em;\n}\n\n\n/* Toggleable style: style used for estimator/Pipeline/ColumnTransformer box that is\nclickable and can be expanded/collapsed.\n- Pipeline and ColumnTransformer use this feature and define the default style\n- Estimators will overwrite some part of the style using the `sk-estimator` class\n*/\n\n/* Pipeline and ColumnTransformer style (default) */\n\n#sk-container-id-2 div.sk-toggleable {\n  /* Default theme specific background. It is overwritten whether we have a\n  specific estimator or a Pipeline/ColumnTransformer */\n  background-color: var(--sklearn-color-background);\n}\n\n/* Toggleable label */\n#sk-container-id-2 label.sk-toggleable__label {\n  cursor: pointer;\n  display: block;\n  width: 100%;\n  margin-bottom: 0;\n  padding: 0.5em;\n  box-sizing: border-box;\n  text-align: center;\n}\n\n#sk-container-id-2 label.sk-toggleable__label-arrow:before {\n  /* Arrow on the left of the label */\n  content: \"▸\";\n  float: left;\n  margin-right: 0.25em;\n  color: var(--sklearn-color-icon);\n}\n\n#sk-container-id-2 label.sk-toggleable__label-arrow:hover:before {\n  color: var(--sklearn-color-text);\n}\n\n/* Toggleable content - dropdown */\n\n#sk-container-id-2 div.sk-toggleable__content {\n  max-height: 0;\n  max-width: 0;\n  overflow: hidden;\n  text-align: left;\n  /* unfitted */\n  background-color: var(--sklearn-color-unfitted-level-0);\n}\n\n#sk-container-id-2 div.sk-toggleable__content.fitted {\n  /* fitted */\n  background-color: var(--sklearn-color-fitted-level-0);\n}\n\n#sk-container-id-2 div.sk-toggleable__content pre {\n  margin: 0.2em;\n  border-radius: 0.25em;\n  color: var(--sklearn-color-text);\n  /* unfitted */\n  background-color: var(--sklearn-color-unfitted-level-0);\n}\n\n#sk-container-id-2 div.sk-toggleable__content.fitted pre {\n  /* unfitted */\n  background-color: var(--sklearn-color-fitted-level-0);\n}\n\n#sk-container-id-2 input.sk-toggleable__control:checked~div.sk-toggleable__content {\n  /* Expand drop-down */\n  max-height: 200px;\n  max-width: 100%;\n  overflow: auto;\n}\n\n#sk-container-id-2 input.sk-toggleable__control:checked~label.sk-toggleable__label-arrow:before {\n  content: \"▾\";\n}\n\n/* Pipeline/ColumnTransformer-specific style */\n\n#sk-container-id-2 div.sk-label input.sk-toggleable__control:checked~label.sk-toggleable__label {\n  color: var(--sklearn-color-text);\n  background-color: var(--sklearn-color-unfitted-level-2);\n}\n\n#sk-container-id-2 div.sk-label.fitted input.sk-toggleable__control:checked~label.sk-toggleable__label {\n  background-color: var(--sklearn-color-fitted-level-2);\n}\n\n/* Estimator-specific style */\n\n/* Colorize estimator box */\n#sk-container-id-2 div.sk-estimator input.sk-toggleable__control:checked~label.sk-toggleable__label {\n  /* unfitted */\n  background-color: var(--sklearn-color-unfitted-level-2);\n}\n\n#sk-container-id-2 div.sk-estimator.fitted input.sk-toggleable__control:checked~label.sk-toggleable__label {\n  /* fitted */\n  background-color: var(--sklearn-color-fitted-level-2);\n}\n\n#sk-container-id-2 div.sk-label label.sk-toggleable__label,\n#sk-container-id-2 div.sk-label label {\n  /* The background is the default theme color */\n  color: var(--sklearn-color-text-on-default-background);\n}\n\n/* On hover, darken the color of the background */\n#sk-container-id-2 div.sk-label:hover label.sk-toggleable__label {\n  color: var(--sklearn-color-text);\n  background-color: var(--sklearn-color-unfitted-level-2);\n}\n\n/* Label box, darken color on hover, fitted */\n#sk-container-id-2 div.sk-label.fitted:hover label.sk-toggleable__label.fitted {\n  color: var(--sklearn-color-text);\n  background-color: var(--sklearn-color-fitted-level-2);\n}\n\n/* Estimator label */\n\n#sk-container-id-2 div.sk-label label {\n  font-family: monospace;\n  font-weight: bold;\n  display: inline-block;\n  line-height: 1.2em;\n}\n\n#sk-container-id-2 div.sk-label-container {\n  text-align: center;\n}\n\n/* Estimator-specific */\n#sk-container-id-2 div.sk-estimator {\n  font-family: monospace;\n  border: 1px dotted var(--sklearn-color-border-box);\n  border-radius: 0.25em;\n  box-sizing: border-box;\n  margin-bottom: 0.5em;\n  /* unfitted */\n  background-color: var(--sklearn-color-unfitted-level-0);\n}\n\n#sk-container-id-2 div.sk-estimator.fitted {\n  /* fitted */\n  background-color: var(--sklearn-color-fitted-level-0);\n}\n\n/* on hover */\n#sk-container-id-2 div.sk-estimator:hover {\n  /* unfitted */\n  background-color: var(--sklearn-color-unfitted-level-2);\n}\n\n#sk-container-id-2 div.sk-estimator.fitted:hover {\n  /* fitted */\n  background-color: var(--sklearn-color-fitted-level-2);\n}\n\n/* Specification for estimator info (e.g. \"i\" and \"?\") */\n\n/* Common style for \"i\" and \"?\" */\n\n.sk-estimator-doc-link,\na:link.sk-estimator-doc-link,\na:visited.sk-estimator-doc-link {\n  float: right;\n  font-size: smaller;\n  line-height: 1em;\n  font-family: monospace;\n  background-color: var(--sklearn-color-background);\n  border-radius: 1em;\n  height: 1em;\n  width: 1em;\n  text-decoration: none !important;\n  margin-left: 1ex;\n  /* unfitted */\n  border: var(--sklearn-color-unfitted-level-1) 1pt solid;\n  color: var(--sklearn-color-unfitted-level-1);\n}\n\n.sk-estimator-doc-link.fitted,\na:link.sk-estimator-doc-link.fitted,\na:visited.sk-estimator-doc-link.fitted {\n  /* fitted */\n  border: var(--sklearn-color-fitted-level-1) 1pt solid;\n  color: var(--sklearn-color-fitted-level-1);\n}\n\n/* On hover */\ndiv.sk-estimator:hover .sk-estimator-doc-link:hover,\n.sk-estimator-doc-link:hover,\ndiv.sk-label-container:hover .sk-estimator-doc-link:hover,\n.sk-estimator-doc-link:hover {\n  /* unfitted */\n  background-color: var(--sklearn-color-unfitted-level-3);\n  color: var(--sklearn-color-background);\n  text-decoration: none;\n}\n\ndiv.sk-estimator.fitted:hover .sk-estimator-doc-link.fitted:hover,\n.sk-estimator-doc-link.fitted:hover,\ndiv.sk-label-container:hover .sk-estimator-doc-link.fitted:hover,\n.sk-estimator-doc-link.fitted:hover {\n  /* fitted */\n  background-color: var(--sklearn-color-fitted-level-3);\n  color: var(--sklearn-color-background);\n  text-decoration: none;\n}\n\n/* Span, style for the box shown on hovering the info icon */\n.sk-estimator-doc-link span {\n  display: none;\n  z-index: 9999;\n  position: relative;\n  font-weight: normal;\n  right: .2ex;\n  padding: .5ex;\n  margin: .5ex;\n  width: min-content;\n  min-width: 20ex;\n  max-width: 50ex;\n  color: var(--sklearn-color-text);\n  box-shadow: 2pt 2pt 4pt #999;\n  /* unfitted */\n  background: var(--sklearn-color-unfitted-level-0);\n  border: .5pt solid var(--sklearn-color-unfitted-level-3);\n}\n\n.sk-estimator-doc-link.fitted span {\n  /* fitted */\n  background: var(--sklearn-color-fitted-level-0);\n  border: var(--sklearn-color-fitted-level-3);\n}\n\n.sk-estimator-doc-link:hover span {\n  display: block;\n}\n\n/* \"?\"-specific style due to the `<a>` HTML tag */\n\n#sk-container-id-2 a.estimator_doc_link {\n  float: right;\n  font-size: 1rem;\n  line-height: 1em;\n  font-family: monospace;\n  background-color: var(--sklearn-color-background);\n  border-radius: 1rem;\n  height: 1rem;\n  width: 1rem;\n  text-decoration: none;\n  /* unfitted */\n  color: var(--sklearn-color-unfitted-level-1);\n  border: var(--sklearn-color-unfitted-level-1) 1pt solid;\n}\n\n#sk-container-id-2 a.estimator_doc_link.fitted {\n  /* fitted */\n  border: var(--sklearn-color-fitted-level-1) 1pt solid;\n  color: var(--sklearn-color-fitted-level-1);\n}\n\n/* On hover */\n#sk-container-id-2 a.estimator_doc_link:hover {\n  /* unfitted */\n  background-color: var(--sklearn-color-unfitted-level-3);\n  color: var(--sklearn-color-background);\n  text-decoration: none;\n}\n\n#sk-container-id-2 a.estimator_doc_link.fitted:hover {\n  /* fitted */\n  background-color: var(--sklearn-color-fitted-level-3);\n}\n</style><div id=\"sk-container-id-2\" class=\"sk-top-container\"><div class=\"sk-text-repr-fallback\"><pre>LogisticRegression()</pre><b>In a Jupyter environment, please rerun this cell to show the HTML representation or trust the notebook. <br />On GitHub, the HTML representation is unable to render, please try loading this page with nbviewer.org.</b></div><div class=\"sk-container\" hidden><div class=\"sk-item\"><div class=\"sk-estimator fitted sk-toggleable\"><input class=\"sk-toggleable__control sk-hidden--visually\" id=\"sk-estimator-id-2\" type=\"checkbox\" checked><label for=\"sk-estimator-id-2\" class=\"sk-toggleable__label fitted sk-toggleable__label-arrow fitted\">&nbsp;&nbsp;LogisticRegression<a class=\"sk-estimator-doc-link fitted\" rel=\"noreferrer\" target=\"_blank\" href=\"https://scikit-learn.org/1.4/modules/generated/sklearn.linear_model.LogisticRegression.html\">?<span>Documentation for LogisticRegression</span></a><span class=\"sk-estimator-doc-link fitted\">i<span>Fitted</span></span></label><div class=\"sk-toggleable__content fitted\"><pre>LogisticRegression()</pre></div> </div></div></div></div>"
     },
     "execution_count": 36,
     "metadata": {},
     "output_type": "execute_result"
    }
   ],
   "source": [
    "model.fit(x_train,y_train)"
   ],
   "metadata": {
    "collapsed": false,
    "ExecuteTime": {
     "end_time": "2024-04-19T09:09:02.759031Z",
     "start_time": "2024-04-19T09:09:02.699899Z"
    }
   },
   "id": "a798dd3894f50921",
   "execution_count": 36
  },
  {
   "cell_type": "markdown",
   "source": [
    "### Model Prediction"
   ],
   "metadata": {
    "collapsed": false
   },
   "id": "46076d94c04538d7"
  },
  {
   "cell_type": "code",
   "outputs": [
    {
     "data": {
      "text/plain": "array([0, 0, 0, 0, 0, 1, 1, 0, 1, 1, 0, 0, 1, 1, 1, 0, 1, 0, 1, 0, 1, 1,\n       1, 0, 0, 1, 1, 1, 0, 1, 0, 0, 1, 0, 0, 0, 0, 1, 0, 0, 1, 0, 0, 1,\n       1, 0, 1, 1, 1, 1, 1, 0, 0, 0, 0, 0, 1, 1, 0, 0, 1, 1, 1, 0, 0, 1,\n       0, 0, 1, 1, 0, 1, 0, 1, 1, 0, 0, 0, 0, 0, 1, 0, 0, 0, 1, 1, 0, 0,\n       1, 0, 0, 1, 0, 1, 1, 1, 0, 1, 0, 0, 1, 1, 0, 1, 1, 0, 1, 0, 0, 1,\n       0, 1, 1, 1, 0, 1, 0, 0, 1, 0, 0, 1, 0, 1, 0, 0, 1, 0, 1, 1, 0, 1,\n       1, 0, 1, 1, 0, 0, 0, 0, 1, 0, 1, 1, 1, 0, 0, 1, 0, 0, 0, 0, 1, 1,\n       1, 0, 0, 0, 0, 1, 1, 1, 0, 0, 1, 1, 0, 1, 1, 1, 0, 1, 1, 0, 0, 1,\n       1, 0, 0, 1, 0, 0, 0, 0, 1, 0, 0, 0, 1, 1, 0, 0, 0, 1, 1, 0, 0, 1,\n       0, 0, 0, 1, 0, 1, 0, 1, 0, 1, 1, 1, 0, 1, 1, 0, 1, 0, 0, 0, 1, 1,\n       1, 0, 1, 0, 1, 0, 0, 1, 0, 0, 1, 1, 0, 0, 1, 0, 1, 0, 0, 1, 0, 1,\n       1, 0, 0, 1, 1, 0, 0, 1, 1, 1, 0, 0, 0, 1, 0, 0, 0, 0, 0, 0, 0, 0,\n       1, 0, 1, 0, 0, 0, 0, 0, 0, 1, 0, 1, 1, 1, 0, 0, 1, 1, 1, 0, 0, 0,\n       1, 0, 0, 1, 0, 0, 1, 0, 1, 1, 0, 1, 1, 1, 0, 1, 1, 0, 0, 0, 1, 0,\n       0, 0, 1, 1, 1, 1, 0, 0, 0, 1, 0, 0, 1, 0, 0, 0, 1, 0, 0, 1, 0, 0,\n       1, 0, 0, 0, 0, 0, 0, 0, 0, 1, 1, 0, 1, 0, 0, 0, 1, 0, 0, 1, 0, 0,\n       1, 1, 1, 0, 0, 0, 1, 1, 0, 1, 0, 1, 0, 1, 1, 1, 1, 1, 0, 1, 0, 1,\n       1, 0, 1, 0, 0, 0, 1, 0, 0, 0, 0, 1, 1, 0, 1, 0, 0, 0, 1, 1, 1, 1,\n       0, 1, 0, 1, 0, 0, 1, 1, 0, 0, 1, 1, 1, 0, 0, 0, 0, 1, 1, 0, 0, 0,\n       0, 0, 1, 0, 1, 1, 0, 0, 0, 0, 1, 0, 0, 1, 0, 1, 0, 1, 0, 0, 1, 1,\n       1, 1, 0, 1, 1, 1, 1, 0, 0, 0, 0, 1, 0, 1, 0, 0, 1, 0, 0, 1, 1, 1,\n       0, 1, 0, 0, 0, 0, 1, 0, 0, 0, 1, 0, 0, 1, 0, 0, 0, 1, 1, 0, 0, 0,\n       0, 1, 0, 1, 1, 0, 0, 0, 1, 1, 0, 0, 0, 1, 1, 1, 1, 0, 1, 0, 0, 1,\n       0, 1, 0, 0, 0])"
     },
     "execution_count": 37,
     "metadata": {},
     "output_type": "execute_result"
    }
   ],
   "source": [
    "#Predicting Values in the model\n",
    "y_pred = model.predict(x_train)\n",
    "y_pred"
   ],
   "metadata": {
    "collapsed": false,
    "ExecuteTime": {
     "end_time": "2024-04-19T09:09:02.805241Z",
     "start_time": "2024-04-19T09:09:02.793036Z"
    }
   },
   "id": "53c5f98cbe1eeb8f",
   "execution_count": 37
  },
  {
   "cell_type": "markdown",
   "source": [
    "#### Accuracy Score Of the Model"
   ],
   "metadata": {
    "collapsed": false
   },
   "id": "a506e866f1ab75e8"
  },
  {
   "cell_type": "code",
   "outputs": [
    {
     "name": "stdout",
     "output_type": "stream",
     "text": [
      "The Prediction % is  : 75.54%\n"
     ]
    }
   ],
   "source": [
    "from sklearn.metrics import accuracy_score\n",
    "accuracy_score(y_train,y_pred)\n",
    "print(f'The Prediction % is  : {accuracy_score(y_train,y_pred)*100:.2f}%')"
   ],
   "metadata": {
    "collapsed": false,
    "ExecuteTime": {
     "end_time": "2024-04-19T09:09:02.951417Z",
     "start_time": "2024-04-19T09:09:02.944973Z"
    }
   },
   "id": "f32f52a39cfbadf3",
   "execution_count": 38
  },
  {
   "cell_type": "markdown",
   "source": [
    "### Coefficient and Intercepts"
   ],
   "metadata": {
    "collapsed": false
   },
   "id": "a9c32c9f35c609fe"
  },
  {
   "cell_type": "code",
   "outputs": [
    {
     "data": {
      "text/plain": "array([-0.09436139])"
     },
     "execution_count": 39,
     "metadata": {},
     "output_type": "execute_result"
    }
   ],
   "source": [
    "#intercept \n",
    "model.intercept_"
   ],
   "metadata": {
    "collapsed": false,
    "ExecuteTime": {
     "end_time": "2024-04-19T09:09:03.107265Z",
     "start_time": "2024-04-19T09:09:03.097992Z"
    }
   },
   "id": "2a474f7d33c6b213",
   "execution_count": 39
  },
  {
   "cell_type": "code",
   "outputs": [
    {
     "data": {
      "text/plain": "array([[ 0.91252152, -0.20865181,  1.26558572, -0.84841746,  0.15347458,\n        -0.21065371, -0.21042964,  0.47447558, -0.27813498, -0.25344101,\n        -0.10916838,  0.10333114, -0.00961305, -0.86939228,  0.0982964 ,\n         0.51733272,  0.33715249,  0.10031518, -0.34367119,  0.44179956,\n        -0.20368423, -0.16942714]])"
     },
     "execution_count": 40,
     "metadata": {},
     "output_type": "execute_result"
    }
   ],
   "source": [
    "#Coefficient\n",
    "model.coef_"
   ],
   "metadata": {
    "collapsed": false,
    "ExecuteTime": {
     "end_time": "2024-04-19T09:09:03.234544Z",
     "start_time": "2024-04-19T09:09:03.225957Z"
    }
   },
   "id": "779f1c775c2b6121",
   "execution_count": 40
  },
  {
   "cell_type": "code",
   "outputs": [
    {
     "data": {
      "text/plain": "array(['Category_1', 'Category_2', 'Category_3', 'Category_4',\n       'Month of absence', 'Day of the week', 'Seasons',\n       'Transportation expense', 'Distance from Residence to Work',\n       'Service time', 'Age', 'Work load Average/day ', 'Hit target',\n       'Disciplinary failure', 'Education', 'Children', 'Social drinker',\n       'Social smoker', 'Pet', 'Weight', 'Height', 'Body mass index'],\n      dtype=object)"
     },
     "execution_count": 41,
     "metadata": {},
     "output_type": "execute_result"
    }
   ],
   "source": [
    "unscaled_inputs.columns.values"
   ],
   "metadata": {
    "collapsed": false,
    "ExecuteTime": {
     "end_time": "2024-04-19T09:09:03.405529Z",
     "start_time": "2024-04-19T09:09:03.397540Z"
    }
   },
   "id": "79f3d6e6a7d9b4f6",
   "execution_count": 41
  },
  {
   "cell_type": "code",
   "outputs": [],
   "source": [
    "feature_name = unscaled_inputs.columns.values"
   ],
   "metadata": {
    "collapsed": false,
    "ExecuteTime": {
     "end_time": "2024-04-19T09:09:03.526217Z",
     "start_time": "2024-04-19T09:09:03.521576Z"
    }
   },
   "id": "85ad7b3000800436",
   "execution_count": 42
  },
  {
   "cell_type": "markdown",
   "source": [
    "#### Creating a Summary Table"
   ],
   "metadata": {
    "collapsed": false
   },
   "id": "9bb3b7d291d6c527"
  },
  {
   "cell_type": "code",
   "outputs": [],
   "source": [
    "summary_table = pd.DataFrame(columns=['feature_name'],data=feature_name)\n",
    "summary_table['Coefficients'] = np.transpose(model.coef_)"
   ],
   "metadata": {
    "collapsed": false,
    "ExecuteTime": {
     "end_time": "2024-04-19T09:09:03.682328Z",
     "start_time": "2024-04-19T09:09:03.676029Z"
    }
   },
   "id": "e28281bcd37d3b0",
   "execution_count": 43
  },
  {
   "cell_type": "code",
   "outputs": [
    {
     "data": {
      "text/plain": "                       feature_name  Coefficients\n0                        Category_1      0.912522\n1                        Category_2     -0.208652\n2                        Category_3      1.265586\n3                        Category_4     -0.848417\n4                  Month of absence      0.153475\n5                   Day of the week     -0.210654\n6                           Seasons     -0.210430\n7            Transportation expense      0.474476\n8   Distance from Residence to Work     -0.278135\n9                      Service time     -0.253441\n10                              Age     -0.109168\n11           Work load Average/day       0.103331\n12                       Hit target     -0.009613\n13             Disciplinary failure     -0.869392\n14                        Education      0.098296\n15                         Children      0.517333\n16                   Social drinker      0.337152\n17                    Social smoker      0.100315\n18                              Pet     -0.343671\n19                           Weight      0.441800\n20                           Height     -0.203684\n21                  Body mass index     -0.169427",
      "text/html": "<div>\n<style scoped>\n    .dataframe tbody tr th:only-of-type {\n        vertical-align: middle;\n    }\n\n    .dataframe tbody tr th {\n        vertical-align: top;\n    }\n\n    .dataframe thead th {\n        text-align: right;\n    }\n</style>\n<table border=\"1\" class=\"dataframe\">\n  <thead>\n    <tr style=\"text-align: right;\">\n      <th></th>\n      <th>feature_name</th>\n      <th>Coefficients</th>\n    </tr>\n  </thead>\n  <tbody>\n    <tr>\n      <th>0</th>\n      <td>Category_1</td>\n      <td>0.912522</td>\n    </tr>\n    <tr>\n      <th>1</th>\n      <td>Category_2</td>\n      <td>-0.208652</td>\n    </tr>\n    <tr>\n      <th>2</th>\n      <td>Category_3</td>\n      <td>1.265586</td>\n    </tr>\n    <tr>\n      <th>3</th>\n      <td>Category_4</td>\n      <td>-0.848417</td>\n    </tr>\n    <tr>\n      <th>4</th>\n      <td>Month of absence</td>\n      <td>0.153475</td>\n    </tr>\n    <tr>\n      <th>5</th>\n      <td>Day of the week</td>\n      <td>-0.210654</td>\n    </tr>\n    <tr>\n      <th>6</th>\n      <td>Seasons</td>\n      <td>-0.210430</td>\n    </tr>\n    <tr>\n      <th>7</th>\n      <td>Transportation expense</td>\n      <td>0.474476</td>\n    </tr>\n    <tr>\n      <th>8</th>\n      <td>Distance from Residence to Work</td>\n      <td>-0.278135</td>\n    </tr>\n    <tr>\n      <th>9</th>\n      <td>Service time</td>\n      <td>-0.253441</td>\n    </tr>\n    <tr>\n      <th>10</th>\n      <td>Age</td>\n      <td>-0.109168</td>\n    </tr>\n    <tr>\n      <th>11</th>\n      <td>Work load Average/day</td>\n      <td>0.103331</td>\n    </tr>\n    <tr>\n      <th>12</th>\n      <td>Hit target</td>\n      <td>-0.009613</td>\n    </tr>\n    <tr>\n      <th>13</th>\n      <td>Disciplinary failure</td>\n      <td>-0.869392</td>\n    </tr>\n    <tr>\n      <th>14</th>\n      <td>Education</td>\n      <td>0.098296</td>\n    </tr>\n    <tr>\n      <th>15</th>\n      <td>Children</td>\n      <td>0.517333</td>\n    </tr>\n    <tr>\n      <th>16</th>\n      <td>Social drinker</td>\n      <td>0.337152</td>\n    </tr>\n    <tr>\n      <th>17</th>\n      <td>Social smoker</td>\n      <td>0.100315</td>\n    </tr>\n    <tr>\n      <th>18</th>\n      <td>Pet</td>\n      <td>-0.343671</td>\n    </tr>\n    <tr>\n      <th>19</th>\n      <td>Weight</td>\n      <td>0.441800</td>\n    </tr>\n    <tr>\n      <th>20</th>\n      <td>Height</td>\n      <td>-0.203684</td>\n    </tr>\n    <tr>\n      <th>21</th>\n      <td>Body mass index</td>\n      <td>-0.169427</td>\n    </tr>\n  </tbody>\n</table>\n</div>"
     },
     "execution_count": 44,
     "metadata": {},
     "output_type": "execute_result"
    }
   ],
   "source": [
    "summary_table"
   ],
   "metadata": {
    "collapsed": false,
    "ExecuteTime": {
     "end_time": "2024-04-19T09:09:03.729455Z",
     "start_time": "2024-04-19T09:09:03.716751Z"
    }
   },
   "id": "a830a5affb54832",
   "execution_count": 44
  },
  {
   "cell_type": "code",
   "outputs": [],
   "source": [
    "summary_table.index = summary_table.index + 1\n",
    "summary_table.loc[0] = ['Intercept',model.intercept_[0]]\n",
    "summary_table = summary_table.sort_index()"
   ],
   "metadata": {
    "collapsed": false,
    "ExecuteTime": {
     "end_time": "2024-04-19T09:09:03.859730Z",
     "start_time": "2024-04-19T09:09:03.851072Z"
    }
   },
   "id": "61240e472125f93f",
   "execution_count": 45
  },
  {
   "cell_type": "code",
   "outputs": [
    {
     "data": {
      "text/plain": "                       feature_name  Coefficients\n0                         Intercept     -0.094361\n1                        Category_1      0.912522\n2                        Category_2     -0.208652\n3                        Category_3      1.265586\n4                        Category_4     -0.848417\n5                  Month of absence      0.153475\n6                   Day of the week     -0.210654\n7                           Seasons     -0.210430\n8            Transportation expense      0.474476\n9   Distance from Residence to Work     -0.278135\n10                     Service time     -0.253441\n11                              Age     -0.109168\n12           Work load Average/day       0.103331\n13                       Hit target     -0.009613\n14             Disciplinary failure     -0.869392\n15                        Education      0.098296\n16                         Children      0.517333\n17                   Social drinker      0.337152\n18                    Social smoker      0.100315\n19                              Pet     -0.343671\n20                           Weight      0.441800\n21                           Height     -0.203684\n22                  Body mass index     -0.169427",
      "text/html": "<div>\n<style scoped>\n    .dataframe tbody tr th:only-of-type {\n        vertical-align: middle;\n    }\n\n    .dataframe tbody tr th {\n        vertical-align: top;\n    }\n\n    .dataframe thead th {\n        text-align: right;\n    }\n</style>\n<table border=\"1\" class=\"dataframe\">\n  <thead>\n    <tr style=\"text-align: right;\">\n      <th></th>\n      <th>feature_name</th>\n      <th>Coefficients</th>\n    </tr>\n  </thead>\n  <tbody>\n    <tr>\n      <th>0</th>\n      <td>Intercept</td>\n      <td>-0.094361</td>\n    </tr>\n    <tr>\n      <th>1</th>\n      <td>Category_1</td>\n      <td>0.912522</td>\n    </tr>\n    <tr>\n      <th>2</th>\n      <td>Category_2</td>\n      <td>-0.208652</td>\n    </tr>\n    <tr>\n      <th>3</th>\n      <td>Category_3</td>\n      <td>1.265586</td>\n    </tr>\n    <tr>\n      <th>4</th>\n      <td>Category_4</td>\n      <td>-0.848417</td>\n    </tr>\n    <tr>\n      <th>5</th>\n      <td>Month of absence</td>\n      <td>0.153475</td>\n    </tr>\n    <tr>\n      <th>6</th>\n      <td>Day of the week</td>\n      <td>-0.210654</td>\n    </tr>\n    <tr>\n      <th>7</th>\n      <td>Seasons</td>\n      <td>-0.210430</td>\n    </tr>\n    <tr>\n      <th>8</th>\n      <td>Transportation expense</td>\n      <td>0.474476</td>\n    </tr>\n    <tr>\n      <th>9</th>\n      <td>Distance from Residence to Work</td>\n      <td>-0.278135</td>\n    </tr>\n    <tr>\n      <th>10</th>\n      <td>Service time</td>\n      <td>-0.253441</td>\n    </tr>\n    <tr>\n      <th>11</th>\n      <td>Age</td>\n      <td>-0.109168</td>\n    </tr>\n    <tr>\n      <th>12</th>\n      <td>Work load Average/day</td>\n      <td>0.103331</td>\n    </tr>\n    <tr>\n      <th>13</th>\n      <td>Hit target</td>\n      <td>-0.009613</td>\n    </tr>\n    <tr>\n      <th>14</th>\n      <td>Disciplinary failure</td>\n      <td>-0.869392</td>\n    </tr>\n    <tr>\n      <th>15</th>\n      <td>Education</td>\n      <td>0.098296</td>\n    </tr>\n    <tr>\n      <th>16</th>\n      <td>Children</td>\n      <td>0.517333</td>\n    </tr>\n    <tr>\n      <th>17</th>\n      <td>Social drinker</td>\n      <td>0.337152</td>\n    </tr>\n    <tr>\n      <th>18</th>\n      <td>Social smoker</td>\n      <td>0.100315</td>\n    </tr>\n    <tr>\n      <th>19</th>\n      <td>Pet</td>\n      <td>-0.343671</td>\n    </tr>\n    <tr>\n      <th>20</th>\n      <td>Weight</td>\n      <td>0.441800</td>\n    </tr>\n    <tr>\n      <th>21</th>\n      <td>Height</td>\n      <td>-0.203684</td>\n    </tr>\n    <tr>\n      <th>22</th>\n      <td>Body mass index</td>\n      <td>-0.169427</td>\n    </tr>\n  </tbody>\n</table>\n</div>"
     },
     "execution_count": 46,
     "metadata": {},
     "output_type": "execute_result"
    }
   ],
   "source": [
    "summary_table"
   ],
   "metadata": {
    "collapsed": false,
    "ExecuteTime": {
     "end_time": "2024-04-19T09:09:03.963599Z",
     "start_time": "2024-04-19T09:09:03.952764Z"
    }
   },
   "id": "5d39c78daf3c7fca",
   "execution_count": 46
  },
  {
   "cell_type": "markdown",
   "source": [
    "### Interpreting the coefficients"
   ],
   "metadata": {
    "collapsed": false
   },
   "id": "14443acf622434fd"
  },
  {
   "cell_type": "code",
   "outputs": [],
   "source": [
    "summary_table['Odds Ratio'] = np.exp(summary_table.Coefficients)"
   ],
   "metadata": {
    "collapsed": false,
    "ExecuteTime": {
     "end_time": "2024-04-19T09:09:04.070084Z",
     "start_time": "2024-04-19T09:09:04.064313Z"
    }
   },
   "id": "ee2b8f4c67772cd5",
   "execution_count": 47
  },
  {
   "cell_type": "code",
   "outputs": [
    {
     "data": {
      "text/plain": "                       feature_name  Coefficients  Odds Ratio\n0                         Intercept     -0.094361    0.909954\n1                        Category_1      0.912522    2.490595\n2                        Category_2     -0.208652    0.811678\n3                        Category_3      1.265586    3.545169\n4                        Category_4     -0.848417    0.428092\n5                  Month of absence      0.153475    1.165878\n6                   Day of the week     -0.210654    0.810055\n7                           Seasons     -0.210430    0.810236\n8            Transportation expense      0.474476    1.607171\n9   Distance from Residence to Work     -0.278135    0.757195\n10                     Service time     -0.253441    0.776126\n11                              Age     -0.109168    0.896579\n12           Work load Average/day       0.103331    1.108859\n13                       Hit target     -0.009613    0.990433\n14             Disciplinary failure     -0.869392    0.419206\n15                        Education      0.098296    1.103290\n16                         Children      0.517333    1.677547\n17                   Social drinker      0.337152    1.400953\n18                    Social smoker      0.100315    1.105519\n19                              Pet     -0.343671    0.709162\n20                           Weight      0.441800    1.555504\n21                           Height     -0.203684    0.815720\n22                  Body mass index     -0.169427    0.844148",
      "text/html": "<div>\n<style scoped>\n    .dataframe tbody tr th:only-of-type {\n        vertical-align: middle;\n    }\n\n    .dataframe tbody tr th {\n        vertical-align: top;\n    }\n\n    .dataframe thead th {\n        text-align: right;\n    }\n</style>\n<table border=\"1\" class=\"dataframe\">\n  <thead>\n    <tr style=\"text-align: right;\">\n      <th></th>\n      <th>feature_name</th>\n      <th>Coefficients</th>\n      <th>Odds Ratio</th>\n    </tr>\n  </thead>\n  <tbody>\n    <tr>\n      <th>0</th>\n      <td>Intercept</td>\n      <td>-0.094361</td>\n      <td>0.909954</td>\n    </tr>\n    <tr>\n      <th>1</th>\n      <td>Category_1</td>\n      <td>0.912522</td>\n      <td>2.490595</td>\n    </tr>\n    <tr>\n      <th>2</th>\n      <td>Category_2</td>\n      <td>-0.208652</td>\n      <td>0.811678</td>\n    </tr>\n    <tr>\n      <th>3</th>\n      <td>Category_3</td>\n      <td>1.265586</td>\n      <td>3.545169</td>\n    </tr>\n    <tr>\n      <th>4</th>\n      <td>Category_4</td>\n      <td>-0.848417</td>\n      <td>0.428092</td>\n    </tr>\n    <tr>\n      <th>5</th>\n      <td>Month of absence</td>\n      <td>0.153475</td>\n      <td>1.165878</td>\n    </tr>\n    <tr>\n      <th>6</th>\n      <td>Day of the week</td>\n      <td>-0.210654</td>\n      <td>0.810055</td>\n    </tr>\n    <tr>\n      <th>7</th>\n      <td>Seasons</td>\n      <td>-0.210430</td>\n      <td>0.810236</td>\n    </tr>\n    <tr>\n      <th>8</th>\n      <td>Transportation expense</td>\n      <td>0.474476</td>\n      <td>1.607171</td>\n    </tr>\n    <tr>\n      <th>9</th>\n      <td>Distance from Residence to Work</td>\n      <td>-0.278135</td>\n      <td>0.757195</td>\n    </tr>\n    <tr>\n      <th>10</th>\n      <td>Service time</td>\n      <td>-0.253441</td>\n      <td>0.776126</td>\n    </tr>\n    <tr>\n      <th>11</th>\n      <td>Age</td>\n      <td>-0.109168</td>\n      <td>0.896579</td>\n    </tr>\n    <tr>\n      <th>12</th>\n      <td>Work load Average/day</td>\n      <td>0.103331</td>\n      <td>1.108859</td>\n    </tr>\n    <tr>\n      <th>13</th>\n      <td>Hit target</td>\n      <td>-0.009613</td>\n      <td>0.990433</td>\n    </tr>\n    <tr>\n      <th>14</th>\n      <td>Disciplinary failure</td>\n      <td>-0.869392</td>\n      <td>0.419206</td>\n    </tr>\n    <tr>\n      <th>15</th>\n      <td>Education</td>\n      <td>0.098296</td>\n      <td>1.103290</td>\n    </tr>\n    <tr>\n      <th>16</th>\n      <td>Children</td>\n      <td>0.517333</td>\n      <td>1.677547</td>\n    </tr>\n    <tr>\n      <th>17</th>\n      <td>Social drinker</td>\n      <td>0.337152</td>\n      <td>1.400953</td>\n    </tr>\n    <tr>\n      <th>18</th>\n      <td>Social smoker</td>\n      <td>0.100315</td>\n      <td>1.105519</td>\n    </tr>\n    <tr>\n      <th>19</th>\n      <td>Pet</td>\n      <td>-0.343671</td>\n      <td>0.709162</td>\n    </tr>\n    <tr>\n      <th>20</th>\n      <td>Weight</td>\n      <td>0.441800</td>\n      <td>1.555504</td>\n    </tr>\n    <tr>\n      <th>21</th>\n      <td>Height</td>\n      <td>-0.203684</td>\n      <td>0.815720</td>\n    </tr>\n    <tr>\n      <th>22</th>\n      <td>Body mass index</td>\n      <td>-0.169427</td>\n      <td>0.844148</td>\n    </tr>\n  </tbody>\n</table>\n</div>"
     },
     "execution_count": 48,
     "metadata": {},
     "output_type": "execute_result"
    }
   ],
   "source": [
    "summary_table"
   ],
   "metadata": {
    "collapsed": false,
    "ExecuteTime": {
     "end_time": "2024-04-19T09:09:04.216782Z",
     "start_time": "2024-04-19T09:09:04.204875Z"
    }
   },
   "id": "4d012c4ec2a7198f",
   "execution_count": 48
  },
  {
   "cell_type": "code",
   "outputs": [
    {
     "data": {
      "text/plain": "                       feature_name  Coefficients  Odds Ratio\n0                        Category_3      1.265586    3.545169\n1                        Category_1      0.912522    2.490595\n2                          Children      0.517333    1.677547\n3            Transportation expense      0.474476    1.607171\n4                            Weight      0.441800    1.555504\n5                    Social drinker      0.337152    1.400953\n6                  Month of absence      0.153475    1.165878\n7            Work load Average/day       0.103331    1.108859\n8                     Social smoker      0.100315    1.105519\n9                         Education      0.098296    1.103290\n10                       Hit target     -0.009613    0.990433\n11                        Intercept     -0.094361    0.909954\n12                              Age     -0.109168    0.896579\n13                  Body mass index     -0.169427    0.844148\n14                           Height     -0.203684    0.815720\n15                       Category_2     -0.208652    0.811678\n16                          Seasons     -0.210430    0.810236\n17                  Day of the week     -0.210654    0.810055\n18                     Service time     -0.253441    0.776126\n19  Distance from Residence to Work     -0.278135    0.757195\n20                              Pet     -0.343671    0.709162\n21                       Category_4     -0.848417    0.428092\n22             Disciplinary failure     -0.869392    0.419206",
      "text/html": "<div>\n<style scoped>\n    .dataframe tbody tr th:only-of-type {\n        vertical-align: middle;\n    }\n\n    .dataframe tbody tr th {\n        vertical-align: top;\n    }\n\n    .dataframe thead th {\n        text-align: right;\n    }\n</style>\n<table border=\"1\" class=\"dataframe\">\n  <thead>\n    <tr style=\"text-align: right;\">\n      <th></th>\n      <th>feature_name</th>\n      <th>Coefficients</th>\n      <th>Odds Ratio</th>\n    </tr>\n  </thead>\n  <tbody>\n    <tr>\n      <th>0</th>\n      <td>Category_3</td>\n      <td>1.265586</td>\n      <td>3.545169</td>\n    </tr>\n    <tr>\n      <th>1</th>\n      <td>Category_1</td>\n      <td>0.912522</td>\n      <td>2.490595</td>\n    </tr>\n    <tr>\n      <th>2</th>\n      <td>Children</td>\n      <td>0.517333</td>\n      <td>1.677547</td>\n    </tr>\n    <tr>\n      <th>3</th>\n      <td>Transportation expense</td>\n      <td>0.474476</td>\n      <td>1.607171</td>\n    </tr>\n    <tr>\n      <th>4</th>\n      <td>Weight</td>\n      <td>0.441800</td>\n      <td>1.555504</td>\n    </tr>\n    <tr>\n      <th>5</th>\n      <td>Social drinker</td>\n      <td>0.337152</td>\n      <td>1.400953</td>\n    </tr>\n    <tr>\n      <th>6</th>\n      <td>Month of absence</td>\n      <td>0.153475</td>\n      <td>1.165878</td>\n    </tr>\n    <tr>\n      <th>7</th>\n      <td>Work load Average/day</td>\n      <td>0.103331</td>\n      <td>1.108859</td>\n    </tr>\n    <tr>\n      <th>8</th>\n      <td>Social smoker</td>\n      <td>0.100315</td>\n      <td>1.105519</td>\n    </tr>\n    <tr>\n      <th>9</th>\n      <td>Education</td>\n      <td>0.098296</td>\n      <td>1.103290</td>\n    </tr>\n    <tr>\n      <th>10</th>\n      <td>Hit target</td>\n      <td>-0.009613</td>\n      <td>0.990433</td>\n    </tr>\n    <tr>\n      <th>11</th>\n      <td>Intercept</td>\n      <td>-0.094361</td>\n      <td>0.909954</td>\n    </tr>\n    <tr>\n      <th>12</th>\n      <td>Age</td>\n      <td>-0.109168</td>\n      <td>0.896579</td>\n    </tr>\n    <tr>\n      <th>13</th>\n      <td>Body mass index</td>\n      <td>-0.169427</td>\n      <td>0.844148</td>\n    </tr>\n    <tr>\n      <th>14</th>\n      <td>Height</td>\n      <td>-0.203684</td>\n      <td>0.815720</td>\n    </tr>\n    <tr>\n      <th>15</th>\n      <td>Category_2</td>\n      <td>-0.208652</td>\n      <td>0.811678</td>\n    </tr>\n    <tr>\n      <th>16</th>\n      <td>Seasons</td>\n      <td>-0.210430</td>\n      <td>0.810236</td>\n    </tr>\n    <tr>\n      <th>17</th>\n      <td>Day of the week</td>\n      <td>-0.210654</td>\n      <td>0.810055</td>\n    </tr>\n    <tr>\n      <th>18</th>\n      <td>Service time</td>\n      <td>-0.253441</td>\n      <td>0.776126</td>\n    </tr>\n    <tr>\n      <th>19</th>\n      <td>Distance from Residence to Work</td>\n      <td>-0.278135</td>\n      <td>0.757195</td>\n    </tr>\n    <tr>\n      <th>20</th>\n      <td>Pet</td>\n      <td>-0.343671</td>\n      <td>0.709162</td>\n    </tr>\n    <tr>\n      <th>21</th>\n      <td>Category_4</td>\n      <td>-0.848417</td>\n      <td>0.428092</td>\n    </tr>\n    <tr>\n      <th>22</th>\n      <td>Disciplinary failure</td>\n      <td>-0.869392</td>\n      <td>0.419206</td>\n    </tr>\n  </tbody>\n</table>\n</div>"
     },
     "execution_count": 49,
     "metadata": {},
     "output_type": "execute_result"
    }
   ],
   "source": [
    "summary_table.sort_values(['Odds Ratio'],ascending=False,ignore_index=True)"
   ],
   "metadata": {
    "collapsed": false,
    "ExecuteTime": {
     "end_time": "2024-04-19T09:09:04.409553Z",
     "start_time": "2024-04-19T09:09:04.395116Z"
    }
   },
   "id": "e573414d35970572",
   "execution_count": 49
  },
  {
   "cell_type": "markdown",
   "source": [
    "## Testing the Regression model"
   ],
   "metadata": {
    "collapsed": false
   },
   "id": "842dab27786f50f3"
  },
  {
   "cell_type": "code",
   "outputs": [
    {
     "name": "stdout",
     "output_type": "stream",
     "text": [
      "The Accuracy Score is : 79.69%\n"
     ]
    }
   ],
   "source": [
    "# Checking the Accuracy score of the test variables\n",
    "print(f'The Accuracy Score is : {model.score(x_test,y_test)*100:.2f}%')"
   ],
   "metadata": {
    "collapsed": false,
    "ExecuteTime": {
     "end_time": "2024-04-19T09:09:04.594586Z",
     "start_time": "2024-04-19T09:09:04.583672Z"
    }
   },
   "id": "4b90f0d6e50568ea",
   "execution_count": 50
  },
  {
   "cell_type": "code",
   "outputs": [
    {
     "data": {
      "text/plain": "array([[0.33026516, 0.66973484],\n       [0.56427033, 0.43572967],\n       [0.44301785, 0.55698215],\n       [0.43574038, 0.56425962],\n       [0.8806012 , 0.1193988 ],\n       [0.90231148, 0.09768852],\n       [0.6693326 , 0.3306674 ],\n       [0.05736783, 0.94263217],\n       [0.47173079, 0.52826921],\n       [0.40038312, 0.59961688],\n       [0.03691762, 0.96308238],\n       [0.73026506, 0.26973494],\n       [0.53205745, 0.46794255],\n       [0.68183311, 0.31816689],\n       [0.40052365, 0.59947635],\n       [0.78736906, 0.21263094],\n       [0.04272186, 0.95727814],\n       [0.73421034, 0.26578966],\n       [0.53599152, 0.46400848],\n       [0.80370504, 0.19629496],\n       [0.80660635, 0.19339365],\n       [0.1329594 , 0.8670406 ],\n       [0.62587466, 0.37412534],\n       [0.36942445, 0.63057555],\n       [0.05009629, 0.94990371],\n       [0.86557206, 0.13442794],\n       [0.03407235, 0.96592765],\n       [0.42951443, 0.57048557],\n       [0.84011344, 0.15988656],\n       [0.12222202, 0.87777798],\n       [0.41105214, 0.58894786],\n       [0.06385743, 0.93614257],\n       [0.95717881, 0.04282119],\n       [0.75285546, 0.24714454],\n       [0.87333931, 0.12666069],\n       [0.27395304, 0.72604696],\n       [0.78864455, 0.21135545],\n       [0.51686671, 0.48313329],\n       [0.72255502, 0.27744498],\n       [0.847252  , 0.152748  ],\n       [0.48687413, 0.51312587],\n       [0.59303467, 0.40696533],\n       [0.51384961, 0.48615039],\n       [0.79337808, 0.20662192],\n       [0.33770645, 0.66229355],\n       [0.58018029, 0.41981971],\n       [0.44301785, 0.55698215],\n       [0.66776113, 0.33223887],\n       [0.82346305, 0.17653695],\n       [0.24222374, 0.75777626],\n       [0.26863581, 0.73136419],\n       [0.5531711 , 0.4468289 ],\n       [0.59956948, 0.40043052],\n       [0.8348966 , 0.1651034 ],\n       [0.83048711, 0.16951289],\n       [0.74099535, 0.25900465],\n       [0.8806012 , 0.1193988 ],\n       [0.1972999 , 0.8027001 ],\n       [0.58034902, 0.41965098],\n       [0.81014449, 0.18985551],\n       [0.88082867, 0.11917133],\n       [0.84418343, 0.15581657],\n       [0.38230323, 0.61769677],\n       [0.09615273, 0.90384727],\n       [0.14373786, 0.85626214],\n       [0.90777794, 0.09222206],\n       [0.61356563, 0.38643437],\n       [0.39524751, 0.60475249],\n       [0.04533046, 0.95466954],\n       [0.59829955, 0.40170045],\n       [0.2887764 , 0.7112236 ],\n       [0.4021712 , 0.5978288 ],\n       [0.43455772, 0.56544228],\n       [0.1326045 , 0.8673955 ],\n       [0.60870995, 0.39129005],\n       [0.35585257, 0.64414743],\n       [0.80120197, 0.19879803],\n       [0.85211152, 0.14788848],\n       [0.37288628, 0.62711372],\n       [0.74988239, 0.25011761],\n       [0.03505964, 0.96494036],\n       [0.3685963 , 0.6314037 ],\n       [0.05765084, 0.94234916],\n       [0.18233901, 0.81766099],\n       [0.15422032, 0.84577968],\n       [0.11458657, 0.88541343],\n       [0.80145761, 0.19854239],\n       [0.6272795 , 0.3727205 ],\n       [0.94335807, 0.05664193],\n       [0.84284236, 0.15715764],\n       [0.59384676, 0.40615324],\n       [0.83512074, 0.16487926],\n       [0.20484559, 0.79515441],\n       [0.26180048, 0.73819952],\n       [0.69084103, 0.30915897],\n       [0.74857163, 0.25142837],\n       [0.85615091, 0.14384909],\n       [0.98289005, 0.01710995],\n       [0.28766503, 0.71233497],\n       [0.37826757, 0.62173243],\n       [0.81599135, 0.18400865],\n       [0.22792601, 0.77207399],\n       [0.44966375, 0.55033625],\n       [0.80517341, 0.19482659],\n       [0.46449311, 0.53550689],\n       [0.646461  , 0.353539  ],\n       [0.66264723, 0.33735277],\n       [0.96538507, 0.03461493],\n       [0.30777836, 0.69222164],\n       [0.86799479, 0.13200521],\n       [0.38943363, 0.61056637],\n       [0.80514094, 0.19485906],\n       [0.26232644, 0.73767356],\n       [0.05224067, 0.94775933],\n       [0.68809655, 0.31190345],\n       [0.75246929, 0.24753071],\n       [0.847252  , 0.152748  ],\n       [0.27000953, 0.72999047],\n       [0.33548101, 0.66451899],\n       [0.06911844, 0.93088156],\n       [0.0925475 , 0.9074525 ],\n       [0.7765594 , 0.2234406 ],\n       [0.18331231, 0.81668769],\n       [0.29563   , 0.70437   ],\n       [0.18739394, 0.81260606],\n       [0.12082727, 0.87917273],\n       [0.88471356, 0.11528644],\n       [0.79400618, 0.20599382]])"
     },
     "execution_count": 51,
     "metadata": {},
     "output_type": "execute_result"
    }
   ],
   "source": [
    "pred = model.predict_proba(x_test)\n",
    "pred"
   ],
   "metadata": {
    "collapsed": false,
    "ExecuteTime": {
     "end_time": "2024-04-19T09:09:04.839146Z",
     "start_time": "2024-04-19T09:09:04.825254Z"
    }
   },
   "id": "17897ed84778905",
   "execution_count": 51
  },
  {
   "cell_type": "code",
   "outputs": [
    {
     "data": {
      "text/plain": "array([0.66973484, 0.43572967, 0.55698215, 0.56425962, 0.1193988 ,\n       0.09768852, 0.3306674 , 0.94263217, 0.52826921, 0.59961688,\n       0.96308238, 0.26973494, 0.46794255, 0.31816689, 0.59947635,\n       0.21263094, 0.95727814, 0.26578966, 0.46400848, 0.19629496,\n       0.19339365, 0.8670406 , 0.37412534, 0.63057555, 0.94990371,\n       0.13442794, 0.96592765, 0.57048557, 0.15988656, 0.87777798,\n       0.58894786, 0.93614257, 0.04282119, 0.24714454, 0.12666069,\n       0.72604696, 0.21135545, 0.48313329, 0.27744498, 0.152748  ,\n       0.51312587, 0.40696533, 0.48615039, 0.20662192, 0.66229355,\n       0.41981971, 0.55698215, 0.33223887, 0.17653695, 0.75777626,\n       0.73136419, 0.4468289 , 0.40043052, 0.1651034 , 0.16951289,\n       0.25900465, 0.1193988 , 0.8027001 , 0.41965098, 0.18985551,\n       0.11917133, 0.15581657, 0.61769677, 0.90384727, 0.85626214,\n       0.09222206, 0.38643437, 0.60475249, 0.95466954, 0.40170045,\n       0.7112236 , 0.5978288 , 0.56544228, 0.8673955 , 0.39129005,\n       0.64414743, 0.19879803, 0.14788848, 0.62711372, 0.25011761,\n       0.96494036, 0.6314037 , 0.94234916, 0.81766099, 0.84577968,\n       0.88541343, 0.19854239, 0.3727205 , 0.05664193, 0.15715764,\n       0.40615324, 0.16487926, 0.79515441, 0.73819952, 0.30915897,\n       0.25142837, 0.14384909, 0.01710995, 0.71233497, 0.62173243,\n       0.18400865, 0.77207399, 0.55033625, 0.19482659, 0.53550689,\n       0.353539  , 0.33735277, 0.03461493, 0.69222164, 0.13200521,\n       0.61056637, 0.19485906, 0.73767356, 0.94775933, 0.31190345,\n       0.24753071, 0.152748  , 0.72999047, 0.66451899, 0.93088156,\n       0.9074525 , 0.2234406 , 0.81668769, 0.70437   , 0.81260606,\n       0.87917273, 0.11528644, 0.20599382])"
     },
     "execution_count": 52,
     "metadata": {},
     "output_type": "execute_result"
    }
   ],
   "source": [
    "pred[:,1]"
   ],
   "metadata": {
    "collapsed": false,
    "ExecuteTime": {
     "end_time": "2024-04-19T09:09:05.026575Z",
     "start_time": "2024-04-19T09:09:05.019331Z"
    }
   },
   "id": "d368e43e3d86958d",
   "execution_count": 52
  },
  {
   "cell_type": "markdown",
   "source": [
    "# Conclusion"
   ],
   "metadata": {
    "collapsed": false
   },
   "id": "75c5bc8b54d6485f"
  },
  {
   "cell_type": "markdown",
   "source": [
    "### Reasons For Absenteeism\n",
    "- Category 3 and Category 1 Are the Main reasons For Excessive Absenteeism Of Employees\n",
    "    - Therefore, Reasons Like Poisoning , Injuries and Various Diseases are the most common reasons for absenteeism\n",
    "- Also , Having Children and Transportation Expenses is also a Common reason for Absenteeism\n",
    "    "
   ],
   "metadata": {
    "collapsed": false
   },
   "id": "66120db4887fe8e"
  },
  {
   "cell_type": "markdown",
   "source": [
    "## Saving the Model"
   ],
   "metadata": {
    "collapsed": false
   },
   "id": "75a165eb8447f428"
  },
  {
   "cell_type": "code",
   "outputs": [],
   "source": [
    "import pickle "
   ],
   "metadata": {
    "collapsed": false,
    "ExecuteTime": {
     "end_time": "2024-04-19T09:09:05.291092Z",
     "start_time": "2024-04-19T09:09:05.285477Z"
    }
   },
   "id": "7554f22505097d3a",
   "execution_count": 53
  },
  {
   "cell_type": "code",
   "outputs": [],
   "source": [
    "with open('LR_Model','wb') as file:\n",
    "    pickle.dump(model,file)"
   ],
   "metadata": {
    "collapsed": false,
    "ExecuteTime": {
     "end_time": "2024-04-19T09:09:05.434219Z",
     "start_time": "2024-04-19T09:09:05.426694Z"
    }
   },
   "id": "5e28281d0bc7f4c1",
   "execution_count": 54
  },
  {
   "cell_type": "code",
   "outputs": [],
   "source": [
    "with open('LR_Scaler','wb') as file:\n",
    "    pickle.dump(absenteeism_scaler,file)"
   ],
   "metadata": {
    "collapsed": false,
    "ExecuteTime": {
     "end_time": "2024-04-19T09:09:05.556401Z",
     "start_time": "2024-04-19T09:09:05.550571Z"
    }
   },
   "id": "e44403c0ab0be6a2",
   "execution_count": 55
  },
  {
   "cell_type": "markdown",
   "source": [
    "### Adding the Predictions Column to the Processed Dataset"
   ],
   "metadata": {
    "collapsed": false
   },
   "id": "6542cfc50c7a1ecd"
  },
  {
   "cell_type": "code",
   "outputs": [],
   "source": [
    "predictions = model.predict(scaled_input)"
   ],
   "metadata": {
    "collapsed": false,
    "ExecuteTime": {
     "end_time": "2024-04-19T09:09:05.639219Z",
     "start_time": "2024-04-19T09:09:05.630759Z"
    }
   },
   "id": "9a32641d3aeced3",
   "execution_count": 56
  },
  {
   "cell_type": "code",
   "outputs": [
    {
     "data": {
      "text/plain": "array([1, 0, 0, 1, 1, 1, 1, 0, 1, 1, 1, 1, 1, 1, 0, 1, 1, 1, 1, 1, 1, 0,\n       1, 1, 0, 1, 1, 0, 1, 0, 1, 1, 0, 0, 0, 0, 0, 0, 1, 0, 0, 0, 0, 0,\n       0, 0, 0, 1, 0, 0, 1, 0, 1, 0, 0, 1, 0, 0, 1, 0, 0, 0, 0, 1, 1, 0,\n       0, 0, 0, 0, 0, 1, 0, 0, 1, 1, 1, 0, 0, 1, 1, 1, 1, 0, 0, 0, 0, 1,\n       1, 0, 1, 1, 1, 1, 1, 1, 1, 1, 1, 1, 1, 0, 1, 1, 0, 1, 1, 1, 1, 1,\n       1, 0, 1, 0, 0, 0, 0, 1, 0, 0, 1, 1, 0, 0, 1, 0, 0, 1, 1, 1, 1, 1,\n       1, 0, 1, 0, 1, 1, 1, 1, 1, 1, 1, 0, 0, 0, 1, 1, 1, 1, 0, 1, 1, 1,\n       1, 1, 0, 1, 0, 1, 0, 0, 1, 1, 1, 0, 1, 1, 0, 1, 1, 0, 1, 1, 0, 1,\n       1, 0, 1, 1, 1, 1, 1, 1, 1, 1, 0, 1, 0, 1, 1, 0, 0, 1, 0, 0, 0, 1,\n       1, 0, 1, 1, 1, 0, 0, 0, 1, 1, 1, 0, 1, 1, 0, 0, 1, 1, 1, 0, 0, 0,\n       1, 0, 1, 1, 0, 0, 0, 0, 1, 0, 0, 0, 0, 0, 1, 0, 1, 1, 1, 1, 1, 0,\n       1, 1, 0, 0, 1, 1, 1, 0, 1, 1, 0, 0, 0, 1, 0, 0, 0, 0, 1, 1, 0, 0,\n       0, 0, 0, 1, 1, 1, 0, 0, 1, 0, 1, 1, 1, 0, 1, 1, 1, 0, 0, 0, 0, 1,\n       1, 0, 0, 0, 0, 0, 0, 0, 0, 0, 1, 0, 0, 1, 0, 0, 1, 1, 0, 1, 0, 0,\n       0, 0, 0, 1, 0, 1, 1, 0, 0, 0, 0, 1, 0, 0, 1, 0, 1, 0, 0, 0, 0, 1,\n       1, 1, 0, 0, 1, 0, 1, 0, 0, 0, 1, 1, 1, 1, 0, 1, 0, 0, 1, 0, 0, 0,\n       0, 0, 1, 0, 1, 0, 0, 0, 1, 0, 0, 0, 1, 1, 0, 1, 1, 0, 0, 1, 1, 1,\n       0, 1, 0, 1, 0, 0, 1, 0, 0, 0, 1, 1, 0, 0, 1, 0, 0, 0, 0, 1, 1, 0,\n       0, 0, 1, 0, 0, 0, 0, 1, 0, 0, 0, 1, 1, 0, 0, 0, 0, 0, 0, 1, 0, 0,\n       0, 0, 0, 1, 1, 0, 1, 0, 1, 1, 1, 1, 0, 1, 1, 0, 1, 1, 0, 1, 0, 1,\n       1, 1, 0, 1, 0, 0, 1, 0, 0, 1, 0, 0, 0, 1, 1, 0, 0, 0, 0, 0, 1, 1,\n       1, 1, 1, 0, 0, 0, 1, 1, 0, 0, 0, 1, 0, 0, 1, 0, 1, 0, 0, 1, 0, 0,\n       1, 0, 1, 0, 0, 0, 0, 0, 0, 1, 0, 1, 0, 0, 0, 0, 0, 0, 0, 0, 0, 0,\n       0, 0, 0, 0, 1, 0, 0, 0, 0, 0, 0, 0, 0, 0, 0, 1, 0, 0, 0, 0, 0, 0,\n       1, 1, 0, 0, 0, 1, 1, 0, 1, 0, 1, 0, 0, 0, 0, 0, 0, 0, 0, 1, 0, 0,\n       0, 1, 1, 1, 1, 1, 1, 1, 0, 1, 0, 0, 0, 0, 0, 0, 1, 0, 0, 0, 1, 1,\n       0, 0, 1, 0, 0, 1, 0, 0, 1, 1, 0, 0, 0, 1, 0, 0, 0, 0, 0, 1, 1, 0,\n       1, 1, 1, 0, 0, 0, 1, 0, 0, 1, 1, 1, 0, 0, 1, 0, 1, 0, 0, 0, 0, 1,\n       0, 0, 1, 0, 0, 1, 1, 0, 1, 0, 1, 0, 1, 0, 0, 1, 0, 1, 1, 1, 0, 1,\n       0])"
     },
     "execution_count": 57,
     "metadata": {},
     "output_type": "execute_result"
    }
   ],
   "source": [
    "predictions"
   ],
   "metadata": {
    "collapsed": false,
    "ExecuteTime": {
     "end_time": "2024-04-19T09:09:05.821157Z",
     "start_time": "2024-04-19T09:09:05.812812Z"
    }
   },
   "id": "ea4d7670bfdfbfff",
   "execution_count": 57
  },
  {
   "cell_type": "code",
   "outputs": [],
   "source": [
    "processed_df['Predictions'] = predictions"
   ],
   "metadata": {
    "collapsed": false,
    "ExecuteTime": {
     "end_time": "2024-04-19T09:09:05.904204Z",
     "start_time": "2024-04-19T09:09:05.897434Z"
    }
   },
   "id": "4fd15f3147eb8a5e",
   "execution_count": 58
  },
  {
   "cell_type": "code",
   "outputs": [
    {
     "data": {
      "text/plain": "     Category_1  Category_2  Category_3  Category_4  Month of absence  \\\n0           0.0         0.0         0.0         1.0               7.0   \n1           0.0         0.0         0.0         0.0               7.0   \n2           0.0         0.0         0.0         1.0               7.0   \n3           1.0         0.0         0.0         0.0               7.0   \n4           0.0         0.0         0.0         1.0               7.0   \n..          ...         ...         ...         ...               ...   \n634         1.0         0.0         0.0         0.0               7.0   \n635         1.0         0.0         0.0         0.0               7.0   \n636         0.0         0.0         0.0         0.0               0.0   \n637         0.0         0.0         0.0         0.0               0.0   \n638         0.0         0.0         0.0         0.0               0.0   \n\n     Day of the week  Seasons  Transportation expense  \\\n0                  3        1                   289.0   \n1                  3        1                   118.0   \n2                  4        1                   179.0   \n3                  5        1                   279.0   \n4                  5        1                   289.0   \n..               ...      ...                     ...   \n634                3        1                   289.0   \n635                3        1                   235.0   \n636                3        1                   118.0   \n637                4        2                   231.0   \n638                6        3                   179.0   \n\n     Distance from Residence to Work  Service time  ...  Children  \\\n0                               36.0          13.0  ...       2.0   \n1                               13.0          18.0  ...       1.0   \n2                               51.0          18.0  ...       0.0   \n3                                5.0          14.0  ...       2.0   \n4                               36.0          13.0  ...       2.0   \n..                               ...           ...  ...       ...   \n634                             36.0          13.0  ...       2.0   \n635                             11.0          14.0  ...       1.0   \n636                             14.0          13.0  ...       1.0   \n637                             35.0          14.0  ...       2.0   \n638                             45.0          14.0  ...       1.0   \n\n     Social drinker  Social smoker  Pet  Weight  Height  Body mass index  \\\n0               1.0            0.0  1.0    90.0   172.0             30.0   \n1               1.0            0.0  0.0    98.0   178.0             31.0   \n2               1.0            0.0  0.0    89.0   170.0             31.0   \n3               1.0            1.0  0.0    68.0   168.0             24.0   \n4               1.0            0.0  1.0    90.0   172.0             30.0   \n..              ...            ...  ...     ...     ...              ...   \n634             1.0            0.0  1.0    90.0   172.0             30.0   \n635             0.0            0.0  1.0    88.0   172.0             29.0   \n636             1.0            0.0  8.0    98.0   170.0             34.0   \n637             1.0            0.0  2.0   100.0   170.0             35.0   \n638             0.0            0.0  1.0    77.0   175.0             25.0   \n\n     Absenteeism time in hours  Excessive Absenteeism  Predictions  \n0                          4.0                      1            1  \n1                          0.0                      0            0  \n2                          2.0                      0            0  \n3                          4.0                      1            1  \n4                          2.0                      0            1  \n..                         ...                    ...          ...  \n634                        8.0                      1            1  \n635                        4.0                      1            1  \n636                        0.0                      0            0  \n637                        0.0                      0            1  \n638                        0.0                      0            0  \n\n[639 rows x 25 columns]",
      "text/html": "<div>\n<style scoped>\n    .dataframe tbody tr th:only-of-type {\n        vertical-align: middle;\n    }\n\n    .dataframe tbody tr th {\n        vertical-align: top;\n    }\n\n    .dataframe thead th {\n        text-align: right;\n    }\n</style>\n<table border=\"1\" class=\"dataframe\">\n  <thead>\n    <tr style=\"text-align: right;\">\n      <th></th>\n      <th>Category_1</th>\n      <th>Category_2</th>\n      <th>Category_3</th>\n      <th>Category_4</th>\n      <th>Month of absence</th>\n      <th>Day of the week</th>\n      <th>Seasons</th>\n      <th>Transportation expense</th>\n      <th>Distance from Residence to Work</th>\n      <th>Service time</th>\n      <th>...</th>\n      <th>Children</th>\n      <th>Social drinker</th>\n      <th>Social smoker</th>\n      <th>Pet</th>\n      <th>Weight</th>\n      <th>Height</th>\n      <th>Body mass index</th>\n      <th>Absenteeism time in hours</th>\n      <th>Excessive Absenteeism</th>\n      <th>Predictions</th>\n    </tr>\n  </thead>\n  <tbody>\n    <tr>\n      <th>0</th>\n      <td>0.0</td>\n      <td>0.0</td>\n      <td>0.0</td>\n      <td>1.0</td>\n      <td>7.0</td>\n      <td>3</td>\n      <td>1</td>\n      <td>289.0</td>\n      <td>36.0</td>\n      <td>13.0</td>\n      <td>...</td>\n      <td>2.0</td>\n      <td>1.0</td>\n      <td>0.0</td>\n      <td>1.0</td>\n      <td>90.0</td>\n      <td>172.0</td>\n      <td>30.0</td>\n      <td>4.0</td>\n      <td>1</td>\n      <td>1</td>\n    </tr>\n    <tr>\n      <th>1</th>\n      <td>0.0</td>\n      <td>0.0</td>\n      <td>0.0</td>\n      <td>0.0</td>\n      <td>7.0</td>\n      <td>3</td>\n      <td>1</td>\n      <td>118.0</td>\n      <td>13.0</td>\n      <td>18.0</td>\n      <td>...</td>\n      <td>1.0</td>\n      <td>1.0</td>\n      <td>0.0</td>\n      <td>0.0</td>\n      <td>98.0</td>\n      <td>178.0</td>\n      <td>31.0</td>\n      <td>0.0</td>\n      <td>0</td>\n      <td>0</td>\n    </tr>\n    <tr>\n      <th>2</th>\n      <td>0.0</td>\n      <td>0.0</td>\n      <td>0.0</td>\n      <td>1.0</td>\n      <td>7.0</td>\n      <td>4</td>\n      <td>1</td>\n      <td>179.0</td>\n      <td>51.0</td>\n      <td>18.0</td>\n      <td>...</td>\n      <td>0.0</td>\n      <td>1.0</td>\n      <td>0.0</td>\n      <td>0.0</td>\n      <td>89.0</td>\n      <td>170.0</td>\n      <td>31.0</td>\n      <td>2.0</td>\n      <td>0</td>\n      <td>0</td>\n    </tr>\n    <tr>\n      <th>3</th>\n      <td>1.0</td>\n      <td>0.0</td>\n      <td>0.0</td>\n      <td>0.0</td>\n      <td>7.0</td>\n      <td>5</td>\n      <td>1</td>\n      <td>279.0</td>\n      <td>5.0</td>\n      <td>14.0</td>\n      <td>...</td>\n      <td>2.0</td>\n      <td>1.0</td>\n      <td>1.0</td>\n      <td>0.0</td>\n      <td>68.0</td>\n      <td>168.0</td>\n      <td>24.0</td>\n      <td>4.0</td>\n      <td>1</td>\n      <td>1</td>\n    </tr>\n    <tr>\n      <th>4</th>\n      <td>0.0</td>\n      <td>0.0</td>\n      <td>0.0</td>\n      <td>1.0</td>\n      <td>7.0</td>\n      <td>5</td>\n      <td>1</td>\n      <td>289.0</td>\n      <td>36.0</td>\n      <td>13.0</td>\n      <td>...</td>\n      <td>2.0</td>\n      <td>1.0</td>\n      <td>0.0</td>\n      <td>1.0</td>\n      <td>90.0</td>\n      <td>172.0</td>\n      <td>30.0</td>\n      <td>2.0</td>\n      <td>0</td>\n      <td>1</td>\n    </tr>\n    <tr>\n      <th>...</th>\n      <td>...</td>\n      <td>...</td>\n      <td>...</td>\n      <td>...</td>\n      <td>...</td>\n      <td>...</td>\n      <td>...</td>\n      <td>...</td>\n      <td>...</td>\n      <td>...</td>\n      <td>...</td>\n      <td>...</td>\n      <td>...</td>\n      <td>...</td>\n      <td>...</td>\n      <td>...</td>\n      <td>...</td>\n      <td>...</td>\n      <td>...</td>\n      <td>...</td>\n      <td>...</td>\n    </tr>\n    <tr>\n      <th>634</th>\n      <td>1.0</td>\n      <td>0.0</td>\n      <td>0.0</td>\n      <td>0.0</td>\n      <td>7.0</td>\n      <td>3</td>\n      <td>1</td>\n      <td>289.0</td>\n      <td>36.0</td>\n      <td>13.0</td>\n      <td>...</td>\n      <td>2.0</td>\n      <td>1.0</td>\n      <td>0.0</td>\n      <td>1.0</td>\n      <td>90.0</td>\n      <td>172.0</td>\n      <td>30.0</td>\n      <td>8.0</td>\n      <td>1</td>\n      <td>1</td>\n    </tr>\n    <tr>\n      <th>635</th>\n      <td>1.0</td>\n      <td>0.0</td>\n      <td>0.0</td>\n      <td>0.0</td>\n      <td>7.0</td>\n      <td>3</td>\n      <td>1</td>\n      <td>235.0</td>\n      <td>11.0</td>\n      <td>14.0</td>\n      <td>...</td>\n      <td>1.0</td>\n      <td>0.0</td>\n      <td>0.0</td>\n      <td>1.0</td>\n      <td>88.0</td>\n      <td>172.0</td>\n      <td>29.0</td>\n      <td>4.0</td>\n      <td>1</td>\n      <td>1</td>\n    </tr>\n    <tr>\n      <th>636</th>\n      <td>0.0</td>\n      <td>0.0</td>\n      <td>0.0</td>\n      <td>0.0</td>\n      <td>0.0</td>\n      <td>3</td>\n      <td>1</td>\n      <td>118.0</td>\n      <td>14.0</td>\n      <td>13.0</td>\n      <td>...</td>\n      <td>1.0</td>\n      <td>1.0</td>\n      <td>0.0</td>\n      <td>8.0</td>\n      <td>98.0</td>\n      <td>170.0</td>\n      <td>34.0</td>\n      <td>0.0</td>\n      <td>0</td>\n      <td>0</td>\n    </tr>\n    <tr>\n      <th>637</th>\n      <td>0.0</td>\n      <td>0.0</td>\n      <td>0.0</td>\n      <td>0.0</td>\n      <td>0.0</td>\n      <td>4</td>\n      <td>2</td>\n      <td>231.0</td>\n      <td>35.0</td>\n      <td>14.0</td>\n      <td>...</td>\n      <td>2.0</td>\n      <td>1.0</td>\n      <td>0.0</td>\n      <td>2.0</td>\n      <td>100.0</td>\n      <td>170.0</td>\n      <td>35.0</td>\n      <td>0.0</td>\n      <td>0</td>\n      <td>1</td>\n    </tr>\n    <tr>\n      <th>638</th>\n      <td>0.0</td>\n      <td>0.0</td>\n      <td>0.0</td>\n      <td>0.0</td>\n      <td>0.0</td>\n      <td>6</td>\n      <td>3</td>\n      <td>179.0</td>\n      <td>45.0</td>\n      <td>14.0</td>\n      <td>...</td>\n      <td>1.0</td>\n      <td>0.0</td>\n      <td>0.0</td>\n      <td>1.0</td>\n      <td>77.0</td>\n      <td>175.0</td>\n      <td>25.0</td>\n      <td>0.0</td>\n      <td>0</td>\n      <td>0</td>\n    </tr>\n  </tbody>\n</table>\n<p>639 rows × 25 columns</p>\n</div>"
     },
     "execution_count": 59,
     "metadata": {},
     "output_type": "execute_result"
    }
   ],
   "source": [
    "processed_df"
   ],
   "metadata": {
    "collapsed": false,
    "ExecuteTime": {
     "end_time": "2024-04-19T09:09:06.158437Z",
     "start_time": "2024-04-19T09:09:06.123010Z"
    }
   },
   "id": "820fc7486c3db4ab",
   "execution_count": 59
  },
  {
   "cell_type": "markdown",
   "source": [
    "### Taking out the probability of The data we have"
   ],
   "metadata": {
    "collapsed": false
   },
   "id": "1046b2b757ecbd2"
  },
  {
   "cell_type": "code",
   "outputs": [],
   "source": [
    "probability = model.predict_proba(scaled_input)"
   ],
   "metadata": {
    "collapsed": false,
    "ExecuteTime": {
     "end_time": "2024-04-19T09:09:06.344970Z",
     "start_time": "2024-04-19T09:09:06.336887Z"
    }
   },
   "id": "801c71ae8006e7d3",
   "execution_count": 61
  },
  {
   "cell_type": "code",
   "outputs": [
    {
     "data": {
      "text/plain": "array([0.7234684 , 0.02160936, 0.20506971, 0.95466954, 0.66093661,\n       0.70831486, 0.91988181, 0.4922705 , 0.96219132, 0.95645938,\n       0.94990371, 0.60013665, 0.74141951, 0.63057555, 0.43572967,\n       0.66148754, 0.90384727, 0.70200182, 0.61769677, 0.71735246,\n       0.94775933, 0.15715764, 0.73555547, 0.73819952, 0.25142837,\n       0.61769677, 0.71735246, 0.15897245, 0.70200182, 0.21135545,\n       0.95727814, 0.53550689, 0.25011761, 0.49897819, 0.01301828,\n       0.0625067 , 0.27013244, 0.10710025, 0.6024467 , 0.16740539,\n       0.16198856, 0.16404807, 0.20599382, 0.34875852, 0.37513946,\n       0.14788848, 0.20599382, 0.82418595, 0.23109925, 0.1528572 ,\n       0.76898777, 0.26988796, 0.8673955 , 0.23808255, 0.23808255,\n       0.57528746, 0.46400848, 0.26578966, 0.91413564, 0.41965098,\n       0.40737723, 0.35001256, 0.19879803, 0.64414743, 0.76287573,\n       0.22536783, 0.2007225 , 0.17815244, 0.20315507, 0.25208482,\n       0.12398612, 0.94234916, 0.20315507, 0.25208482, 0.59524884,\n       0.68006763, 0.5359782 , 0.40696533, 0.18420335, 0.65143235,\n       0.56425962, 0.86410721, 0.84588706, 0.25585354, 0.16591226,\n       0.15598166, 0.20393271, 0.93176334, 0.65155431, 0.37925172,\n       0.96592765, 0.84577968, 0.75777626, 0.92758341, 0.8027001 ,\n       0.87970849, 0.79862619, 0.86324908, 0.911364  , 0.72349503,\n       0.6876613 , 0.20666327, 0.96741489, 0.61186523, 0.25905306,\n       0.69222164, 0.56544228, 0.6600228 , 0.62627407, 0.52853185,\n       0.94022901, 0.17669022, 0.72046087, 0.27880183, 0.43546631,\n       0.2234406 , 0.47172312, 0.6732933 , 0.39951431, 0.17653695,\n       0.64436876, 0.52826921, 0.23116294, 0.36497315, 0.60560077,\n       0.36497315, 0.30677414, 0.93751932, 0.94174464, 0.81766099,\n       0.81124129, 0.8943129 , 0.70028593, 0.01058195, 0.92256539,\n       0.44708187, 0.55698215, 0.69177127, 0.77037451, 0.52234245,\n       0.55698215, 0.61191026, 0.92256539, 0.13442794, 0.05581736,\n       0.03770833, 0.61191026, 0.7112236 , 0.61056637, 0.75075264,\n       0.45652721, 0.65471734, 0.56618037, 0.77725846, 0.71883596,\n       0.74669103, 0.33735277, 0.71883596, 0.36108549, 0.51282678,\n       0.18057547, 0.31584751, 0.91573512, 0.74862651, 0.54478979,\n       0.17061169, 0.66973484, 0.63619463, 0.45769327, 0.93182426,\n       0.92186243, 0.48129864, 0.6118674 , 0.71233497, 0.19625224,\n       0.96494036, 0.94652708, 0.11188501, 0.94030645, 0.81474307,\n       0.77408109, 0.79515441, 0.93639032, 0.93639032, 0.7329912 ,\n       0.74732009, 0.47364746, 0.81668769, 0.1787808 , 0.72604696,\n       0.54704864, 0.48615039, 0.31296777, 0.72666333, 0.20234504,\n       0.0711805 , 0.0350473 , 0.66451899, 0.78472528, 0.22713298,\n       0.50411416, 0.76218158, 0.60696964, 0.22920809, 0.05162898,\n       0.36242013, 0.85626214, 0.5978288 , 0.68044751, 0.40517371,\n       0.68044751, 0.54172954, 0.00988104, 0.01673191, 0.55033625,\n       0.58005014, 0.89538447, 0.15343142, 0.47695845, 0.05664193,\n       0.91897052, 0.04282119, 0.6636692 , 0.6636692 , 0.27534088,\n       0.45694482, 0.11917133, 0.22063799, 0.87192135, 0.09774351,\n       0.03322149, 0.47695845, 0.47695845, 0.22063799, 0.59782386,\n       0.4468289 , 0.56796635, 0.64739485, 0.51197495, 0.80416364,\n       0.67985716, 0.0540186 , 0.81894492, 0.5255141 , 0.32040351,\n       0.1441006 , 0.60875644, 0.77212094, 0.7370341 , 0.18431526,\n       0.93479599, 0.77684481, 0.01574966, 0.13044587, 0.1441006 ,\n       0.67990581, 0.19629496, 0.19629496, 0.40615324, 0.27615225,\n       0.6314037 , 0.62711372, 0.13575491, 0.1193988 , 0.15420719,\n       0.17065002, 0.1193988 , 0.93614257, 0.83499814, 0.77207399,\n       0.46794255, 0.26462654, 0.96308238, 0.23316403, 0.68813966,\n       0.52226001, 0.79335164, 0.48549619, 0.70499993, 0.8258582 ,\n       0.6889214 , 0.3306674 , 0.13160913, 0.1651034 , 0.14885837,\n       0.60333239, 0.53286795, 0.11528644, 0.19010588, 0.14885837,\n       0.46760178, 0.21741526, 0.11528644, 0.19010588, 0.27159759,\n       0.44811396, 0.71320654, 0.14885837, 0.11528644, 0.58249291,\n       0.14885837, 0.11528644, 0.62585648, 0.73136419, 0.19675363,\n       0.62708916, 0.19339365, 0.40170045, 0.31555569, 0.19339365,\n       0.20426386, 0.78146547, 0.16557872, 0.64222598, 0.60776049,\n       0.00945717, 0.00930103, 0.0988198 , 0.48977606, 0.95384504,\n       0.23883172, 0.13200521, 0.58874361, 0.41217158, 0.87777798,\n       0.38643437, 0.48482104, 0.13200521, 0.26973494, 0.61555186,\n       0.53248397, 0.58874361, 0.16951289, 0.4633935 , 0.91103276,\n       0.33281152, 0.97798097, 0.12265902, 0.13916357, 0.40165053,\n       0.60345065, 0.73767356, 0.73767356, 0.65002772, 0.19462386,\n       0.81260606, 0.15799447, 0.17475768, 0.77948513, 0.12265902,\n       0.18614861, 0.18985551, 0.16487926, 0.18387268, 0.62173243,\n       0.00528494, 0.84529276, 0.18985551, 0.27127584, 0.18985551,\n       0.62135076, 0.25666132, 0.27775171, 0.31766147, 0.59947635,\n       0.6481951 , 0.26076514, 0.91474698, 0.82922396, 0.15988656,\n       0.24753071, 0.93316457, 0.85827232, 0.54032223, 0.15640114,\n       0.81213319, 0.22376453, 0.8670406 , 0.25753673, 0.35213725,\n       0.71978075, 0.22801063, 0.25581136, 0.47747089, 0.74970841,\n       0.73515122, 0.35213725, 0.46862114, 0.78153646, 0.19485906,\n       0.45601819, 0.37412534, 0.24071509, 0.73981859, 0.72489727,\n       0.49235509, 0.27341803, 0.41981971, 0.59961688, 0.47632851,\n       0.37412534, 0.24071509, 0.49235509, 0.82621408, 0.39612697,\n       0.39612697, 0.25810659, 0.5880313 , 0.51558197, 0.16545683,\n       0.41430835, 0.29226281, 0.31503879, 0.48947907, 0.30403737,\n       0.64737103, 0.43170812, 0.17650665, 0.06984425, 0.36143382,\n       0.24714454, 0.88541343, 0.88541343, 0.15935377, 0.60475249,\n       0.43170812, 0.97101046, 0.58729111, 0.96656908, 0.5512315 ,\n       0.25105365, 0.74056256, 0.82037849, 0.01529383, 0.65634291,\n       0.64467797, 0.15581657, 0.87193105, 0.12350297, 0.55437883,\n       0.62342202, 0.61254192, 0.1739835 , 0.51312587, 0.43112849,\n       0.48103864, 0.58671825, 0.2024347 , 0.19854239, 0.55437883,\n       0.24670513, 0.03461493, 0.06332682, 0.74557688, 0.54974638,\n       0.44716452, 0.23178155, 0.43073634, 0.18354084, 0.23178155,\n       0.8298138 , 0.73505361, 0.54953985, 0.55170046, 0.54054672,\n       0.25900465, 0.20662192, 0.28822552, 0.91951522, 0.57048557,\n       0.46069158, 0.2744226 , 0.24611723, 0.57048557, 0.30466773,\n       0.31190345, 0.72999047, 0.18586487, 0.88312708, 0.14537237,\n       0.1643606 , 0.9092334 , 0.14513679, 0.12781749, 0.54856163,\n       0.23792956, 0.76395538, 0.152748  , 0.18872361, 0.13466353,\n       0.11861913, 0.39129005, 0.11842089, 0.52363928, 0.19482659,\n       0.64494095, 0.152748  , 0.13466353, 0.18872361, 0.43914492,\n       0.23032035, 0.11842089, 0.36523881, 0.1348848 , 0.152748  ,\n       0.47517041, 0.11842089, 0.49210937, 0.31816689, 0.19482659,\n       0.67787104, 0.17277619, 0.39190302, 0.23792956, 0.152748  ,\n       0.13466353, 0.20575094, 0.18400865, 0.41031514, 0.21263094,\n       0.375242  , 0.61106709, 0.14384909, 0.17816955, 0.12666069,\n       0.17816955, 0.09768852, 0.30307825, 0.89983337, 0.53105685,\n       0.14384909, 0.12666069, 0.09768852, 0.56746553, 0.80191021,\n       0.18400865, 0.66229355, 0.16293485, 0.59527698, 0.18903855,\n       0.14384909, 0.30915897, 0.12666069, 0.09768852, 0.11125922,\n       0.13819909, 0.21600089, 0.76330083, 0.12158993, 0.10672969,\n       0.48313329, 0.93088156, 0.82965419, 0.64791963, 0.54577402,\n       0.87917273, 0.80114321, 0.51056958, 0.09222206, 0.97743499,\n       0.43550036, 0.24841931, 0.4676991 , 0.47236551, 0.2475272 ,\n       0.09222206, 0.72371633, 0.40043052, 0.09222206, 0.42243302,\n       0.62751715, 0.58894786, 0.09222206, 0.3727205 , 0.86236015,\n       0.2336511 , 0.47305324, 0.56188551, 0.4070988 , 0.353539  ,\n       0.79163975, 0.9074525 , 0.3604915 , 0.09245331, 0.27744498,\n       0.65850467, 0.15165231, 0.01335492, 0.1202801 , 0.01710995,\n       0.33223887, 0.83174358, 0.7042026 , 0.38784289, 0.67202494,\n       0.57893559, 0.83087916, 0.20834357, 0.353539  , 0.09245331,\n       0.85587518, 0.38765863, 0.20786517, 0.73292489, 0.64854879,\n       0.68080631, 0.13740338, 0.11812184, 0.51121377, 0.30004376,\n       0.70437   , 0.38402973, 0.10609286, 0.01013053, 0.02979597,\n       0.70437   , 0.44442614, 0.38917892, 0.64696583, 0.26225895,\n       0.11387098, 0.53448433, 0.60645081, 0.12958128, 0.69317022,\n       0.48523722, 0.75105174, 0.26729211, 0.7225406 , 0.29828673,\n       0.21371669, 0.57258593, 0.29393079, 0.98709887, 0.94263217,\n       0.84015875, 0.18357096, 0.65170168, 0.10627918])"
     },
     "execution_count": 68,
     "metadata": {},
     "output_type": "execute_result"
    }
   ],
   "source": [
    "probability[:,1]"
   ],
   "metadata": {
    "collapsed": false,
    "ExecuteTime": {
     "end_time": "2024-04-19T09:11:43.702260Z",
     "start_time": "2024-04-19T09:11:43.688331Z"
    }
   },
   "id": "f186fe2d9894f7c4",
   "execution_count": 68
  },
  {
   "cell_type": "code",
   "outputs": [],
   "source": [
    "processed_df['Probability'] = probability[:,1]"
   ],
   "metadata": {
    "collapsed": false,
    "ExecuteTime": {
     "end_time": "2024-04-19T09:11:57.500055Z",
     "start_time": "2024-04-19T09:11:57.493028Z"
    }
   },
   "id": "125f6b7f584659a8",
   "execution_count": 70
  },
  {
   "cell_type": "code",
   "outputs": [
    {
     "data": {
      "text/plain": "     Category_1  Category_2  Category_3  Category_4  Month of absence  \\\n0           0.0         0.0         0.0         1.0               7.0   \n1           0.0         0.0         0.0         0.0               7.0   \n2           0.0         0.0         0.0         1.0               7.0   \n3           1.0         0.0         0.0         0.0               7.0   \n4           0.0         0.0         0.0         1.0               7.0   \n..          ...         ...         ...         ...               ...   \n634         1.0         0.0         0.0         0.0               7.0   \n635         1.0         0.0         0.0         0.0               7.0   \n636         0.0         0.0         0.0         0.0               0.0   \n637         0.0         0.0         0.0         0.0               0.0   \n638         0.0         0.0         0.0         0.0               0.0   \n\n     Day of the week  Seasons  Transportation expense  \\\n0                  3        1                   289.0   \n1                  3        1                   118.0   \n2                  4        1                   179.0   \n3                  5        1                   279.0   \n4                  5        1                   289.0   \n..               ...      ...                     ...   \n634                3        1                   289.0   \n635                3        1                   235.0   \n636                3        1                   118.0   \n637                4        2                   231.0   \n638                6        3                   179.0   \n\n     Distance from Residence to Work  Service time  ...  Social drinker  \\\n0                               36.0          13.0  ...             1.0   \n1                               13.0          18.0  ...             1.0   \n2                               51.0          18.0  ...             1.0   \n3                                5.0          14.0  ...             1.0   \n4                               36.0          13.0  ...             1.0   \n..                               ...           ...  ...             ...   \n634                             36.0          13.0  ...             1.0   \n635                             11.0          14.0  ...             0.0   \n636                             14.0          13.0  ...             1.0   \n637                             35.0          14.0  ...             1.0   \n638                             45.0          14.0  ...             0.0   \n\n     Social smoker  Pet  Weight  Height  Body mass index  \\\n0              0.0  1.0    90.0   172.0             30.0   \n1              0.0  0.0    98.0   178.0             31.0   \n2              0.0  0.0    89.0   170.0             31.0   \n3              1.0  0.0    68.0   168.0             24.0   \n4              0.0  1.0    90.0   172.0             30.0   \n..             ...  ...     ...     ...              ...   \n634            0.0  1.0    90.0   172.0             30.0   \n635            0.0  1.0    88.0   172.0             29.0   \n636            0.0  8.0    98.0   170.0             34.0   \n637            0.0  2.0   100.0   170.0             35.0   \n638            0.0  1.0    77.0   175.0             25.0   \n\n     Absenteeism time in hours  Excessive Absenteeism  Predictions  \\\n0                          4.0                      1            1   \n1                          0.0                      0            0   \n2                          2.0                      0            0   \n3                          4.0                      1            1   \n4                          2.0                      0            1   \n..                         ...                    ...          ...   \n634                        8.0                      1            1   \n635                        4.0                      1            1   \n636                        0.0                      0            0   \n637                        0.0                      0            1   \n638                        0.0                      0            0   \n\n     Probability  \n0       0.723468  \n1       0.021609  \n2       0.205070  \n3       0.954670  \n4       0.660937  \n..           ...  \n634     0.942632  \n635     0.840159  \n636     0.183571  \n637     0.651702  \n638     0.106279  \n\n[639 rows x 26 columns]",
      "text/html": "<div>\n<style scoped>\n    .dataframe tbody tr th:only-of-type {\n        vertical-align: middle;\n    }\n\n    .dataframe tbody tr th {\n        vertical-align: top;\n    }\n\n    .dataframe thead th {\n        text-align: right;\n    }\n</style>\n<table border=\"1\" class=\"dataframe\">\n  <thead>\n    <tr style=\"text-align: right;\">\n      <th></th>\n      <th>Category_1</th>\n      <th>Category_2</th>\n      <th>Category_3</th>\n      <th>Category_4</th>\n      <th>Month of absence</th>\n      <th>Day of the week</th>\n      <th>Seasons</th>\n      <th>Transportation expense</th>\n      <th>Distance from Residence to Work</th>\n      <th>Service time</th>\n      <th>...</th>\n      <th>Social drinker</th>\n      <th>Social smoker</th>\n      <th>Pet</th>\n      <th>Weight</th>\n      <th>Height</th>\n      <th>Body mass index</th>\n      <th>Absenteeism time in hours</th>\n      <th>Excessive Absenteeism</th>\n      <th>Predictions</th>\n      <th>Probability</th>\n    </tr>\n  </thead>\n  <tbody>\n    <tr>\n      <th>0</th>\n      <td>0.0</td>\n      <td>0.0</td>\n      <td>0.0</td>\n      <td>1.0</td>\n      <td>7.0</td>\n      <td>3</td>\n      <td>1</td>\n      <td>289.0</td>\n      <td>36.0</td>\n      <td>13.0</td>\n      <td>...</td>\n      <td>1.0</td>\n      <td>0.0</td>\n      <td>1.0</td>\n      <td>90.0</td>\n      <td>172.0</td>\n      <td>30.0</td>\n      <td>4.0</td>\n      <td>1</td>\n      <td>1</td>\n      <td>0.723468</td>\n    </tr>\n    <tr>\n      <th>1</th>\n      <td>0.0</td>\n      <td>0.0</td>\n      <td>0.0</td>\n      <td>0.0</td>\n      <td>7.0</td>\n      <td>3</td>\n      <td>1</td>\n      <td>118.0</td>\n      <td>13.0</td>\n      <td>18.0</td>\n      <td>...</td>\n      <td>1.0</td>\n      <td>0.0</td>\n      <td>0.0</td>\n      <td>98.0</td>\n      <td>178.0</td>\n      <td>31.0</td>\n      <td>0.0</td>\n      <td>0</td>\n      <td>0</td>\n      <td>0.021609</td>\n    </tr>\n    <tr>\n      <th>2</th>\n      <td>0.0</td>\n      <td>0.0</td>\n      <td>0.0</td>\n      <td>1.0</td>\n      <td>7.0</td>\n      <td>4</td>\n      <td>1</td>\n      <td>179.0</td>\n      <td>51.0</td>\n      <td>18.0</td>\n      <td>...</td>\n      <td>1.0</td>\n      <td>0.0</td>\n      <td>0.0</td>\n      <td>89.0</td>\n      <td>170.0</td>\n      <td>31.0</td>\n      <td>2.0</td>\n      <td>0</td>\n      <td>0</td>\n      <td>0.205070</td>\n    </tr>\n    <tr>\n      <th>3</th>\n      <td>1.0</td>\n      <td>0.0</td>\n      <td>0.0</td>\n      <td>0.0</td>\n      <td>7.0</td>\n      <td>5</td>\n      <td>1</td>\n      <td>279.0</td>\n      <td>5.0</td>\n      <td>14.0</td>\n      <td>...</td>\n      <td>1.0</td>\n      <td>1.0</td>\n      <td>0.0</td>\n      <td>68.0</td>\n      <td>168.0</td>\n      <td>24.0</td>\n      <td>4.0</td>\n      <td>1</td>\n      <td>1</td>\n      <td>0.954670</td>\n    </tr>\n    <tr>\n      <th>4</th>\n      <td>0.0</td>\n      <td>0.0</td>\n      <td>0.0</td>\n      <td>1.0</td>\n      <td>7.0</td>\n      <td>5</td>\n      <td>1</td>\n      <td>289.0</td>\n      <td>36.0</td>\n      <td>13.0</td>\n      <td>...</td>\n      <td>1.0</td>\n      <td>0.0</td>\n      <td>1.0</td>\n      <td>90.0</td>\n      <td>172.0</td>\n      <td>30.0</td>\n      <td>2.0</td>\n      <td>0</td>\n      <td>1</td>\n      <td>0.660937</td>\n    </tr>\n    <tr>\n      <th>...</th>\n      <td>...</td>\n      <td>...</td>\n      <td>...</td>\n      <td>...</td>\n      <td>...</td>\n      <td>...</td>\n      <td>...</td>\n      <td>...</td>\n      <td>...</td>\n      <td>...</td>\n      <td>...</td>\n      <td>...</td>\n      <td>...</td>\n      <td>...</td>\n      <td>...</td>\n      <td>...</td>\n      <td>...</td>\n      <td>...</td>\n      <td>...</td>\n      <td>...</td>\n      <td>...</td>\n    </tr>\n    <tr>\n      <th>634</th>\n      <td>1.0</td>\n      <td>0.0</td>\n      <td>0.0</td>\n      <td>0.0</td>\n      <td>7.0</td>\n      <td>3</td>\n      <td>1</td>\n      <td>289.0</td>\n      <td>36.0</td>\n      <td>13.0</td>\n      <td>...</td>\n      <td>1.0</td>\n      <td>0.0</td>\n      <td>1.0</td>\n      <td>90.0</td>\n      <td>172.0</td>\n      <td>30.0</td>\n      <td>8.0</td>\n      <td>1</td>\n      <td>1</td>\n      <td>0.942632</td>\n    </tr>\n    <tr>\n      <th>635</th>\n      <td>1.0</td>\n      <td>0.0</td>\n      <td>0.0</td>\n      <td>0.0</td>\n      <td>7.0</td>\n      <td>3</td>\n      <td>1</td>\n      <td>235.0</td>\n      <td>11.0</td>\n      <td>14.0</td>\n      <td>...</td>\n      <td>0.0</td>\n      <td>0.0</td>\n      <td>1.0</td>\n      <td>88.0</td>\n      <td>172.0</td>\n      <td>29.0</td>\n      <td>4.0</td>\n      <td>1</td>\n      <td>1</td>\n      <td>0.840159</td>\n    </tr>\n    <tr>\n      <th>636</th>\n      <td>0.0</td>\n      <td>0.0</td>\n      <td>0.0</td>\n      <td>0.0</td>\n      <td>0.0</td>\n      <td>3</td>\n      <td>1</td>\n      <td>118.0</td>\n      <td>14.0</td>\n      <td>13.0</td>\n      <td>...</td>\n      <td>1.0</td>\n      <td>0.0</td>\n      <td>8.0</td>\n      <td>98.0</td>\n      <td>170.0</td>\n      <td>34.0</td>\n      <td>0.0</td>\n      <td>0</td>\n      <td>0</td>\n      <td>0.183571</td>\n    </tr>\n    <tr>\n      <th>637</th>\n      <td>0.0</td>\n      <td>0.0</td>\n      <td>0.0</td>\n      <td>0.0</td>\n      <td>0.0</td>\n      <td>4</td>\n      <td>2</td>\n      <td>231.0</td>\n      <td>35.0</td>\n      <td>14.0</td>\n      <td>...</td>\n      <td>1.0</td>\n      <td>0.0</td>\n      <td>2.0</td>\n      <td>100.0</td>\n      <td>170.0</td>\n      <td>35.0</td>\n      <td>0.0</td>\n      <td>0</td>\n      <td>1</td>\n      <td>0.651702</td>\n    </tr>\n    <tr>\n      <th>638</th>\n      <td>0.0</td>\n      <td>0.0</td>\n      <td>0.0</td>\n      <td>0.0</td>\n      <td>0.0</td>\n      <td>6</td>\n      <td>3</td>\n      <td>179.0</td>\n      <td>45.0</td>\n      <td>14.0</td>\n      <td>...</td>\n      <td>0.0</td>\n      <td>0.0</td>\n      <td>1.0</td>\n      <td>77.0</td>\n      <td>175.0</td>\n      <td>25.0</td>\n      <td>0.0</td>\n      <td>0</td>\n      <td>0</td>\n      <td>0.106279</td>\n    </tr>\n  </tbody>\n</table>\n<p>639 rows × 26 columns</p>\n</div>"
     },
     "execution_count": 71,
     "metadata": {},
     "output_type": "execute_result"
    }
   ],
   "source": [
    "processed_df"
   ],
   "metadata": {
    "collapsed": false,
    "ExecuteTime": {
     "end_time": "2024-04-19T09:12:03.590257Z",
     "start_time": "2024-04-19T09:12:03.557104Z"
    }
   },
   "id": "1884906bef4d86a3",
   "execution_count": 71
  },
  {
   "cell_type": "code",
   "outputs": [],
   "source": [
    "processed_df.to_csv('Processed_Final_Absenteeism.csv',index = False)"
   ],
   "metadata": {
    "collapsed": false,
    "ExecuteTime": {
     "end_time": "2024-04-19T09:12:30.434330Z",
     "start_time": "2024-04-19T09:12:30.392741Z"
    }
   },
   "id": "8fc34f6247c8b7ed",
   "execution_count": 72
  }
 ],
 "metadata": {
  "kernelspec": {
   "display_name": "Python 3",
   "language": "python",
   "name": "python3"
  },
  "language_info": {
   "codemirror_mode": {
    "name": "ipython",
    "version": 2
   },
   "file_extension": ".py",
   "mimetype": "text/x-python",
   "name": "python",
   "nbconvert_exporter": "python",
   "pygments_lexer": "ipython2",
   "version": "2.7.6"
  }
 },
 "nbformat": 4,
 "nbformat_minor": 5
}
